{
 "cells": [
  {
   "cell_type": "markdown",
   "id": "2043d092-a853-41d5-bfac-04d903303433",
   "metadata": {},
   "source": [
    "### Пайплайн для стекинга моделей"
   ]
  },
  {
   "cell_type": "code",
   "execution_count": null,
   "id": "3cb36f51-a561-4f57-ab0e-29ee363bf119",
   "metadata": {},
   "outputs": [],
   "source": [
    "import os\n",
    "os.environ['NUMEXPR_MAX_THREADS'] = '32'\n",
    "os.environ['NUMEXPR_NUM_THREADS'] = '30'\n",
    "os.environ[\"CUDA_VISIBLE_DEVICES\"] = '1'"
   ]
  },
  {
   "cell_type": "code",
   "execution_count": null,
   "id": "e41e01b5-e8de-4b29-a237-af5c38e0c068",
   "metadata": {},
   "outputs": [],
   "source": [
    "import pandas as pd\n",
    "from sklearn import metrics\n",
    "import numpy as np"
   ]
  },
  {
   "cell_type": "code",
   "execution_count": null,
   "id": "ec5ca13b-72f0-4d99-8253-4d5da3e9909c",
   "metadata": {},
   "outputs": [],
   "source": [
    "from sklearn import metrics\n",
    "from sklearn.preprocessing import LabelEncoder\n",
    "from lifelines.utils import concordance_index\n",
    "\n",
    "import random\n",
    "import warnings\n",
    "\n",
    "warnings.simplefilter('ignore')\n",
    "\n",
    "pd.options.display.max_columns = 100\n",
    "pd.options.display.max_rows = 100\n",
    "\n",
    "random.seed(42)\n",
    "np.random.seed(42)"
   ]
  },
  {
   "cell_type": "code",
   "execution_count": null,
   "id": "4eeca649-670a-452b-a413-ffc1caec7d74",
   "metadata": {},
   "outputs": [],
   "source": [
    "main = pd.read_csv('data/train.csv')\n",
    "real = pd.read_csv('data/sample_submit_naive.csv').drop('predict', axis=1)\n",
    "main = pd.concat([main, real])"
   ]
  },
  {
   "cell_type": "code",
   "execution_count": null,
   "id": "bc442ee2-c4ae-4a68-86e9-d0bd7bc7fdfa",
   "metadata": {},
   "outputs": [],
   "source": [
    "test_ids = pd.read_csv('data/test_ids.csv')\n",
    "train_, test_ = main.loc[~(main['user_id'].isin(test_ids['user_id'])) & ~(main['user_id'].isin(real['user_id']))], main.loc[main['user_id'].isin(test_ids['user_id'])]\n",
    "train_ = train_.drop(['target', 'time'], axis=1)\n",
    "test_ = test_.drop(['target', 'time'], axis=1)"
   ]
  },
  {
   "cell_type": "code",
   "execution_count": null,
   "id": "5fbfdcc2-4c0f-497a-9a6e-2733aad6c728",
   "metadata": {},
   "outputs": [],
   "source": [
    "agg = pd.read_csv('predictions/agg_kdimon15_pred_meta.csv')\n",
    "agg_1 = pd.read_csv('predictions/agg_0010_meta.csv')\n",
    "\n",
    "emb = pd.read_csv('predictions/coles_coles-wtte-preds.csv')\n",
    "emb_1 = pd.read_csv('predictions/coles_coles-wtte_clusters-preds.csv')\n",
    "emb_2 = pd.read_csv('predictions/coles_wtte-rnn-preds.csv')\n",
    "\n",
    "time = pd.read_csv('predictions/time_0010_pred_meta.csv')\n",
    "time_1 = pd.read_csv('predictions/time_pred_meta.csv')\n",
    "\n",
    "tfidf = pd.read_csv('predictions/agg_trx_td-idf.csv')\n",
    "\n",
    "supervised = pd.read_csv('predictions/sup-preds.csv')\n",
    "supervised_wtte = pd.read_csv('predictions/sup-wtte-preds.csv')"
   ]
  },
  {
   "cell_type": "code",
   "execution_count": null,
   "id": "4472dac9-7d70-450a-9cd1-848853285eea",
   "metadata": {},
   "outputs": [],
   "source": [
    "main = main.merge(agg, on='user_id')\n",
    "main = main.merge(agg_1, on='user_id')\n",
    "\n",
    "main = main.merge(emb, on='user_id')\n",
    "main = main.merge(emb_1, on='user_id')\n",
    "main = main.merge(emb_2, on='user_id')\n",
    "\n",
    "\n",
    "main = main.merge(time, on='user_id')\n",
    "main = main.merge(time_1, on='user_id')\n",
    "\n",
    "main = main.merge(tfidf, on='user_id')\n",
    "\n",
    "main = main.merge(supervised, on='user_id')\n",
    "main = main.drop(['index'], axis=1)\n",
    "main = main.merge(supervised_wtte, on='user_id')\n",
    "main['sp_x'] =  (main['sp_x'] - main['sp_x'].min()) / (main['sp_x'].max() - main['sp_x'].min())\n",
    "main['sp_y'] =  (main['sp_y'] - main['sp_y'].min()) / (main['sp_y'].max() - main['sp_y'].min())\n",
    "\n",
    "main"
   ]
  },
  {
   "cell_type": "code",
   "execution_count": null,
   "id": "19bb9c46-b48b-4b0b-bfbd-7643cd2d9548",
   "metadata": {},
   "outputs": [],
   "source": [
    "train = train_.merge(main, on='user_id')\n",
    "test = test_.merge(main, on='user_id')"
   ]
  },
  {
   "cell_type": "code",
   "execution_count": null,
   "id": "bb2aa5f9-ef8c-4069-bead-fbc745fd2c66",
   "metadata": {},
   "outputs": [],
   "source": [
    "train"
   ]
  },
  {
   "cell_type": "code",
   "execution_count": null,
   "id": "02a03078-e67c-4be3-b8bd-db59a0869d1e",
   "metadata": {},
   "outputs": [],
   "source": [
    "X_train, y_train = train.drop(['target', 'user_id', 'time'], axis=1), train['target']\n",
    "X_train"
   ]
  },
  {
   "cell_type": "code",
   "execution_count": null,
   "id": "c5985a6b-03ee-44b2-b3a4-91e6f1e9978c",
   "metadata": {
    "tags": []
   },
   "outputs": [],
   "source": [
    "from sklearn import linear_model\n",
    "reg = linear_model.Ridge(alpha=12.85,\n",
    "                         random_state = 42,\n",
    "                        )\n",
    "reg.fit(X_train, y_train)"
   ]
  },
  {
   "cell_type": "code",
   "execution_count": null,
   "id": "9a7b7f68-d343-449c-a7b4-84b3f63ab2bb",
   "metadata": {},
   "outputs": [],
   "source": [
    "y_pred = reg.predict(test.drop(['target', 'user_id', 'time'], axis=1))\n",
    "y_pred.shape"
   ]
  },
  {
   "cell_type": "code",
   "execution_count": null,
   "id": "9ed4932a-ed45-4e5f-9452-4a5d7162fc9e",
   "metadata": {},
   "outputs": [],
   "source": [
    "reg.coef_"
   ]
  },
  {
   "cell_type": "code",
   "execution_count": null,
   "id": "e6a23ecc-bd23-4212-b609-ef94e5cdd924",
   "metadata": {},
   "outputs": [],
   "source": [
    "print(metrics.roc_auc_score(test['target'], y_pred))"
   ]
  },
  {
   "cell_type": "code",
   "execution_count": null,
   "id": "c386cee2-4a23-4e6d-a368-63f337b9b069",
   "metadata": {
    "tags": []
   },
   "outputs": [],
   "source": [
    "concordance_index(test['time'], -y_pred, test['target'])"
   ]
  },
  {
   "cell_type": "code",
   "execution_count": null,
   "id": "ce40eead-df2f-40fa-90ae-71dfcbd32b3e",
   "metadata": {},
   "outputs": [],
   "source": [
    "real = real.merge(main, on='user_id')"
   ]
  },
  {
   "cell_type": "code",
   "execution_count": null,
   "id": "0f29863a-08cd-42a6-8627-61d4bae5a1dd",
   "metadata": {},
   "outputs": [],
   "source": [
    "real"
   ]
  },
  {
   "cell_type": "code",
   "execution_count": null,
   "id": "55d8b423-403d-4bdd-8f24-82b0cfa73969",
   "metadata": {},
   "outputs": [],
   "source": [
    "y_pred = reg.predict(real.drop(['user_id', 'target', 'time'], axis=1))\n",
    "y_pred.shape"
   ]
  },
  {
   "cell_type": "code",
   "execution_count": null,
   "id": "d1318adc-205e-43b5-9ad9-e109c72f0efe",
   "metadata": {},
   "outputs": [],
   "source": [
    "# Финальный предикт\n",
    "pred = {'user_id': real.user_id.values, 'predict': y_pred}\n",
    "\n",
    "pd.DataFrame(pred).to_csv('predictions/submission.csv', index=False)"
   ]
  },
  {
   "cell_type": "code",
   "execution_count": null,
   "id": "1d06e630-e36f-4a55-aa4c-3da60820958b",
   "metadata": {},
   "outputs": [],
   "source": []
  }
 ],
 "metadata": {
  "kernelspec": {
   "display_name": "datafusion",
   "language": "python",
   "name": "datafusion"
  },
  "language_info": {
   "codemirror_mode": {
    "name": "ipython",
    "version": 3
   },
   "file_extension": ".py",
   "mimetype": "text/x-python",
   "name": "python",
   "nbconvert_exporter": "python",
   "pygments_lexer": "ipython3",
   "version": "3.8.18"
  }
 },
 "nbformat": 4,
 "nbformat_minor": 5
}
