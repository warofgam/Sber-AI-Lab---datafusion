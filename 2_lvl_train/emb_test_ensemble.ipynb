{
 "cells": [
  {
   "cell_type": "code",
   "execution_count": null,
   "id": "f0032fcb-5701-4f57-87f6-aaf2a6377394",
   "metadata": {},
   "outputs": [],
   "source": [
    "import os\n",
    "os.environ['NUMEXPR_MAX_THREADS'] = '32'\n",
    "os.environ['NUMEXPR_NUM_THREADS'] = '30'\n",
    "os.environ[\"CUDA_VISIBLE_DEVICES\"] = '0'"
   ]
  },
  {
   "cell_type": "code",
   "execution_count": null,
   "id": "9e5ceb30-e912-4743-a57a-6fc762cdefe1",
   "metadata": {},
   "outputs": [],
   "source": [
    "import pandas as pd\n",
    "import numpy as np\n",
    "from catboost import CatBoostClassifier, CatBoostRegressor, Pool\n",
    "from sklearn.model_selection import StratifiedKFold\n",
    "from sklearn import metrics\n",
    "from sklearn.preprocessing import LabelEncoder\n",
    "import random\n",
    "import warnings\n",
    "\n",
    "warnings.simplefilter('ignore')\n",
    "\n",
    "pd.options.display.max_columns = 100\n",
    "pd.options.display.max_rows = 100\n",
    "\n",
    "random.seed(42)\n",
    "np.random.seed(42)"
   ]
  },
  {
   "cell_type": "code",
   "execution_count": null,
   "id": "23f98b7e-294a-4e64-8173-3289cf0f7e91",
   "metadata": {},
   "outputs": [],
   "source": [
    "main = pd.read_csv('../data/train.csv')\n",
    "\n",
    "sample = pd.read_csv('../data/sample_submit_naive.csv').drop('predict', axis=1)\n",
    "sample['target'] = -1\n",
    "test_ids = pd.read_csv('../data/test_ids.csv')\n",
    "\n",
    "main = pd.concat([main, sample])"
   ]
  },
  {
   "cell_type": "code",
   "execution_count": null,
   "id": "2ecdea3e-fc89-436a-82bb-7f33897f0c0e",
   "metadata": {
    "tags": []
   },
   "outputs": [],
   "source": [
    "from sklearn.model_selection import train_test_split\n",
    "predict = np.zeros(12800)\n",
    "metadatas = []\n",
    "for i in range(1, 6):\n",
    "    frames_for_metamodel = []\n",
    "    embeddings_path = f'../embeddings/coles_{i}.csv'\n",
    "    main_embs = pd.read_csv(embeddings_path)\n",
    "    new_embs = pd.read_csv(f'../embeddings/wtte_coles_{i}.csv')\n",
    "    main_embs = main_embs.merge(new_embs, on='user_id')\n",
    "    train = main[main.target != -1]\n",
    "    test = main[main.target == -1]\n",
    "    train_with_embs = train.merge(main_embs, on='user_id')\n",
    "    test_with_embs = test.merge(main_embs, on='user_id')\n",
    "    train, test = train_with_embs.loc[~train_with_embs['user_id'].isin(test_ids['user_id'])], train_with_embs.loc[train_with_embs['user_id'].isin(test_ids['user_id'])]\n",
    "    strat_kfold = StratifiedKFold(n_splits=5, shuffle=True, random_state=i)\n",
    "\n",
    "    X, y = train.drop(['time', 'target'], axis=1), train['target']\n",
    "    scores = []\n",
    "\n",
    "    models = []\n",
    "    for train_index, valid_index in strat_kfold.split(train, train['target']):\n",
    "\n",
    "        X_train, X_val = X.iloc[train_index], X.iloc[valid_index]\n",
    "        y_train, y_val = y.iloc[train_index], y.iloc[valid_index]\n",
    "        X_train1 = X_train.drop(['user_id'], axis=1)\n",
    "        X_val1 = X_val.drop(['user_id'], axis=1)\n",
    "        model = CatBoostClassifier(\n",
    "            iterations = 15000,\n",
    "            depth=5,\n",
    "            learning_rate=0.025,\n",
    "            eval_metric='AUC',\n",
    "            early_stopping_rounds=1000,\n",
    "            task_type=\"GPU\",\n",
    "            random_seed=42,\n",
    "            use_best_model = True,\n",
    "            l2_leaf_reg=5\n",
    "        )\n",
    "\n",
    "        model.fit(Pool(X_train1, y_train),\n",
    "                  eval_set=Pool(X_val1, y_val),\n",
    "                  verbose=1000)\n",
    "        models.append(model)\n",
    "\n",
    "        pred = model.predict_proba(X_val1)[:, 1]\n",
    "        scores.append(metrics.roc_auc_score(y_val, pred))\n",
    "        frames_for_metamodel.append(pd.DataFrame({'user_id': X_val.user_id.values, 'pred_emb': pred}))\n",
    "    metadata = pd.concat(frames_for_metamodel, axis=0).reset_index()\n",
    "    metadatas.append(metadata)\n",
    "    for j in range(len(models)):\n",
    "        predict += models[j].predict_proba(test.drop(['target'], axis=1))[:, 1]\n",
    "\n",
    "    print(metrics.roc_auc_score(test['target'], predict))"
   ]
  },
  {
   "cell_type": "code",
   "execution_count": null,
   "id": "3c8c121c-16a3-46b6-ac3f-69cb273c9804",
   "metadata": {},
   "outputs": [],
   "source": [
    "agg_metadata = metadatas[0].drop('index', axis = 1)\n",
    "for i in range(1,5):\n",
    "    agg_metadata=agg_metadata.merge(metadatas[i].drop('index', axis = 1).rename(columns={\"pred_emb\": f\"pred_emb{i}\"}), on='user_id')\n",
    "agg_metadata['pred_emb_sum'] = (agg_metadata['pred_emb'] + agg_metadata['pred_emb1'] + agg_metadata['pred_emb2'] + agg_metadata['pred_emb3'] + agg_metadata['pred_emb4'])/5"
   ]
  },
  {
   "cell_type": "code",
   "execution_count": null,
   "id": "7ea2dd6f-1774-4187-851b-2047738c3cb4",
   "metadata": {},
   "outputs": [],
   "source": [
    "test_preds = {'pred_emb_sum': predict/25}\n",
    "test_preds['user_id'] = test['user_id']\n",
    "test_preds = pd.DataFrame(test_preds)"
   ]
  },
  {
   "cell_type": "code",
   "execution_count": null,
   "id": "a2304c97-be73-4ed3-a992-af5b5e16e802",
   "metadata": {},
   "outputs": [],
   "source": [
    "final_prediction = pd.concat([agg_metadata[['user_id', 'pred_emb_sum']], test_preds])"
   ]
  },
  {
   "cell_type": "code",
   "execution_count": null,
   "id": "53fbcdde-94d7-485e-b9d7-1388c40854bd",
   "metadata": {
    "tags": []
   },
   "outputs": [],
   "source": [
    "from sklearn.model_selection import train_test_split\n",
    "predict = np.zeros(32000)\n",
    "for i in range(1, 6):\n",
    "    frames_for_metamodel = []\n",
    "    embeddings_path = f'../embeddings/coles_{i}.csv'\n",
    "    main_embs = pd.read_csv(embeddings_path)\n",
    "    new_embs = pd.read_csv(f'../embeddings/wtte_coles_{i}.csv')\n",
    "    main_embs = main_embs.merge(new_embs, on='user_id')\n",
    "    train = main[main.target != -1]\n",
    "    test = main[main.target == -1]\n",
    "    train_with_embs = train.merge(main_embs, on='user_id')\n",
    "    test_with_embs = test.merge(main_embs, on='user_id')\n",
    "    strat_kfold = StratifiedKFold(n_splits=5, shuffle=True, random_state=i)\n",
    "\n",
    "    X, y = train_with_embs.drop(['time', 'target'], axis=1), train_with_embs['target']\n",
    "    scores = []\n",
    "\n",
    "    models = []\n",
    "    for train_index, valid_index in strat_kfold.split(train_with_embs, train_with_embs['target']):\n",
    "\n",
    "        X_train, X_val = X.iloc[train_index], X.iloc[valid_index]\n",
    "        y_train, y_val = y.iloc[train_index], y.iloc[valid_index]\n",
    "        X_train1 = X_train.drop(['user_id'], axis=1)\n",
    "        X_val1 = X_val.drop(['user_id'], axis=1)\n",
    "        model = CatBoostClassifier(\n",
    "            iterations = 15000,\n",
    "            depth=5,\n",
    "            learning_rate=0.025,\n",
    "            eval_metric='AUC',\n",
    "            early_stopping_rounds=1000,\n",
    "            task_type=\"GPU\",\n",
    "            random_seed=42,\n",
    "            use_best_model = True,\n",
    "            l2_leaf_reg=5\n",
    "        )\n",
    "\n",
    "        model.fit(Pool(X_train1, y_train),\n",
    "                  eval_set=Pool(X_val1, y_val),\n",
    "                  verbose=100)\n",
    "        models.append(model)\n",
    "\n",
    "        pred = model.predict_proba(X_val1)[:, 1]\n",
    "        scores.append(metrics.roc_auc_score(y_val, pred))\n",
    "    for j in range(len(models)):\n",
    "        predict += models[j].predict_proba(test_with_embs.drop(['target', 'user_id', 'time'], axis=1))[:, 1]\n"
   ]
  },
  {
   "cell_type": "code",
   "execution_count": null,
   "id": "c0d10573-2b45-4994-8dfa-ccd68010cc49",
   "metadata": {},
   "outputs": [],
   "source": [
    "sbmt_preds = {'pred_emb_sum': predict/25}\n",
    "sbmt_preds['user_id'] = test['user_id']\n",
    "sbmt_preds = pd.DataFrame(sbmt_preds)"
   ]
  },
  {
   "cell_type": "code",
   "execution_count": null,
   "id": "dcb7272f-920a-404e-ada8-530eeaf74659",
   "metadata": {
    "tags": []
   },
   "outputs": [],
   "source": [
    "final_prediction = pd.concat([final_prediction, sbmt_preds])"
   ]
  },
  {
   "cell_type": "code",
   "execution_count": null,
   "id": "c82da669-730e-4bf6-842d-70ab67eb981e",
   "metadata": {},
   "outputs": [],
   "source": [
    "final_prediction.to_csv(\"../predictions/coles_coles-wtte-preds.csv\", index=False)"
   ]
  },
  {
   "cell_type": "code",
   "execution_count": null,
   "id": "cbe51bca-aa4e-40ad-aca8-01b7a72baa4a",
   "metadata": {},
   "outputs": [],
   "source": []
  }
 ],
 "metadata": {
  "kernelspec": {
   "display_name": "datafusion",
   "language": "python",
   "name": "datafusion"
  },
  "language_info": {
   "codemirror_mode": {
    "name": "ipython",
    "version": 3
   },
   "file_extension": ".py",
   "mimetype": "text/x-python",
   "name": "python",
   "nbconvert_exporter": "python",
   "pygments_lexer": "ipython3",
   "version": "3.8.18"
  }
 },
 "nbformat": 4,
 "nbformat_minor": 5
}
