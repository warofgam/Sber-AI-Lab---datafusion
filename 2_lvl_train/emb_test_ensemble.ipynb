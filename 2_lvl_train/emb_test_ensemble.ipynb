{
 "cells": [
  {
   "cell_type": "code",
   "execution_count": 1,
   "id": "f0032fcb-5701-4f57-87f6-aaf2a6377394",
   "metadata": {},
   "outputs": [],
   "source": [
    "import os\n",
    "os.environ['NUMEXPR_MAX_THREADS'] = '32'\n",
    "os.environ['NUMEXPR_NUM_THREADS'] = '30'\n",
    "os.environ[\"CUDA_VISIBLE_DEVICES\"] = '0'"
   ]
  },
  {
   "cell_type": "code",
   "execution_count": 2,
   "id": "9e5ceb30-e912-4743-a57a-6fc762cdefe1",
   "metadata": {},
   "outputs": [
    {
     "name": "stderr",
     "output_type": "stream",
     "text": [
      "\n",
      "libgomp: Invalid value for environment variable OMP_NUM_THREADS\n"
     ]
    }
   ],
   "source": [
    "import pandas as pd\n",
    "import numpy as np\n",
    "from catboost import CatBoostClassifier, CatBoostRegressor, Pool\n",
    "from sklearn.model_selection import StratifiedKFold\n",
    "from sklearn import metrics\n",
    "from sklearn.preprocessing import LabelEncoder\n",
    "import random\n",
    "import warnings\n",
    "\n",
    "warnings.simplefilter('ignore')\n",
    "\n",
    "pd.options.display.max_columns = 100\n",
    "pd.options.display.max_rows = 100\n",
    "\n",
    "random.seed(42)\n",
    "np.random.seed(42)"
   ]
  },
  {
   "cell_type": "code",
   "execution_count": 4,
   "id": "23f98b7e-294a-4e64-8173-3289cf0f7e91",
   "metadata": {},
   "outputs": [],
   "source": [
    "main = pd.read_csv('../data/train.csv')\n",
    "\n",
    "sample = pd.read_csv('../data/sample_submit_naive.csv').drop('predict', axis=1)\n",
    "sample['target'] = -1\n",
    "test_ids = pd.read_csv('../data/test_ids.csv')\n",
    "\n",
    "main = pd.concat([main, sample])"
   ]
  },
  {
   "cell_type": "code",
   "execution_count": 7,
   "id": "2ecdea3e-fc89-436a-82bb-7f33897f0c0e",
   "metadata": {
    "collapsed": true,
    "jupyter": {
     "outputs_hidden": true
    },
    "tags": []
   },
   "outputs": [
    {
     "name": "stderr",
     "output_type": "stream",
     "text": [
      "Default metric period is 5 because AUC is/are not implemented for GPU\n"
     ]
    },
    {
     "name": "stdout",
     "output_type": "stream",
     "text": [
      "0:\ttest: 0.5795046\tbest: 0.5795046 (0)\ttotal: 6.08ms\tremaining: 122ms\n",
      "20:\ttest: 0.6217932\tbest: 0.6217932 (20)\ttotal: 106ms\tremaining: 0us\n",
      "bestTest = 0.6217931509\n",
      "bestIteration = 20\n"
     ]
    },
    {
     "name": "stderr",
     "output_type": "stream",
     "text": [
      "Default metric period is 5 because AUC is/are not implemented for GPU\n"
     ]
    },
    {
     "name": "stdout",
     "output_type": "stream",
     "text": [
      "0:\ttest: 0.5714928\tbest: 0.5714928 (0)\ttotal: 5.58ms\tremaining: 112ms\n",
      "20:\ttest: 0.6104253\tbest: 0.6104253 (20)\ttotal: 91.7ms\tremaining: 0us\n",
      "bestTest = 0.6104252636\n",
      "bestIteration = 20\n"
     ]
    },
    {
     "name": "stderr",
     "output_type": "stream",
     "text": [
      "Default metric period is 5 because AUC is/are not implemented for GPU\n"
     ]
    },
    {
     "name": "stdout",
     "output_type": "stream",
     "text": [
      "0:\ttest: 0.5780816\tbest: 0.5780816 (0)\ttotal: 4.21ms\tremaining: 84.1ms\n",
      "20:\ttest: 0.6215988\tbest: 0.6215988 (20)\ttotal: 74.6ms\tremaining: 0us\n",
      "bestTest = 0.6215988398\n",
      "bestIteration = 20\n"
     ]
    },
    {
     "name": "stderr",
     "output_type": "stream",
     "text": [
      "Default metric period is 5 because AUC is/are not implemented for GPU\n"
     ]
    },
    {
     "name": "stdout",
     "output_type": "stream",
     "text": [
      "0:\ttest: 0.5609120\tbest: 0.5609120 (0)\ttotal: 4.3ms\tremaining: 86.1ms\n",
      "20:\ttest: 0.6067128\tbest: 0.6067128 (20)\ttotal: 82.2ms\tremaining: 0us\n",
      "bestTest = 0.6067127585\n",
      "bestIteration = 20\n"
     ]
    },
    {
     "name": "stderr",
     "output_type": "stream",
     "text": [
      "Default metric period is 5 because AUC is/are not implemented for GPU\n"
     ]
    },
    {
     "name": "stdout",
     "output_type": "stream",
     "text": [
      "0:\ttest: 0.5667366\tbest: 0.5667366 (0)\ttotal: 5.3ms\tremaining: 106ms\n",
      "20:\ttest: 0.6194905\tbest: 0.6194905 (20)\ttotal: 94.9ms\tremaining: 0us\n",
      "bestTest = 0.6194905341\n",
      "bestIteration = 20\n",
      "0.6399161033886576\n"
     ]
    },
    {
     "name": "stderr",
     "output_type": "stream",
     "text": [
      "Default metric period is 5 because AUC is/are not implemented for GPU\n"
     ]
    },
    {
     "name": "stdout",
     "output_type": "stream",
     "text": [
      "0:\ttest: 0.5778252\tbest: 0.5778252 (0)\ttotal: 6.36ms\tremaining: 127ms\n",
      "20:\ttest: 0.6260607\tbest: 0.6260607 (20)\ttotal: 103ms\tremaining: 0us\n",
      "bestTest = 0.6260606945\n",
      "bestIteration = 20\n"
     ]
    },
    {
     "name": "stderr",
     "output_type": "stream",
     "text": [
      "Default metric period is 5 because AUC is/are not implemented for GPU\n"
     ]
    },
    {
     "name": "stdout",
     "output_type": "stream",
     "text": [
      "0:\ttest: 0.5725879\tbest: 0.5725879 (0)\ttotal: 5.73ms\tremaining: 115ms\n",
      "20:\ttest: 0.6317300\tbest: 0.6317300 (20)\ttotal: 96.6ms\tremaining: 0us\n",
      "bestTest = 0.63173002\n",
      "bestIteration = 20\n"
     ]
    },
    {
     "name": "stderr",
     "output_type": "stream",
     "text": [
      "Default metric period is 5 because AUC is/are not implemented for GPU\n"
     ]
    },
    {
     "name": "stdout",
     "output_type": "stream",
     "text": [
      "0:\ttest: 0.5669795\tbest: 0.5669795 (0)\ttotal: 5.17ms\tremaining: 103ms\n",
      "20:\ttest: 0.6073969\tbest: 0.6079797 (19)\ttotal: 80.5ms\tremaining: 0us\n",
      "bestTest = 0.6079797149\n",
      "bestIteration = 19\n",
      "Shrink model to first 20 iterations.\n"
     ]
    },
    {
     "name": "stderr",
     "output_type": "stream",
     "text": [
      "Default metric period is 5 because AUC is/are not implemented for GPU\n"
     ]
    },
    {
     "name": "stdout",
     "output_type": "stream",
     "text": [
      "0:\ttest: 0.5571909\tbest: 0.5571909 (0)\ttotal: 6.23ms\tremaining: 125ms\n",
      "20:\ttest: 0.6211462\tbest: 0.6211462 (20)\ttotal: 105ms\tremaining: 0us\n",
      "bestTest = 0.6211462021\n",
      "bestIteration = 20\n"
     ]
    },
    {
     "name": "stderr",
     "output_type": "stream",
     "text": [
      "Default metric period is 5 because AUC is/are not implemented for GPU\n"
     ]
    },
    {
     "name": "stdout",
     "output_type": "stream",
     "text": [
      "0:\ttest: 0.5808170\tbest: 0.5808170 (0)\ttotal: 4.53ms\tremaining: 90.7ms\n",
      "20:\ttest: 0.6356001\tbest: 0.6356001 (20)\ttotal: 78.3ms\tremaining: 0us\n",
      "bestTest = 0.6356000602\n",
      "bestIteration = 20\n",
      "0.6493352838651324\n"
     ]
    },
    {
     "name": "stderr",
     "output_type": "stream",
     "text": [
      "Default metric period is 5 because AUC is/are not implemented for GPU\n"
     ]
    },
    {
     "name": "stdout",
     "output_type": "stream",
     "text": [
      "0:\ttest: 0.5718589\tbest: 0.5718589 (0)\ttotal: 6.08ms\tremaining: 122ms\n",
      "20:\ttest: 0.6455424\tbest: 0.6455424 (20)\ttotal: 104ms\tremaining: 0us\n",
      "bestTest = 0.6455424428\n",
      "bestIteration = 20\n"
     ]
    },
    {
     "name": "stderr",
     "output_type": "stream",
     "text": [
      "Default metric period is 5 because AUC is/are not implemented for GPU\n"
     ]
    },
    {
     "name": "stdout",
     "output_type": "stream",
     "text": [
      "0:\ttest: 0.5761605\tbest: 0.5761605 (0)\ttotal: 4.53ms\tremaining: 90.6ms\n",
      "20:\ttest: 0.6358465\tbest: 0.6358465 (20)\ttotal: 90.1ms\tremaining: 0us\n",
      "bestTest = 0.6358464956\n",
      "bestIteration = 20\n"
     ]
    },
    {
     "name": "stderr",
     "output_type": "stream",
     "text": [
      "Default metric period is 5 because AUC is/are not implemented for GPU\n"
     ]
    },
    {
     "name": "stdout",
     "output_type": "stream",
     "text": [
      "0:\ttest: 0.5744276\tbest: 0.5744276 (0)\ttotal: 5.84ms\tremaining: 117ms\n",
      "20:\ttest: 0.6336181\tbest: 0.6336181 (20)\ttotal: 104ms\tremaining: 0us\n",
      "bestTest = 0.6336180866\n",
      "bestIteration = 20\n"
     ]
    },
    {
     "name": "stderr",
     "output_type": "stream",
     "text": [
      "Default metric period is 5 because AUC is/are not implemented for GPU\n"
     ]
    },
    {
     "name": "stdout",
     "output_type": "stream",
     "text": [
      "0:\ttest: 0.5672620\tbest: 0.5672620 (0)\ttotal: 5.83ms\tremaining: 117ms\n",
      "20:\ttest: 0.6144748\tbest: 0.6154988 (14)\ttotal: 91.5ms\tremaining: 0us\n",
      "bestTest = 0.6154987812\n",
      "bestIteration = 14\n",
      "Shrink model to first 15 iterations.\n"
     ]
    },
    {
     "name": "stderr",
     "output_type": "stream",
     "text": [
      "Default metric period is 5 because AUC is/are not implemented for GPU\n"
     ]
    },
    {
     "name": "stdout",
     "output_type": "stream",
     "text": [
      "0:\ttest: 0.5705367\tbest: 0.5705367 (0)\ttotal: 5.93ms\tremaining: 119ms\n",
      "20:\ttest: 0.6167338\tbest: 0.6169741 (19)\ttotal: 104ms\tremaining: 0us\n",
      "bestTest = 0.6169741154\n",
      "bestIteration = 19\n",
      "Shrink model to first 20 iterations.\n",
      "0.6534770792942967\n"
     ]
    },
    {
     "name": "stderr",
     "output_type": "stream",
     "text": [
      "Default metric period is 5 because AUC is/are not implemented for GPU\n"
     ]
    },
    {
     "name": "stdout",
     "output_type": "stream",
     "text": [
      "0:\ttest: 0.5785766\tbest: 0.5785766 (0)\ttotal: 5.85ms\tremaining: 117ms\n",
      "20:\ttest: 0.6209227\tbest: 0.6209227 (20)\ttotal: 111ms\tremaining: 0us\n",
      "bestTest = 0.6209227145\n",
      "bestIteration = 20\n"
     ]
    },
    {
     "name": "stderr",
     "output_type": "stream",
     "text": [
      "Default metric period is 5 because AUC is/are not implemented for GPU\n"
     ]
    },
    {
     "name": "stdout",
     "output_type": "stream",
     "text": [
      "0:\ttest: 0.5797179\tbest: 0.5797179 (0)\ttotal: 4.72ms\tremaining: 94.4ms\n",
      "20:\ttest: 0.6289101\tbest: 0.6289101 (20)\ttotal: 87ms\tremaining: 0us\n",
      "bestTest = 0.6289100647\n",
      "bestIteration = 20\n"
     ]
    },
    {
     "name": "stderr",
     "output_type": "stream",
     "text": [
      "Default metric period is 5 because AUC is/are not implemented for GPU\n"
     ]
    },
    {
     "name": "stdout",
     "output_type": "stream",
     "text": [
      "0:\ttest: 0.5607836\tbest: 0.5607836 (0)\ttotal: 5.9ms\tremaining: 118ms\n",
      "20:\ttest: 0.5974435\tbest: 0.5974435 (20)\ttotal: 100ms\tremaining: 0us\n",
      "bestTest = 0.5974434912\n",
      "bestIteration = 20\n"
     ]
    },
    {
     "name": "stderr",
     "output_type": "stream",
     "text": [
      "Default metric period is 5 because AUC is/are not implemented for GPU\n"
     ]
    },
    {
     "name": "stdout",
     "output_type": "stream",
     "text": [
      "0:\ttest: 0.5612241\tbest: 0.5612241 (0)\ttotal: 4.89ms\tremaining: 97.8ms\n",
      "20:\ttest: 0.6102076\tbest: 0.6102076 (20)\ttotal: 101ms\tremaining: 0us\n",
      "bestTest = 0.6102076173\n",
      "bestIteration = 20\n"
     ]
    },
    {
     "name": "stderr",
     "output_type": "stream",
     "text": [
      "Default metric period is 5 because AUC is/are not implemented for GPU\n"
     ]
    },
    {
     "name": "stdout",
     "output_type": "stream",
     "text": [
      "0:\ttest: 0.5778011\tbest: 0.5778011 (0)\ttotal: 5.71ms\tremaining: 114ms\n",
      "20:\ttest: 0.6245259\tbest: 0.6245259 (20)\ttotal: 93ms\tremaining: 0us\n",
      "bestTest = 0.6245259047\n",
      "bestIteration = 20\n",
      "0.6528599820255986\n"
     ]
    },
    {
     "name": "stderr",
     "output_type": "stream",
     "text": [
      "Default metric period is 5 because AUC is/are not implemented for GPU\n"
     ]
    },
    {
     "name": "stdout",
     "output_type": "stream",
     "text": [
      "0:\ttest: 0.5697834\tbest: 0.5697834 (0)\ttotal: 6.2ms\tremaining: 124ms\n",
      "20:\ttest: 0.6323497\tbest: 0.6323596 (19)\ttotal: 105ms\tremaining: 0us\n",
      "bestTest = 0.6323596239\n",
      "bestIteration = 19\n",
      "Shrink model to first 20 iterations.\n"
     ]
    },
    {
     "name": "stderr",
     "output_type": "stream",
     "text": [
      "Default metric period is 5 because AUC is/are not implemented for GPU\n"
     ]
    },
    {
     "name": "stdout",
     "output_type": "stream",
     "text": [
      "0:\ttest: 0.5868518\tbest: 0.5868518 (0)\ttotal: 4.68ms\tremaining: 93.6ms\n",
      "20:\ttest: 0.6377155\tbest: 0.6377155 (20)\ttotal: 76.2ms\tremaining: 0us\n",
      "bestTest = 0.6377155185\n",
      "bestIteration = 20\n"
     ]
    },
    {
     "name": "stderr",
     "output_type": "stream",
     "text": [
      "Default metric period is 5 because AUC is/are not implemented for GPU\n"
     ]
    },
    {
     "name": "stdout",
     "output_type": "stream",
     "text": [
      "0:\ttest: 0.5729147\tbest: 0.5729147 (0)\ttotal: 5.54ms\tremaining: 111ms\n",
      "20:\ttest: 0.6240211\tbest: 0.6240211 (20)\ttotal: 94.9ms\tremaining: 0us\n",
      "bestTest = 0.6240210831\n",
      "bestIteration = 20\n"
     ]
    },
    {
     "name": "stderr",
     "output_type": "stream",
     "text": [
      "Default metric period is 5 because AUC is/are not implemented for GPU\n"
     ]
    },
    {
     "name": "stdout",
     "output_type": "stream",
     "text": [
      "0:\ttest: 0.5613149\tbest: 0.5613149 (0)\ttotal: 4.6ms\tremaining: 92ms\n",
      "20:\ttest: 0.6255453\tbest: 0.6255453 (20)\ttotal: 77.6ms\tremaining: 0us\n",
      "bestTest = 0.6255453229\n",
      "bestIteration = 20\n"
     ]
    },
    {
     "name": "stderr",
     "output_type": "stream",
     "text": [
      "Default metric period is 5 because AUC is/are not implemented for GPU\n"
     ]
    },
    {
     "name": "stdout",
     "output_type": "stream",
     "text": [
      "0:\ttest: 0.5693931\tbest: 0.5693931 (0)\ttotal: 5.87ms\tremaining: 117ms\n",
      "20:\ttest: 0.6191851\tbest: 0.6195283 (9)\ttotal: 99.9ms\tremaining: 0us\n",
      "bestTest = 0.6195282936\n",
      "bestIteration = 9\n",
      "Shrink model to first 10 iterations.\n",
      "0.661730342141184\n"
     ]
    }
   ],
   "source": [
    "from sklearn.model_selection import train_test_split\n",
    "predict = np.zeros(12800)\n",
    "metadatas = []\n",
    "for i in range(1, 6):\n",
    "    frames_for_metamodel = []\n",
    "    embeddings_path = f'../embeddings/coles_{i}.csv'\n",
    "    main_embs = pd.read_csv(embeddings_path)\n",
    "    new_embs = pd.read_csv(f'../embeddings/wtte_coles_{i}.csv')\n",
    "    main_embs = main_embs.merge(new_embs, on='user_id')\n",
    "    train = main[main.target != -1]\n",
    "    test = main[main.target == -1]\n",
    "    train_with_embs = train.merge(main_embs, on='user_id')\n",
    "    test_with_embs = test.merge(main_embs, on='user_id')\n",
    "    train, test = train_with_embs.loc[~train_with_embs['user_id'].isin(test_ids['user_id'])], train_with_embs.loc[train_with_embs['user_id'].isin(test_ids['user_id'])]\n",
    "    strat_kfold = StratifiedKFold(n_splits=5, shuffle=True, random_state=i)\n",
    "\n",
    "    X, y = train.drop(['time', 'target'], axis=1), train['target']\n",
    "    scores = []\n",
    "\n",
    "    models = []\n",
    "    for train_index, valid_index in strat_kfold.split(train, train['target']):\n",
    "\n",
    "        X_train, X_val = X.iloc[train_index], X.iloc[valid_index]\n",
    "        y_train, y_val = y.iloc[train_index], y.iloc[valid_index]\n",
    "        X_train1 = X_train.drop(['user_id'], axis=1)\n",
    "        X_val1 = X_val.drop(['user_id'], axis=1)\n",
    "        model = CatBoostClassifier(\n",
    "            iterations = 21,\n",
    "            depth=1,\n",
    "            learning_rate=0.025,\n",
    "            eval_metric='AUC',\n",
    "            early_stopping_rounds=1000,\n",
    "            task_type=\"GPU\",\n",
    "            random_seed=42,\n",
    "            use_best_model = True,\n",
    "            l2_leaf_reg=5\n",
    "        )\n",
    "\n",
    "        model.fit(Pool(X_train1, y_train),\n",
    "                  eval_set=Pool(X_val1, y_val),\n",
    "                  verbose=1000)\n",
    "        models.append(model)\n",
    "\n",
    "        pred = model.predict_proba(X_val1)[:, 1]\n",
    "        scores.append(metrics.roc_auc_score(y_val, pred))\n",
    "        frames_for_metamodel.append(pd.DataFrame({'user_id': X_val.user_id.values, 'pred_emb': pred}))\n",
    "    metadata = pd.concat(frames_for_metamodel, axis=0).reset_index()\n",
    "    metadatas.append(metadata)\n",
    "    for j in range(len(models)):\n",
    "        predict += models[j].predict_proba(test.drop(['target'], axis=1))[:, 1]\n",
    "\n",
    "    print(metrics.roc_auc_score(test['target'], predict))"
   ]
  },
  {
   "cell_type": "code",
   "execution_count": 8,
   "id": "3c8c121c-16a3-46b6-ac3f-69cb273c9804",
   "metadata": {},
   "outputs": [],
   "source": [
    "agg_metadata = metadatas[0].drop('index', axis = 1)\n",
    "for i in range(1,5):\n",
    "    agg_metadata=agg_metadata.merge(metadatas[i].drop('index', axis = 1).rename(columns={\"pred_emb\": f\"pred_emb{i}\"}), on='user_id')\n",
    "agg_metadata['pred_emb_sum'] = (agg_metadata['pred_emb'] + agg_metadata['pred_emb1'] + agg_metadata['pred_emb2'] + agg_metadata['pred_emb3'] + agg_metadata['pred_emb4'])/5"
   ]
  },
  {
   "cell_type": "code",
   "execution_count": 11,
   "id": "7ea2dd6f-1774-4187-851b-2047738c3cb4",
   "metadata": {},
   "outputs": [],
   "source": [
    "test_preds = {'pred_emb_sum': predict/25}\n",
    "test_preds['user_id'] = test['user_id']\n",
    "test_preds = pd.DataFrame(test_preds)"
   ]
  },
  {
   "cell_type": "code",
   "execution_count": 13,
   "id": "a2304c97-be73-4ed3-a992-af5b5e16e802",
   "metadata": {},
   "outputs": [],
   "source": [
    "final_prediction = pd.concat([agg_metadata[['user_id', 'pred_emb_sum']], test_preds])"
   ]
  },
  {
   "cell_type": "code",
   "execution_count": 15,
   "id": "53fbcdde-94d7-485e-b9d7-1388c40854bd",
   "metadata": {
    "collapsed": true,
    "jupyter": {
     "outputs_hidden": true
    },
    "tags": []
   },
   "outputs": [
    {
     "name": "stderr",
     "output_type": "stream",
     "text": [
      "Default metric period is 5 because AUC is/are not implemented for GPU\n"
     ]
    },
    {
     "name": "stdout",
     "output_type": "stream",
     "text": [
      "0:\ttest: 0.5766022\tbest: 0.5766022 (0)\ttotal: 6.07ms\tremaining: 121ms\n",
      "20:\ttest: 0.6272591\tbest: 0.6272591 (20)\ttotal: 111ms\tremaining: 0us\n",
      "bestTest = 0.6272591352\n",
      "bestIteration = 20\n"
     ]
    },
    {
     "name": "stderr",
     "output_type": "stream",
     "text": [
      "Default metric period is 5 because AUC is/are not implemented for GPU\n"
     ]
    },
    {
     "name": "stdout",
     "output_type": "stream",
     "text": [
      "0:\ttest: 0.5625888\tbest: 0.5625888 (0)\ttotal: 5.98ms\tremaining: 120ms\n",
      "20:\ttest: 0.6010063\tbest: 0.6010063 (20)\ttotal: 101ms\tremaining: 0us\n",
      "bestTest = 0.6010062993\n",
      "bestIteration = 20\n"
     ]
    },
    {
     "name": "stderr",
     "output_type": "stream",
     "text": [
      "Default metric period is 5 because AUC is/are not implemented for GPU\n"
     ]
    },
    {
     "name": "stdout",
     "output_type": "stream",
     "text": [
      "0:\ttest: 0.5816417\tbest: 0.5816417 (0)\ttotal: 5.87ms\tremaining: 117ms\n",
      "20:\ttest: 0.6302738\tbest: 0.6304015 (18)\ttotal: 103ms\tremaining: 0us\n",
      "bestTest = 0.6304014623\n",
      "bestIteration = 18\n",
      "Shrink model to first 19 iterations.\n"
     ]
    },
    {
     "name": "stderr",
     "output_type": "stream",
     "text": [
      "Default metric period is 5 because AUC is/are not implemented for GPU\n"
     ]
    },
    {
     "name": "stdout",
     "output_type": "stream",
     "text": [
      "0:\ttest: 0.5821679\tbest: 0.5821679 (0)\ttotal: 5.56ms\tremaining: 111ms\n",
      "20:\ttest: 0.6244677\tbest: 0.6244677 (20)\ttotal: 92.1ms\tremaining: 0us\n",
      "bestTest = 0.6244677007\n",
      "bestIteration = 20\n"
     ]
    },
    {
     "name": "stderr",
     "output_type": "stream",
     "text": [
      "Default metric period is 5 because AUC is/are not implemented for GPU\n"
     ]
    },
    {
     "name": "stdout",
     "output_type": "stream",
     "text": [
      "0:\ttest: 0.5786930\tbest: 0.5786930 (0)\ttotal: 5.14ms\tremaining: 103ms\n",
      "20:\ttest: 0.6206597\tbest: 0.6206958 (14)\ttotal: 90.9ms\tremaining: 0us\n",
      "bestTest = 0.6206958294\n",
      "bestIteration = 14\n",
      "Shrink model to first 15 iterations.\n"
     ]
    },
    {
     "name": "stderr",
     "output_type": "stream",
     "text": [
      "Default metric period is 5 because AUC is/are not implemented for GPU\n"
     ]
    },
    {
     "name": "stdout",
     "output_type": "stream",
     "text": [
      "0:\ttest: 0.5696266\tbest: 0.5696266 (0)\ttotal: 6.35ms\tremaining: 127ms\n",
      "20:\ttest: 0.6102425\tbest: 0.6102425 (20)\ttotal: 106ms\tremaining: 0us\n",
      "bestTest = 0.6102424562\n",
      "bestIteration = 20\n"
     ]
    },
    {
     "name": "stderr",
     "output_type": "stream",
     "text": [
      "Default metric period is 5 because AUC is/are not implemented for GPU\n"
     ]
    },
    {
     "name": "stdout",
     "output_type": "stream",
     "text": [
      "0:\ttest: 0.5712755\tbest: 0.5712755 (0)\ttotal: 4.42ms\tremaining: 88.3ms\n",
      "20:\ttest: 0.6247401\tbest: 0.6248243 (19)\ttotal: 85.7ms\tremaining: 0us\n",
      "bestTest = 0.6248242855\n",
      "bestIteration = 19\n",
      "Shrink model to first 20 iterations.\n"
     ]
    },
    {
     "name": "stderr",
     "output_type": "stream",
     "text": [
      "Default metric period is 5 because AUC is/are not implemented for GPU\n"
     ]
    },
    {
     "name": "stdout",
     "output_type": "stream",
     "text": [
      "0:\ttest: 0.5847065\tbest: 0.5847065 (0)\ttotal: 5.72ms\tremaining: 114ms\n",
      "20:\ttest: 0.6374272\tbest: 0.6374272 (20)\ttotal: 96.7ms\tremaining: 0us\n",
      "bestTest = 0.6374271512\n",
      "bestIteration = 20\n"
     ]
    },
    {
     "name": "stderr",
     "output_type": "stream",
     "text": [
      "Default metric period is 5 because AUC is/are not implemented for GPU\n"
     ]
    },
    {
     "name": "stdout",
     "output_type": "stream",
     "text": [
      "0:\ttest: 0.5823133\tbest: 0.5823133 (0)\ttotal: 4.34ms\tremaining: 86.9ms\n",
      "20:\ttest: 0.6409172\tbest: 0.6409172 (20)\ttotal: 87ms\tremaining: 0us\n",
      "bestTest = 0.6409171522\n",
      "bestIteration = 20\n"
     ]
    },
    {
     "name": "stderr",
     "output_type": "stream",
     "text": [
      "Default metric period is 5 because AUC is/are not implemented for GPU\n"
     ]
    },
    {
     "name": "stdout",
     "output_type": "stream",
     "text": [
      "0:\ttest: 0.5711586\tbest: 0.5711586 (0)\ttotal: 5.32ms\tremaining: 106ms\n",
      "20:\ttest: 0.6180885\tbest: 0.6186083 (19)\ttotal: 93.7ms\tremaining: 0us\n",
      "bestTest = 0.6186083257\n",
      "bestIteration = 19\n",
      "Shrink model to first 20 iterations.\n"
     ]
    },
    {
     "name": "stderr",
     "output_type": "stream",
     "text": [
      "Default metric period is 5 because AUC is/are not implemented for GPU\n"
     ]
    },
    {
     "name": "stdout",
     "output_type": "stream",
     "text": [
      "0:\ttest: 0.5716128\tbest: 0.5716128 (0)\ttotal: 5.97ms\tremaining: 119ms\n",
      "20:\ttest: 0.6123097\tbest: 0.6123097 (20)\ttotal: 101ms\tremaining: 0us\n",
      "bestTest = 0.6123096645\n",
      "bestIteration = 20\n"
     ]
    },
    {
     "name": "stderr",
     "output_type": "stream",
     "text": [
      "Default metric period is 5 because AUC is/are not implemented for GPU\n"
     ]
    },
    {
     "name": "stdout",
     "output_type": "stream",
     "text": [
      "0:\ttest: 0.5646079\tbest: 0.5646079 (0)\ttotal: 4.74ms\tremaining: 94.8ms\n",
      "20:\ttest: 0.6264457\tbest: 0.6264457 (20)\ttotal: 79.4ms\tremaining: 0us\n",
      "bestTest = 0.6264457107\n",
      "bestIteration = 20\n"
     ]
    },
    {
     "name": "stderr",
     "output_type": "stream",
     "text": [
      "Default metric period is 5 because AUC is/are not implemented for GPU\n"
     ]
    },
    {
     "name": "stdout",
     "output_type": "stream",
     "text": [
      "0:\ttest: 0.5768075\tbest: 0.5768075 (0)\ttotal: 7.39ms\tremaining: 148ms\n",
      "20:\ttest: 0.6256602\tbest: 0.6256602 (20)\ttotal: 97.1ms\tremaining: 0us\n",
      "bestTest = 0.6256602108\n",
      "bestIteration = 20\n"
     ]
    },
    {
     "name": "stderr",
     "output_type": "stream",
     "text": [
      "Default metric period is 5 because AUC is/are not implemented for GPU\n"
     ]
    },
    {
     "name": "stdout",
     "output_type": "stream",
     "text": [
      "0:\ttest: 0.5815885\tbest: 0.5815885 (0)\ttotal: 4.33ms\tremaining: 86.5ms\n",
      "20:\ttest: 0.6502059\tbest: 0.6502059 (20)\ttotal: 73.2ms\tremaining: 0us\n",
      "bestTest = 0.65020594\n",
      "bestIteration = 20\n"
     ]
    },
    {
     "name": "stderr",
     "output_type": "stream",
     "text": [
      "Default metric period is 5 because AUC is/are not implemented for GPU\n"
     ]
    },
    {
     "name": "stdout",
     "output_type": "stream",
     "text": [
      "0:\ttest: 0.5825735\tbest: 0.5825735 (0)\ttotal: 6.28ms\tremaining: 126ms\n",
      "20:\ttest: 0.6423963\tbest: 0.6423963 (20)\ttotal: 102ms\tremaining: 0us\n",
      "bestTest = 0.642396301\n",
      "bestIteration = 20\n"
     ]
    },
    {
     "name": "stderr",
     "output_type": "stream",
     "text": [
      "Default metric period is 5 because AUC is/are not implemented for GPU\n"
     ]
    },
    {
     "name": "stdout",
     "output_type": "stream",
     "text": [
      "0:\ttest: 0.5818721\tbest: 0.5818721 (0)\ttotal: 5.97ms\tremaining: 119ms\n",
      "20:\ttest: 0.6301308\tbest: 0.6301308 (20)\ttotal: 93.2ms\tremaining: 0us\n",
      "bestTest = 0.6301308274\n",
      "bestIteration = 20\n"
     ]
    },
    {
     "name": "stderr",
     "output_type": "stream",
     "text": [
      "Default metric period is 5 because AUC is/are not implemented for GPU\n"
     ]
    },
    {
     "name": "stdout",
     "output_type": "stream",
     "text": [
      "0:\ttest: 0.5754111\tbest: 0.5754111 (0)\ttotal: 5.64ms\tremaining: 113ms\n",
      "20:\ttest: 0.6223245\tbest: 0.6223245 (20)\ttotal: 99.8ms\tremaining: 0us\n",
      "bestTest = 0.6223244965\n",
      "bestIteration = 20\n"
     ]
    },
    {
     "name": "stderr",
     "output_type": "stream",
     "text": [
      "Default metric period is 5 because AUC is/are not implemented for GPU\n"
     ]
    },
    {
     "name": "stdout",
     "output_type": "stream",
     "text": [
      "0:\ttest: 0.5709727\tbest: 0.5709727 (0)\ttotal: 6.03ms\tremaining: 121ms\n",
      "20:\ttest: 0.6142229\tbest: 0.6142229 (20)\ttotal: 103ms\tremaining: 0us\n",
      "bestTest = 0.6142228842\n",
      "bestIteration = 20\n"
     ]
    },
    {
     "name": "stderr",
     "output_type": "stream",
     "text": [
      "Default metric period is 5 because AUC is/are not implemented for GPU\n"
     ]
    },
    {
     "name": "stdout",
     "output_type": "stream",
     "text": [
      "0:\ttest: 0.5742085\tbest: 0.5742085 (0)\ttotal: 5.61ms\tremaining: 112ms\n",
      "20:\ttest: 0.6182312\tbest: 0.6182312 (20)\ttotal: 95.9ms\tremaining: 0us\n",
      "bestTest = 0.6182311773\n",
      "bestIteration = 20\n"
     ]
    },
    {
     "name": "stderr",
     "output_type": "stream",
     "text": [
      "Default metric period is 5 because AUC is/are not implemented for GPU\n"
     ]
    },
    {
     "name": "stdout",
     "output_type": "stream",
     "text": [
      "0:\ttest: 0.5716962\tbest: 0.5716962 (0)\ttotal: 5.45ms\tremaining: 109ms\n",
      "20:\ttest: 0.6194149\tbest: 0.6194149 (20)\ttotal: 94.8ms\tremaining: 0us\n",
      "bestTest = 0.6194148958\n",
      "bestIteration = 20\n"
     ]
    },
    {
     "name": "stderr",
     "output_type": "stream",
     "text": [
      "Default metric period is 5 because AUC is/are not implemented for GPU\n"
     ]
    },
    {
     "name": "stdout",
     "output_type": "stream",
     "text": [
      "0:\ttest: 0.5811687\tbest: 0.5811687 (0)\ttotal: 7.93ms\tremaining: 159ms\n",
      "20:\ttest: 0.6344275\tbest: 0.6344275 (20)\ttotal: 111ms\tremaining: 0us\n",
      "bestTest = 0.6344275177\n",
      "bestIteration = 20\n"
     ]
    },
    {
     "name": "stderr",
     "output_type": "stream",
     "text": [
      "Default metric period is 5 because AUC is/are not implemented for GPU\n"
     ]
    },
    {
     "name": "stdout",
     "output_type": "stream",
     "text": [
      "0:\ttest: 0.5764677\tbest: 0.5764677 (0)\ttotal: 5.39ms\tremaining: 108ms\n",
      "20:\ttest: 0.6454542\tbest: 0.6460423 (19)\ttotal: 93.6ms\tremaining: 0us\n",
      "bestTest = 0.6460422575\n",
      "bestIteration = 19\n",
      "Shrink model to first 20 iterations.\n"
     ]
    },
    {
     "name": "stderr",
     "output_type": "stream",
     "text": [
      "Default metric period is 5 because AUC is/are not implemented for GPU\n"
     ]
    },
    {
     "name": "stdout",
     "output_type": "stream",
     "text": [
      "0:\ttest: 0.5576193\tbest: 0.5576193 (0)\ttotal: 4.24ms\tremaining: 84.9ms\n",
      "20:\ttest: 0.6213041\tbest: 0.6219133 (19)\ttotal: 79.5ms\tremaining: 0us\n",
      "bestTest = 0.6219133139\n",
      "bestIteration = 19\n",
      "Shrink model to first 20 iterations.\n"
     ]
    },
    {
     "name": "stderr",
     "output_type": "stream",
     "text": [
      "Default metric period is 5 because AUC is/are not implemented for GPU\n"
     ]
    },
    {
     "name": "stdout",
     "output_type": "stream",
     "text": [
      "0:\ttest: 0.5872072\tbest: 0.5872072 (0)\ttotal: 5.92ms\tremaining: 118ms\n",
      "20:\ttest: 0.6524037\tbest: 0.6525732 (19)\ttotal: 107ms\tremaining: 0us\n",
      "bestTest = 0.6525731981\n",
      "bestIteration = 19\n",
      "Shrink model to first 20 iterations.\n"
     ]
    },
    {
     "name": "stderr",
     "output_type": "stream",
     "text": [
      "Default metric period is 5 because AUC is/are not implemented for GPU\n"
     ]
    },
    {
     "name": "stdout",
     "output_type": "stream",
     "text": [
      "0:\ttest: 0.5749865\tbest: 0.5749865 (0)\ttotal: 6.33ms\tremaining: 127ms\n",
      "20:\ttest: 0.6283545\tbest: 0.6283545 (20)\ttotal: 106ms\tremaining: 0us\n",
      "bestTest = 0.6283545494\n",
      "bestIteration = 20\n"
     ]
    }
   ],
   "source": [
    "from sklearn.model_selection import train_test_split\n",
    "predict = np.zeros(32000)\n",
    "for i in range(1, 6):\n",
    "    frames_for_metamodel = []\n",
    "    embeddings_path = f'../embeddings/coles_{i}.csv'\n",
    "    main_embs = pd.read_csv(embeddings_path)\n",
    "    new_embs = pd.read_csv(f'../embeddings/wtte_coles_{i}.csv')\n",
    "    main_embs = main_embs.merge(new_embs, on='user_id')\n",
    "    train = main[main.target != -1]\n",
    "    test = main[main.target == -1]\n",
    "    train_with_embs = train.merge(main_embs, on='user_id')\n",
    "    test_with_embs = test.merge(main_embs, on='user_id')\n",
    "    strat_kfold = StratifiedKFold(n_splits=5, shuffle=True, random_state=i)\n",
    "\n",
    "    X, y = train_with_embs.drop(['time', 'target'], axis=1), train_with_embs['target']\n",
    "    scores = []\n",
    "\n",
    "    models = []\n",
    "    for train_index, valid_index in strat_kfold.split(train_with_embs, train_with_embs['target']):\n",
    "\n",
    "        X_train, X_val = X.iloc[train_index], X.iloc[valid_index]\n",
    "        y_train, y_val = y.iloc[train_index], y.iloc[valid_index]\n",
    "        X_train1 = X_train.drop(['user_id'], axis=1)\n",
    "        X_val1 = X_val.drop(['user_id'], axis=1)\n",
    "        model = CatBoostClassifier(\n",
    "            iterations = 21,\n",
    "            depth=1,\n",
    "            learning_rate=0.025,\n",
    "            eval_metric='AUC',\n",
    "            early_stopping_rounds=1000,\n",
    "            task_type=\"GPU\",\n",
    "            random_seed=42,\n",
    "            use_best_model = True,\n",
    "            l2_leaf_reg=5\n",
    "        )\n",
    "\n",
    "        model.fit(Pool(X_train1, y_train),\n",
    "                  eval_set=Pool(X_val1, y_val),\n",
    "                  verbose=100)\n",
    "        models.append(model)\n",
    "\n",
    "        pred = model.predict_proba(X_val1)[:, 1]\n",
    "        scores.append(metrics.roc_auc_score(y_val, pred))\n",
    "    for j in range(len(models)):\n",
    "        predict += models[j].predict_proba(test_with_embs.drop(['target', 'user_id', 'time'], axis=1))[:, 1]\n"
   ]
  },
  {
   "cell_type": "code",
   "execution_count": 16,
   "id": "c0d10573-2b45-4994-8dfa-ccd68010cc49",
   "metadata": {},
   "outputs": [],
   "source": [
    "sbmt_preds = {'pred_emb_sum': predict/25}\n",
    "sbmt_preds['user_id'] = test['user_id']\n",
    "sbmt_preds = pd.DataFrame(sbmt_preds)"
   ]
  },
  {
   "cell_type": "code",
   "execution_count": 17,
   "id": "dcb7272f-920a-404e-ada8-530eeaf74659",
   "metadata": {
    "tags": []
   },
   "outputs": [],
   "source": [
    "final_prediction = pd.concat([final_prediction, sbmt_preds])"
   ]
  },
  {
   "cell_type": "code",
   "execution_count": 19,
   "id": "c82da669-730e-4bf6-842d-70ab67eb981e",
   "metadata": {},
   "outputs": [],
   "source": [
    "final_prediction.to_csv(\"../predicts/coles_coles-wtte-preds.csv\", index=False)"
   ]
  },
  {
   "cell_type": "code",
   "execution_count": null,
   "id": "cbe51bca-aa4e-40ad-aca8-01b7a72baa4a",
   "metadata": {},
   "outputs": [],
   "source": []
  }
 ],
 "metadata": {
  "kernelspec": {
   "display_name": "datafusion",
   "language": "python",
   "name": "datafusion"
  },
  "language_info": {
   "codemirror_mode": {
    "name": "ipython",
    "version": 3
   },
   "file_extension": ".py",
   "mimetype": "text/x-python",
   "name": "python",
   "nbconvert_exporter": "python",
   "pygments_lexer": "ipython3",
   "version": "3.8.18"
  }
 },
 "nbformat": 4,
 "nbformat_minor": 5
}
