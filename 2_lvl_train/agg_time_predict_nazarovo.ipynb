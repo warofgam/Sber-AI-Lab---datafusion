{
 "cells": [
  {
   "cell_type": "markdown",
   "id": "cce60ad9-9f91-4d8d-bc4a-370207422a40",
   "metadata": {},
   "source": [
    "Позаимствовали агрегированные фичи у nazarovo. Спасибо! <br>\n",
    "https://github.com/nazarovo/data-fusion-2024-competitions2"
   ]
  },
  {
   "cell_type": "code",
   "execution_count": null,
   "id": "0a4a80af-8068-4a85-8a72-e45919eb9a50",
   "metadata": {},
   "outputs": [],
   "source": [
    "# import os\n",
    "# os.environ['NUMEXPR_MAX_THREADS'] = '32'\n",
    "# os.environ['NUMEXPR_NUM_THREADS'] = '30'\n",
    "# os.environ[\"CUDA_VISIBLE_DEVICES\"] = '1'"
   ]
  },
  {
   "cell_type": "code",
   "execution_count": null,
   "id": "0ed2ff10",
   "metadata": {},
   "outputs": [],
   "source": [
    "import pandas as pd\n",
    "import numpy as np\n",
    "from sklearn.model_selection import train_test_split\n",
    "from catboost import CatBoostRegressor, CatBoostClassifier, Pool"
   ]
  },
  {
   "cell_type": "code",
   "execution_count": null,
   "id": "d0786c17",
   "metadata": {},
   "outputs": [],
   "source": [
    "train = pd.read_csv('../data/train.csv').set_index(\"user_id\")\n",
    "train"
   ]
  },
  {
   "cell_type": "code",
   "execution_count": null,
   "id": "6d2d3946",
   "metadata": {},
   "outputs": [],
   "source": [
    "report_dates = pd.read_csv('../data/report_dates.csv', parse_dates=['report_dt']).set_index(\"report\")\n",
    "report_dates[\"report_dt\"] = report_dates[\"report_dt\"].astype('datetime64[ns]')\n",
    "report_dates"
   ]
  },
  {
   "cell_type": "code",
   "execution_count": null,
   "id": "4d753d96",
   "metadata": {},
   "outputs": [],
   "source": [
    "%%time\n",
    "\n",
    "clients = pd.read_csv('../data/clients.csv').set_index(\"user_id\")\n",
    "clients.replace({'employee_count_nm':{'ОТ 101 ДО 500':4,'БОЛЕЕ 1001':6,'ОТ 501 ДО 1000':5,'ДО 10':0,\n",
    "                                      'ОТ 11 ДО 50':2,'ОТ 51 ДО 100':3,'БОЛЕЕ 500':5,'ОТ 11 ДО 30':2,\n",
    "                                      'ОТ 31 ДО 50':2}}, inplace=True)\n",
    "clients = clients.join(report_dates, on=\"report\", how=\"left\")\n",
    "clients"
   ]
  },
  {
   "cell_type": "code",
   "execution_count": null,
   "id": "83a2e3f1",
   "metadata": {},
   "outputs": [],
   "source": [
    "%%time\n",
    "transactions = pd.read_csv('../data/transactions.csv', \n",
    "                           parse_dates=['transaction_dttm'], )\n",
    "                           #low_memory=False, compression='zip')\n",
    "transactions"
   ]
  },
  {
   "cell_type": "code",
   "execution_count": null,
   "id": "d7df4cba",
   "metadata": {},
   "outputs": [],
   "source": [
    "def logsumabs(x):\n",
    "    return (np.log(x.abs().sum()))\n",
    "temp_tran = transactions.groupby(['user_id','currency_rk'])['transaction_amt'].agg([logsumabs])\n",
    "temp_tran = temp_tran.unstack('currency_rk').fillna(0)\n",
    "temp_tran.columns = ['logsumabs_0','logsumabs_1','logsumabs_2','logsumabs_3']\n",
    "temp_tran"
   ]
  },
  {
   "cell_type": "code",
   "execution_count": null,
   "id": "22008e24",
   "metadata": {},
   "outputs": [],
   "source": [
    "%%time\n",
    "transactions['transaction_dttm'] = transactions['transaction_dttm'].astype('datetime64[ns]')\n",
    "transactions['dweek'] = transactions['transaction_dttm'].dt.dayofweek# .day//8\n",
    "transactions['date'] = transactions['transaction_dttm'].dt.date.astype('datetime64[ns]') # .day//8\n",
    "transactions['sp'] = np.where( transactions['transaction_amt']>0,transactions['transaction_amt'],0)\n",
    "transactions['sm'] = np.where( transactions['transaction_amt']<0,transactions['transaction_amt'],0)\n",
    "transactions['ss'] = transactions['sp'] - transactions['sm'] \n",
    "transactions"
   ]
  },
  {
   "cell_type": "code",
   "execution_count": null,
   "id": "04a1ff5c",
   "metadata": {},
   "outputs": [],
   "source": [
    "transactions = transactions.join(clients ,on=\"user_id\", how=\"left\")\n",
    "transactions['diff_days'] = (transactions['report_dt']-transactions['transaction_dttm']).dt.days\n",
    "transactions['m'] = (transactions['report_dt'].dt.year-\n",
    "                     transactions['transaction_dttm'].dt.year)*12+(transactions['report_dt'].dt.month-\n",
    "                                                                   transactions['transaction_dttm'].dt.month)\n",
    "transactions"
   ]
  },
  {
   "cell_type": "code",
   "execution_count": null,
   "id": "49ccbafb",
   "metadata": {},
   "outputs": [],
   "source": [
    "count_trans = transactions.groupby(['user_id']\n",
    "    ).agg({\n",
    "        'transaction_amt':[\n",
    "            \"sum\",\n",
    "            \"max\",\n",
    "            \"min\",\n",
    "          #  \"median\",\n",
    "            \"count\",\n",
    "            #\"last\"\n",
    "            ],\n",
    "        \"mcc_code\":[\n",
    "            #\"last\",\n",
    "            \"nunique\"\n",
    "            ],\n",
    "        \"currency_rk\":[\n",
    "            \"min\",\n",
    "            \"max\"\n",
    "            ],\n",
    "        'date':[\n",
    "            \"min\",\n",
    "            \"max\",\n",
    "            \"count\"\n",
    "            ],\n",
    "        \"sp\":\"sum\",\n",
    "        \"sm\":\"sum\",\n",
    "        \"ss\":\"sum\"\n",
    "        })\n",
    "count_trans.columns = count_trans.columns.map('_'.join).map(lambda x: \"count_trans_\"+str(x))\n",
    "count_trans[\"count_trans_dates\"]=(count_trans[\"count_trans_date_max\"]-count_trans[\"count_trans_date_min\"]).dt.days\n",
    "count_trans"
   ]
  },
  {
   "cell_type": "code",
   "execution_count": null,
   "id": "66d3436a",
   "metadata": {},
   "outputs": [],
   "source": [
    "# Сумма положительный транзакций\n",
    "sum_trans_p = transactions[transactions['transaction_amt']>0].groupby(['user_id']\n",
    "    ).agg({'transaction_amt':[\"count\",\"mean\"]})#.rename(columns={\"transaction_amt\":\"sum_trans_p\"})\n",
    "sum_trans_p.columns = sum_trans_p.columns.map('_'.join).map(lambda x: \"sump_\"+str(x))\n",
    "sum_trans_p"
   ]
  },
  {
   "cell_type": "code",
   "execution_count": null,
   "id": "b219a7a1",
   "metadata": {},
   "outputs": [],
   "source": [
    "# Сумма отрицательных транзакций\n",
    "sum_trans_m = transactions[transactions['transaction_amt']<0].groupby(['user_id']\n",
    "    ).agg({'transaction_amt':[\"count\",\"mean\"]})#.rename(columns={\"transaction_amt\":\"sum_trans_p\"})\n",
    "sum_trans_m.columns = sum_trans_m.columns.map('_'.join).map(lambda x: \"summ_\"+str(x))\n",
    "sum_trans_m"
   ]
  },
  {
   "cell_type": "code",
   "execution_count": null,
   "id": "b363e483",
   "metadata": {},
   "outputs": [],
   "source": [
    "msump = transactions.pivot_table(values=\"sp\",                              \n",
    "    index=\"user_id\",\n",
    "    columns=\"m\",\n",
    "    aggfunc='sum',\n",
    "    fill_value=0,)\n",
    "msump.columns = list( map(lambda x: \"msump\"+str(x), msump.columns ) )\n",
    "msump"
   ]
  },
  {
   "cell_type": "code",
   "execution_count": null,
   "id": "8d412829",
   "metadata": {},
   "outputs": [],
   "source": [
    "msumm = transactions.pivot_table(values=\"sm\",\n",
    "    index=\"user_id\",\n",
    "    columns=\"m\",\n",
    "    aggfunc='sum',\n",
    "    fill_value=0,)\n",
    "msumm.columns = list( map(lambda x: \"msumm\"+str(x), msumm.columns ) )\n",
    "msumm"
   ]
  },
  {
   "cell_type": "code",
   "execution_count": null,
   "id": "52d06755",
   "metadata": {},
   "outputs": [],
   "source": [
    "msum = transactions.pivot_table(values=\"transaction_amt\",\n",
    "    index=\"user_id\",\n",
    "    columns=[\"m\",\"currency_rk\"],\n",
    "    #aggfunc='sum',\n",
    "    aggfunc='count',\n",
    "    fill_value=0,)\n",
    "msum.columns = list( map(lambda x: \"msum\"+str(x), msum.columns ) )\n",
    "msum"
   ]
  },
  {
   "cell_type": "code",
   "execution_count": null,
   "id": "6f587362",
   "metadata": {},
   "outputs": [],
   "source": [
    "smc = transactions.pivot_table(values=\"sm\",\n",
    "    index=\"user_id\",\n",
    "    columns=[\"m\",\"currency_rk\"],\n",
    "    aggfunc='count',\n",
    "    fill_value=0,)\n",
    "smc.columns = list( map(lambda x: \"smc\"+str(x), smc.columns ) )\n",
    "smc"
   ]
  },
  {
   "cell_type": "code",
   "execution_count": null,
   "id": "105facf6",
   "metadata": {},
   "outputs": [],
   "source": [
    "spc = transactions.pivot_table(values=\"sp\",\n",
    "    index=\"user_id\",\n",
    "    columns=\"m\",\n",
    "    aggfunc='count',\n",
    "    fill_value=0,)\n",
    "spc.columns = list( map(lambda x: \"spc\"+str(x), spc.columns ) )\n",
    "spc"
   ]
  },
  {
   "cell_type": "code",
   "execution_count": null,
   "id": "d18e4617",
   "metadata": {},
   "outputs": [],
   "source": [
    "spdc = transactions.pivot_table(values=\"sp\",\n",
    "    index=\"user_id\",\n",
    "    columns=\"dweek\",\n",
    "    aggfunc='count',\n",
    "    fill_value=0,)\n",
    "spdc.columns = list( map(lambda x: \"spdc\"+str(x), spdc.columns ) )\n",
    "spdc\n",
    "\n",
    "spds = transactions.pivot_table(values=\"sp\",\n",
    "    index=\"user_id\",\n",
    "    columns=\"dweek\",\n",
    "    aggfunc='sum',\n",
    "    fill_value=0,)\n",
    "spds.columns = list( map(lambda x: \"spds\"+str(x), spds.columns ) )\n",
    "spds"
   ]
  },
  {
   "cell_type": "code",
   "execution_count": null,
   "id": "2464a253",
   "metadata": {},
   "outputs": [],
   "source": [
    "smdc = transactions.pivot_table(values=\"sm\",\n",
    "    index=\"user_id\",\n",
    "    columns=\"dweek\",\n",
    "    aggfunc='count',\n",
    "    fill_value=0,)\n",
    "smdc.columns = list( map(lambda x: \"smdc\"+str(x), smdc.columns ) )\n",
    "smdc\n",
    "\n",
    "smds = transactions.pivot_table(values=\"sm\",\n",
    "    index=\"user_id\",\n",
    "    columns=\"dweek\",\n",
    "    aggfunc='sum',\n",
    "    fill_value=0,)\n",
    "smds.columns = list( map(lambda x: \"smds\"+str(x), smds.columns ) )\n",
    "smds"
   ]
  },
  {
   "cell_type": "code",
   "execution_count": null,
   "id": "00a8d7c9",
   "metadata": {},
   "outputs": [],
   "source": [
    "max_day_trans = transactions.groupby(['user_id'])[['diff_days']].max().rename(columns={\"diff_days\":\"max_day_trans\"})\n",
    "max_day_trans"
   ]
  },
  {
   "cell_type": "code",
   "execution_count": null,
   "id": "bf057f46",
   "metadata": {},
   "outputs": [],
   "source": [
    "min_day_trans = transactions.groupby(['user_id']\n",
    "            )[['diff_days']].min().rename(columns={\"diff_days\":\"min_day_trans\"})\n",
    "min_day_trans"
   ]
  },
  {
   "cell_type": "code",
   "execution_count": null,
   "id": "a48d33b6",
   "metadata": {
    "scrolled": true
   },
   "outputs": [],
   "source": [
    "mcc_trans = transactions.pivot_table(    \n",
    "    values=\"transaction_amt\",\n",
    "    index=\"user_id\",\n",
    "    columns=\"mcc_code\",\n",
    "    aggfunc=\"sum\",\n",
    "    fill_value=0,)\n",
    "mcc_trans.columns = list( map(lambda x: \"mcc\"+str(x), mcc_trans.columns ) )\n",
    "mcc_trans"
   ]
  },
  {
   "cell_type": "code",
   "execution_count": null,
   "id": "a72cb0b3",
   "metadata": {},
   "outputs": [],
   "source": [
    "mcc_transc = transactions.pivot_table(    \n",
    "    values=\"transaction_amt\",\n",
    "    index=\"user_id\",\n",
    "    columns=\"mcc_code\",\n",
    "    aggfunc='count',\n",
    "    fill_value=0,)\n",
    "mcc_transc.columns = list( map(lambda x: \"mccc\"+str(x), mcc_transc.columns ) )\n",
    "mcc_transc"
   ]
  },
  {
   "cell_type": "code",
   "execution_count": null,
   "id": "df51aab5",
   "metadata": {},
   "outputs": [],
   "source": [
    "mcc_transmc = transactions.pivot_table(    \n",
    "    values=\"transaction_amt\",\n",
    "    index=\"user_id\",\n",
    "    columns=[\"mcc_code\",\"m\"],\n",
    "    aggfunc=['sum','median'],\n",
    "    fill_value=0,\n",
    ")\n",
    "mcc_transmc.columns = list( map(lambda x: \"mccmc\"+str(x), mcc_transmc.columns ) )\n",
    "mcc_transmc"
   ]
  },
  {
   "cell_type": "code",
   "execution_count": null,
   "id": "8a7308ec",
   "metadata": {},
   "outputs": [],
   "source": [
    "%%time\n",
    "date_trans = transactions.groupby(\"user_id\").agg({\"date\":\"unique\"}).explode(\"date\").reset_index()#.sort([\"user_id\",\"date\"])\n",
    "date_trans[\"interval\"]=date_trans.groupby(\"user_id\")[\"date\"].diff()\n",
    "date_trans = date_trans.dropna() \n",
    "date_trans[\"interval\"]=date_trans[\"interval\"].dt.days\n",
    "date_trans = date_trans.groupby(\"user_id\").agg({\"interval\":[\"last\",\"max\"]})\n",
    "date_trans.columns = list( map(lambda x: \"date_\"+str(x), date_trans.columns ) )\n",
    "date_trans"
   ]
  },
  {
   "cell_type": "markdown",
   "id": "bef66b96",
   "metadata": {},
   "source": [
    "# Итоговая сборка"
   ]
  },
  {
   "cell_type": "code",
   "execution_count": null,
   "id": "f9691460",
   "metadata": {},
   "outputs": [],
   "source": [
    "df = clients.join(\n",
    "                count_trans, on=\"user_id\", how=\"left\"\n",
    "                ).join(temp_tran, on=\"user_id\", how=\"left\"\n",
    "                ).join(msump, on=\"user_id\", how=\"left\"\n",
    "                ).join(msumm, on=\"user_id\", how=\"left\"\n",
    "                ).join(msum, on=\"user_id\", how=\"left\"\n",
    "                ).join(spc, on=\"user_id\", how=\"left\"\n",
    "                ).join(smc, on=\"user_id\", how=\"left\"\n",
    "                ).join(mcc_trans, on=\"user_id\", how=\"left\"\n",
    "                ).join(mcc_transc, on=\"user_id\", how=\"left\"\n",
    "                ).join(date_trans, on=\"user_id\", how=\"left\"\n",
    "                ).join(train, on=\"user_id\", how=\"left\"\n",
    "                )\n",
    "\n",
    "df['time'] = df['time'].fillna(-1)\n",
    "df['time'] = df['time'].astype(np.int32)\n",
    "df['target'] = df['target'].fillna(-1)\n",
    "df['target'] = df['target'].astype(np.int8)\n",
    "\n",
    "df"
   ]
  },
  {
   "cell_type": "markdown",
   "id": "8e9deb3c",
   "metadata": {},
   "source": [
    "# train_test_split"
   ]
  },
  {
   "cell_type": "code",
   "execution_count": null,
   "id": "790d9047",
   "metadata": {},
   "outputs": [],
   "source": [
    "X = df[df['time']!=-1].copy()\n",
    "y = df[df['time']!=-1][['target']].copy()\n",
    "\n",
    "test_ids = pd.read_csv('../data/test_ids.csv')\n",
    "X_train, X_test = X.loc[~X.index.isin(test_ids['user_id'])], X.loc[X.index.isin(test_ids['user_id'])]\n",
    "y_train, y_test = y.loc[~X.index.isin(test_ids['user_id'])], y.loc[X.index.isin(test_ids['user_id'])]\n",
    "X_train"
   ]
  },
  {
   "cell_type": "code",
   "execution_count": null,
   "id": "8918a45e-6cb1-4489-ad84-2cf0f162ee05",
   "metadata": {},
   "outputs": [],
   "source": [
    "from sklearn.model_selection import StratifiedKFold\n",
    "from sklearn import metrics"
   ]
  },
  {
   "cell_type": "code",
   "execution_count": null,
   "id": "35c15b01",
   "metadata": {
    "tags": []
   },
   "outputs": [],
   "source": [
    "strat_kfold = StratifiedKFold(n_splits=5, shuffle=True, random_state=42)\n",
    "frames_for_metamodel = []\n",
    "metadata = None\n",
    "cats = []\n",
    "for i in range(5):\n",
    "    frames_for_metamodel = []\n",
    "    for train_index, valid_index in strat_kfold.split(X_train, y_train):\n",
    "        X_train_, X_val = X_train.drop(['target', 'time'], axis=1).iloc[train_index], X_train.drop(['target', 'time'], axis=1).iloc[valid_index]\n",
    "        y_train_, y_val = y_train.iloc[train_index], y_train.iloc[valid_index]\n",
    "        cat = CatBoostClassifier(\n",
    "            iterations=6500,    \n",
    "            learning_rate= 0.03, \n",
    "            depth=5,\n",
    "            eval_metric=\"AUC\", \n",
    "            random_seed=63+9+i, \n",
    "            task_type=\"GPU\",\n",
    "        )\n",
    "        cat_features = [\"bankemplstatus\",\"customer_age\"]\n",
    "        cat.fit(X_train_,y_train_, eval_set=(X_val, y_val), cat_features=cat_features, verbose=500, plot=True)\n",
    "        print(i, cat.best_score_)\n",
    "        cats.append(cat)\n",
    "        predict = cat.predict_proba(X_val)[:,1]\n",
    "        frames_for_metamodel.append(pd.DataFrame({'user_id': X_val.index.values, 'pred_agg_0010': predict}))\n",
    "    if metadata is not None:\n",
    "        metadata['pred_agg_new'] += pd.concat(frames_for_metamodel, axis=0).reset_index(drop=True)['pred_agg_0010']\n",
    "    else:\n",
    "        metadata = pd.concat(frames_for_metamodel, axis=0).reset_index()"
   ]
  },
  {
   "cell_type": "code",
   "execution_count": null,
   "id": "38ed96f0-203a-4ab6-aa86-63406385f074",
   "metadata": {
    "tags": []
   },
   "outputs": [],
   "source": [
    "predict_test = np.zeros(X_test.shape[0])\n",
    "predict_real = np.zeros(df[df['time']==-1][df.columns[:-2]].shape[0])\n",
    "\n",
    "for cat in cats:\n",
    "    predict_test += cat.predict_proba(X_test.drop(['target', 'time'], axis=1))[:, 1]\n",
    "    predict_real += cat.predict_proba(df[df['time']==-1][df.columns[:-2]])[:, 1]"
   ]
  },
  {
   "cell_type": "code",
   "execution_count": null,
   "id": "0b07bf59-7d9f-428f-8feb-b3d4436a8861",
   "metadata": {},
   "outputs": [],
   "source": [
    "test_pred = {'user_id': X_test.index.values, 'pred_agg_0010': predict_test}\n",
    "real_pred = {'user_id': df[df['time']==-1][df.columns[:-2]].index.values, 'pred_agg_0010': predict_real}\n",
    "\n",
    "test_pred = pd.DataFrame(test_pred)\n",
    "real_pred = pd.DataFrame(real_pred)\n",
    "\n",
    "metadata['pred_time_0010'] = metadata['pred_time_0010']/5\n",
    "test_pred['pred_time_0010'] = test_pred['pred_time_0010']/25\n",
    "real_pred['pred_time_0010'] = real_pred['pred_time_0010']/25\n",
    "\n",
    "metadata = pd.concat([metadata, test_pred, real_pred])\n",
    "metadata.to_csv('../predicts/agg_0010_meta.csv', index=False)"
   ]
  },
  {
   "cell_type": "code",
   "execution_count": null,
   "id": "e430a011-cb69-4128-81d3-ddf8e526f80f",
   "metadata": {},
   "outputs": [],
   "source": [
    "embeddings_path = f'../embeddings/coles_1.csv'\n",
    "main_embs = pd.read_csv(embeddings_path)\n",
    "\n",
    "wtte_embeddings_path = f'../embeddings/wtte_rnn.csv'\n",
    "wtte_embs = pd.read_csv(wtte_embeddings_path)\n",
    "main_embs = main_embs.merge(wtte_embs, on='user_id')"
   ]
  },
  {
   "cell_type": "code",
   "execution_count": null,
   "id": "690195a1-cf3a-43b6-b93d-3eb7596c2ca4",
   "metadata": {},
   "outputs": [],
   "source": [
    "X_train['user_id'] = X_train.index\n",
    "X_train.reset_index(drop=True, inplace=True)\n",
    "X_train_emb = X_train.merge(main_embs, on='user_id')"
   ]
  },
  {
   "cell_type": "code",
   "execution_count": null,
   "id": "438a213f-2ff2-4ef1-bcbf-6ddc457fee3a",
   "metadata": {},
   "outputs": [],
   "source": [
    "cat_features = [\"bankemplstatus\",\"customer_age\"]"
   ]
  },
  {
   "cell_type": "code",
   "execution_count": null,
   "id": "c707a39c-7c23-42b1-be4f-a166d72b63de",
   "metadata": {
    "tags": []
   },
   "outputs": [],
   "source": [
    "strat_kfold = StratifiedKFold(n_splits=5, shuffle=True, random_state=42)\n",
    "\n",
    "X_, y_ = X_train_emb.drop(['time', 'target','report_dt'], axis=1), X_train_emb['time']\n",
    "time_models = []\n",
    "for train_index, valid_index in strat_kfold.split(X_train_emb, X_train_emb['target']):\n",
    "    \n",
    "    X_train_, X_val = X_.iloc[train_index], X_.iloc[valid_index]\n",
    "    y_train_, y_val = y_.iloc[train_index], y_.iloc[valid_index]\n",
    "\n",
    "    model = CatBoostRegressor(\n",
    "        iterations = 5000,\n",
    "        depth=5,\n",
    "        learning_rate=0.02,\n",
    "        cat_features = cat_features,\n",
    "        early_stopping_rounds=400,\n",
    "        random_seed = 42,\n",
    "        eval_metric='MSLE',\n",
    "        task_type=\"GPU\",\n",
    "    )\n",
    "\n",
    "    model.fit(Pool(X_train_, y_train_, cat_features=cat_features),\n",
    "              eval_set=Pool(X_val, y_val, cat_features=cat_features),\n",
    "              verbose=100)\n",
    "    time_models.append(model)"
   ]
  },
  {
   "cell_type": "code",
   "execution_count": null,
   "id": "72bdc477-fda0-4797-838d-e0df699cbf0f",
   "metadata": {
    "tags": []
   },
   "outputs": [],
   "source": [
    "scores = []\n",
    "frames_for_metamodel = []\n",
    "models = []\n",
    "for i, (train_index, valid_index) in enumerate(strat_kfold.split(X_train_emb, X_train_emb['target'])):\n",
    "    train_with_embs_churn = X_train_emb.drop(['time', 'target'], axis=1).copy()\n",
    "    train_with_embs_churn['new_time'] = time_models[i].predict(X_train_emb)\n",
    "    X_, y_ = train_with_embs_churn, X_train_emb['target']\n",
    "    X_train_, X_val = X_.iloc[train_index], X_.iloc[valid_index]\n",
    "    y_train_, y_val = y_.iloc[train_index], y_.iloc[valid_index]\n",
    "\n",
    "    model = CatBoostClassifier(\n",
    "        iterations = 5000,\n",
    "        depth=4,\n",
    "        learning_rate=0.005,\n",
    "        eval_metric='AUC',\n",
    "        cat_features = cat_features,\n",
    "        early_stopping_rounds=400,\n",
    "        task_type=\"GPU\",\n",
    "    )\n",
    "\n",
    "    model.fit(Pool(X_train_, y_train_, cat_features=cat_features),\n",
    "              eval_set=Pool(X_val, y_val, cat_features=cat_features),\n",
    "              verbose=100)\n",
    "    models.append(model)\n",
    "    \n",
    "    pred = model.predict_proba(X_val)[:, 1]\n",
    "    frames_for_metamodel.append(pd.DataFrame({'user_id': X_val.user_id.values, 'pred_time_0010': pred}))\n",
    "    scores.append(metrics.roc_auc_score(y_val, pred))\n",
    "\n",
    "print(np.mean(scores))\n",
    "metadata = pd.concat(frames_for_metamodel, axis=0).reset_index(drop=True)"
   ]
  },
  {
   "cell_type": "code",
   "execution_count": null,
   "id": "31db0859-9b19-4c90-b2eb-865889f7f62e",
   "metadata": {},
   "outputs": [],
   "source": [
    "metadata"
   ]
  },
  {
   "cell_type": "code",
   "execution_count": null,
   "id": "98ac4459-5081-4cf7-94bb-3980e71ef21a",
   "metadata": {},
   "outputs": [],
   "source": [
    "X_test['user_id'] = X_test.index\n",
    "X_test.reset_index(drop=True, inplace=True)\n",
    "X_test_emb = X_test.merge(main_embs, on='user_id')"
   ]
  },
  {
   "cell_type": "code",
   "execution_count": null,
   "id": "e836d7eb-efba-4bf5-85e4-d151edde16a0",
   "metadata": {},
   "outputs": [],
   "source": [
    "X_test_ = X_test_emb.copy()\n",
    "time =[time_models[i].predict(X_test_.drop(['report_dt', 'target', 'time',], axis=1)) for i in range(5)]\n",
    "X_test_['new_time'] = np.mean(time, axis =0)\n",
    "predict = np.zeros(X_test_.shape[0])\n",
    "for i in range(len(models)):\n",
    "    predict += models[i].predict_proba(X_test_.drop(['target', 'time',], axis=1))[:, 1]\n",
    "print(metrics.roc_auc_score(X_test_['target'], predict))"
   ]
  },
  {
   "cell_type": "code",
   "execution_count": null,
   "id": "a804d575-8288-4e50-9c29-6dbecd19aded",
   "metadata": {},
   "outputs": [],
   "source": [
    "test_pred = {'user_id': X_test_emb.user_id.values, 'pred_time_0010': predict}\n",
    "test_pred = pd.DataFrame(test_pred)\n",
    "test_pred['pred_time_0010'] = test_pred['pred_time_0010']/5"
   ]
  },
  {
   "cell_type": "code",
   "execution_count": null,
   "id": "d4f9917a-f6ad-4aa1-89a6-2260cfad3688",
   "metadata": {},
   "outputs": [],
   "source": [
    "X_ = X.copy()\n",
    "X_['user_id'] = X_.index\n",
    "X_.reset_index(drop=True, inplace=True)\n",
    "X_train_emb = X_.merge(main_embs, on='user_id')"
   ]
  },
  {
   "cell_type": "code",
   "execution_count": null,
   "id": "c4e00889-a08b-4e36-b8a5-ca8404ee08f4",
   "metadata": {},
   "outputs": [],
   "source": [
    "scores = []\n",
    "models = []\n",
    "for i, (train_index, valid_index) in enumerate(strat_kfold.split(X_train_emb, X_train_emb['target'])):\n",
    "    train_with_embs_churn = X_train_emb.drop(['time', 'target'], axis=1).copy()\n",
    "    train_with_embs_churn['new_time'] = time_models[i].predict(X_train_emb)\n",
    "    X_, y_ = train_with_embs_churn, X_train_emb['target']\n",
    "    X_train_, X_val = X_.iloc[train_index], X_.iloc[valid_index]\n",
    "    y_train_, y_val = y_.iloc[train_index], y_.iloc[valid_index]\n",
    "\n",
    "    model = CatBoostClassifier(\n",
    "        iterations = 5000,\n",
    "        depth=4,\n",
    "        learning_rate=0.005,\n",
    "        eval_metric='AUC',\n",
    "        cat_features = cat_features,\n",
    "        early_stopping_rounds=400,\n",
    "        task_type=\"GPU\",\n",
    "    )\n",
    "\n",
    "    model.fit(Pool(X_train_, y_train_, cat_features=cat_features),\n",
    "              eval_set=Pool(X_val, y_val, cat_features=cat_features),\n",
    "              verbose=100)\n",
    "    models.append(model)\n",
    "    pred = model.predict_proba(X_val)[:, 1]\n",
    "    scores.append(metrics.roc_auc_score(y_val, pred))\n",
    "\n",
    "print(np.mean(scores))"
   ]
  },
  {
   "cell_type": "code",
   "execution_count": null,
   "id": "f459b4aa-8d49-4278-8e68-3531f4829230",
   "metadata": {},
   "outputs": [],
   "source": [
    "X_real = df[df['time']==-1][df.columns[:-2]].copy()\n",
    "X_real['user_id'] = X_real.index\n",
    "X_real.reset_index(drop=True, inplace=True)\n",
    "X_real_emb = X_real.merge(main_embs, on='user_id')\n",
    "X_real_ = X_real_emb.copy()\n",
    "\n",
    "time =[time_models[i].predict(X_real_.drop(['report_dt'], axis=1)) for i in range(5)]\n",
    "X_real_['new_time'] = np.mean(time, axis =0)\n",
    "predict = np.zeros(X_real_.shape[0])\n",
    "for i in range(len(models)):\n",
    "    predict += models[i].predict_proba(X_real_)[:, 1]"
   ]
  },
  {
   "cell_type": "code",
   "execution_count": null,
   "id": "a4a1df42-3f3f-4684-991e-08a51017096b",
   "metadata": {},
   "outputs": [],
   "source": [
    "real_pred = {'user_id': X_real_.user_id.values, 'pred_time_0010': predict}\n",
    "real_pred = pd.DataFrame(real_pred)\n",
    "real_pred['pred_time_0010'] = real_pred['pred_time_0010']/5\n",
    "\n",
    "metadata = pd.concat([metadata, test_pred, real_pred])\n",
    "metadata['pred_time_0010'] = metadata['pred_time_0010']/5\n",
    "metadata.to_csv('../predictions/time_0010_pred_meta.csv', index=False)"
   ]
  }
 ],
 "metadata": {
  "kernelspec": {
   "display_name": "datafusion",
   "language": "python",
   "name": "datafusion"
  },
  "language_info": {
   "codemirror_mode": {
    "name": "ipython",
    "version": 3
   },
   "file_extension": ".py",
   "mimetype": "text/x-python",
   "name": "python",
   "nbconvert_exporter": "python",
   "pygments_lexer": "ipython3",
   "version": "3.8.18"
  }
 },
 "nbformat": 4,
 "nbformat_minor": 5
}
