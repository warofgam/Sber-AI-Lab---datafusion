{
 "cells": [
  {
   "cell_type": "code",
   "execution_count": 1,
   "metadata": {},
   "outputs": [
    {
     "name": "stderr",
     "output_type": "stream",
     "text": [
      "\n",
      "libgomp: Invalid value for environment variable OMP_NUM_THREADS\n",
      "Global seed set to 42\n",
      "\n",
      "libgomp: Invalid value for environment variable OMP_NUM_THREADS\n"
     ]
    }
   ],
   "source": [
    "import os\n",
    "import pickle\n",
    "RANDOM_STATE = 42\n",
    "import tqdm\n",
    "import numpy as np\n",
    "import pandas as pd\n",
    "import torch\n",
    "import torchmetrics\n",
    "import logging\n",
    "import pytorch_lightning as pl\n",
    "pl.seed_everything(RANDOM_STATE)\n",
    "from copy import deepcopy\n",
    "from functools import partial\n",
    "\n",
    "from omegaconf import DictConfig\n",
    "\n",
    "from sklearn.metrics import roc_auc_score\n",
    "from sklearn.model_selection import train_test_split, StratifiedKFold\n",
    "from pytorch_lightning.loggers import TensorBoardLogger\n",
    "\n",
    "from ptls.nn import TrxEncoder, RnnSeqEncoder, Head, L2NormEncoder\n",
    "from ptls.data_load.utils import collate_feature_dict\n",
    "from ptls.data_load.datasets import MemoryMapDataset, AugmentationDataset\n",
    "from ptls.data_load.padded_batch import PaddedBatch\n",
    "from ptls.data_load.iterable_processing import SeqLenFilter\n",
    "from ptls.preprocessing import PandasDataPreprocessor\n",
    "from ptls.frames import PtlsDataModule\n",
    "from ptls.frames.coles import CoLESModule, ColesDataset\n",
    "from ptls.frames.coles.losses import SoftmaxLoss\n",
    "from ptls.frames.coles.metric import BatchRecallTopK\n",
    "from ptls.frames.coles.split_strategy import SampleSlices\n",
    "from ptls.frames.inference_module import InferenceModule\n",
    "from ptls.data_load.augmentations import RandomSlice, DropoutTrx\n",
    "import warnings\n",
    "warnings.filterwarnings(\"ignore\")"
   ]
  },
  {
   "cell_type": "code",
   "execution_count": 2,
   "metadata": {},
   "outputs": [],
   "source": [
    "class SeqToTargetDataset(torch.utils.data.Dataset):\n",
    "    def __init__(self,\n",
    "                 data,\n",
    "                 target_col_name,\n",
    "                 target_dtype=None,\n",
    "                 *args, **kwargs,\n",
    "                 ):\n",
    "        super().__init__(*args, **kwargs)\n",
    "\n",
    "        self.data = data\n",
    "        \n",
    "        self.target_col_name = target_col_name\n",
    "        if type(target_dtype) is str:\n",
    "            self.target_dtype = getattr(torch, target_dtype)\n",
    "        else:\n",
    "            self.target_dtype = target_dtype\n",
    "\n",
    "    def __len__(self):\n",
    "        return len(self.data)\n",
    "\n",
    "    def __getitem__(self, item):\n",
    "        feature_arrays = self.data[item]\n",
    "        return feature_arrays\n",
    "\n",
    "    def __iter__(self):\n",
    "        for feature_arrays in self.data:\n",
    "            yield feature_arrays\n",
    "\n",
    "    def collate_fn(self, padded_batch):\n",
    "        padded_batch = collate_feature_dict(padded_batch)\n",
    "        \n",
    "        target = padded_batch.payload[self.target_col_name]\n",
    "        time = padded_batch.payload['time']\n",
    "        del padded_batch.payload[self.target_col_name]\n",
    "        if self.target_dtype is not None:\n",
    "            target = target.to(dtype=self.target_dtype)\n",
    "\n",
    "        return padded_batch, target, time\n",
    "\n",
    "\n",
    "class SeqToTargetIterableDataset(SeqToTargetDataset, torch.utils.data.IterableDataset):\n",
    "    pass"
   ]
  },
  {
   "cell_type": "code",
   "execution_count": 3,
   "metadata": {},
   "outputs": [],
   "source": [
    "class SequenceToTarget(pl.LightningModule):\n",
    "    def __init__(\n",
    "        self,\n",
    "        seq_encoder: torch.nn.Module,\n",
    "        head: torch.nn.Module=None,\n",
    "        head_time: torch.nn.Module=None,\n",
    "        loss: torch.nn.Module=None,\n",
    "        metric_list: torchmetrics.Metric=None,\n",
    "        optimizer_partial=None,\n",
    "        lr_scheduler_partial=None,\n",
    "        pretrained_lr=None,\n",
    "        train_update_n_steps=None\n",
    "    ):\n",
    "        super().__init__()\n",
    "\n",
    "        self.save_hyperparameters(ignore=[\n",
    "            'seq_encoder', 'head', 'head_time', 'loss',\n",
    "            'metric_list', 'optimizer_partial', 'lr_scheduler_partial'\n",
    "        ])\n",
    "        self.seq_encoder = seq_encoder\n",
    "        self.head = head\n",
    "        self.head_time = head_time\n",
    "        self.loss = loss\n",
    "\n",
    "        if type(metric_list) is dict or type(metric_list) is DictConfig:\n",
    "            metric_list = [(k, v) for k, v in metric_list.items()]\n",
    "        else:\n",
    "            if type(metric_list) is not list:\n",
    "                metric_list = [metric_list]\n",
    "            metric_list = [(m.__class__.__name__, m) for m in metric_list]\n",
    "\n",
    "        self.train_metrics = torch.nn.ModuleDict([(name, deepcopy(mc)) for name, mc in metric_list])\n",
    "        self.valid_metrics = torch.nn.ModuleDict([(name, deepcopy(mc)) for name, mc in metric_list])\n",
    "\n",
    "        self.optimizer_partial = optimizer_partial\n",
    "        self.lr_scheduler_partial = lr_scheduler_partial\n",
    "        \n",
    "    def forward(self, x):\n",
    "        add_features = None\n",
    "        \n",
    "        if isinstance(x, tuple):\n",
    "            x, add_features = x\n",
    "\n",
    "        x = self.seq_encoder(x)\n",
    "        \n",
    "        if self.head is not None:\n",
    "            y_h = self.head(x)\n",
    "        else:\n",
    "            y_h = x\n",
    "            \n",
    "        t_h = self.head_time(x)\n",
    "        \n",
    "        return y_h, t_h\n",
    "\n",
    "    def training_step(self, batch, _):\n",
    "        x, y, t = batch\n",
    "        y_h, t_h = self(x)\n",
    "\n",
    "        loss = self.loss(y_h, y)\n",
    "        self.log('loss/train_loss', loss)\n",
    "        for name, mf in self.train_metrics.items():\n",
    "            mf(y_h, y)\n",
    "            \n",
    "        loss_t = (t_h - t / 100.0).pow(2).mean()\n",
    "        self.log('loss/loss_time', loss_t)\n",
    "        return loss + 0.1 * loss_t\n",
    "\n",
    "    def training_epoch_end(self, outputs):\n",
    "        for name, mf in self.train_metrics.items():\n",
    "            self.log(f'{name}/train', mf.compute(), prog_bar=False)\n",
    "        for name, mf in self.train_metrics.items():\n",
    "            mf.reset()\n",
    "\n",
    "    def validation_step(self, batch, _):\n",
    "        x, y, t = batch\n",
    "        y_h, t_h = self(x)\n",
    "        self.log('loss/valid', self.loss(y_h, y))\n",
    "        for name, mf in self.valid_metrics.items():\n",
    "            mf(y_h, y)\n",
    "\n",
    "    def validation_epoch_end(self, outputs):\n",
    "        for name, mf in self.valid_metrics.items():\n",
    "            self.log(f'{name}/valid', mf.compute(), prog_bar=True)\n",
    "        for name, mf in self.valid_metrics.items():\n",
    "            mf.reset()\n",
    "\n",
    "    def configure_optimizers(self):\n",
    "        if self.hparams.pretrained_lr is not None:\n",
    "            if self.hparams.pretrained_lr == 'freeze':\n",
    "                for p in self.seq_encoder.parameters():\n",
    "                    p.requires_grad = False\n",
    "                parameters = self.parameters()\n",
    "            else:\n",
    "                parameters = [\n",
    "                    {'params': self.seq_encoder.parameters(), 'lr': self.hparams.pretrained_lr},\n",
    "                    {'params': self.head.parameters()},  # use predefined lr from `self.optimizer_partial`\n",
    "                ]\n",
    "        else:\n",
    "            parameters = self.parameters()\n",
    "\n",
    "        optimizer = self.optimizer_partial(parameters)\n",
    "        scheduler = self.lr_scheduler_partial(optimizer)\n",
    "        return [optimizer], [scheduler]"
   ]
  },
  {
   "cell_type": "code",
   "execution_count": 8,
   "metadata": {},
   "outputs": [],
   "source": [
    "PATH = '/home/jovyan/sakhno/datafusion-2024/'"
   ]
  },
  {
   "cell_type": "code",
   "execution_count": 9,
   "metadata": {},
   "outputs": [],
   "source": [
    "train = pd.read_csv(\n",
    "    os.path.join(PATH, 'data/train.csv'),\n",
    "    low_memory=False\n",
    ")"
   ]
  },
  {
   "cell_type": "code",
   "execution_count": 10,
   "metadata": {},
   "outputs": [],
   "source": [
    "transactions = pd.read_csv(\n",
    "    os.path.join(PATH, 'prepared_data/transactions.csv'),\n",
    "    parse_dates=['transaction_dttm'],\n",
    "    low_memory=False,\n",
    ")\n",
    "transactions['hour'] = transactions['transaction_dttm'].dt.hour"
   ]
  },
  {
   "cell_type": "code",
   "execution_count": 11,
   "metadata": {},
   "outputs": [],
   "source": [
    "trx_preprocessor = PandasDataPreprocessor(\n",
    "    col_id='user_id',\n",
    "    col_event_time='transaction_dttm',\n",
    "    event_time_transformation='dt_to_timestamp',\n",
    "    cols_category=[\n",
    "        'mcc_code',\n",
    "        'currency_rk',\n",
    "        'day_of_week',\n",
    "        'is_day_off',\n",
    "        'hour',\n",
    "    ],\n",
    "    cols_numerical=[\n",
    "        'transaction_amt',\n",
    "        'days_from_first_tr',\n",
    "        'days_from_prev_tr',\n",
    "        'hours_from_first_tr',\n",
    "        'hours_from_prev_tr',\n",
    "        'days_to_report',\n",
    "    ],\n",
    "    return_records=False,\n",
    ")"
   ]
  },
  {
   "cell_type": "code",
   "execution_count": 12,
   "metadata": {},
   "outputs": [],
   "source": [
    "transactions_ = trx_preprocessor.fit_transform(transactions)"
   ]
  },
  {
   "cell_type": "code",
   "execution_count": 13,
   "metadata": {},
   "outputs": [],
   "source": [
    "df = transactions_.copy()\n",
    "df = pd.merge(df, train[['user_id', 'target', 'time']], on='user_id')\n",
    "\n",
    "df_train, df_test = train_test_split(df, random_state=42, test_size=0.2)"
   ]
  },
  {
   "cell_type": "code",
   "execution_count": 14,
   "metadata": {},
   "outputs": [],
   "source": [
    "def inference(model, dl, device='cuda:0'):\n",
    "    logits = []\n",
    "    model.to(device)\n",
    "    softmax = torch.nn.Softmax(dim=0) \n",
    "    for batch in tqdm.tqdm(dl, position=0, leave=True):\n",
    "        with torch.no_grad():\n",
    "            x, _, _ = batch\n",
    "            y_h, t_h = model(x.to(device))\n",
    "            logits.extend([y_h.cpu()])\n",
    "        \n",
    "    logits = softmax(torch.vstack(logits)[:, 1]).cpu()\n",
    "    \n",
    "    torch.cuda.empty_cache()\n",
    "\n",
    "    return logits"
   ]
  },
  {
   "cell_type": "code",
   "execution_count": 15,
   "metadata": {},
   "outputs": [],
   "source": [
    "trx_encoder_params = dict(\n",
    "    numeric_values={\n",
    "        'transaction_amt': 'log',\n",
    "        'days_from_first_tr': 'identity',\n",
    "        'days_from_prev_tr': 'log',\n",
    "        'hours_from_first_tr': 'identity',\n",
    "        'hours_from_prev_tr': 'log',\n",
    "        'days_to_report': 'log',\n",
    "    },\n",
    "    embeddings={\n",
    "        'currency_rk': {'in': 5, 'out': 16},\n",
    "        'day_of_week': {'in': 8, 'out': 16},\n",
    "        'mcc_code': {'in': 330, 'out': 32},\n",
    "        'is_day_off': {'in': 4, 'out': 2},\n",
    "        'hour': {'in': 30, 'out': 4}\n",
    "    },\n",
    "    use_batch_norm_with_lens=True,\n",
    ")\n",
    "\n",
    "seq_encoder = RnnSeqEncoder(\n",
    "    trx_encoder=TrxEncoder(**trx_encoder_params),\n",
    "    hidden_size=800,\n",
    "    type='gru',\n",
    ")\n"
   ]
  },
  {
   "cell_type": "code",
   "execution_count": 16,
   "metadata": {},
   "outputs": [],
   "source": [
    "skf = StratifiedKFold(n_splits=5, shuffle=True, random_state = RANDOM_STATE)"
   ]
  },
  {
   "cell_type": "code",
   "execution_count": 17,
   "metadata": {},
   "outputs": [],
   "source": [
    "models = []"
   ]
  },
  {
   "cell_type": "code",
   "execution_count": 18,
   "metadata": {},
   "outputs": [],
   "source": [
    "predictions_5folds = []"
   ]
  },
  {
   "cell_type": "code",
   "execution_count": 19,
   "metadata": {},
   "outputs": [],
   "source": [
    "a = torch.load('model/seq_encoder.pt')\n",
    "a_cpy = a.copy()\n",
    "for key, value in a.items():\n",
    "    if 'numerical' in key:\n",
    "        a_cpy[key.replace('numerical', 'custom_embedding')] = value\n",
    "        del a_cpy[key]"
   ]
  },
  {
   "cell_type": "code",
   "execution_count": 21,
   "metadata": {
    "collapsed": true,
    "jupyter": {
     "outputs_hidden": true
    },
    "tags": []
   },
   "outputs": [
    {
     "name": "stderr",
     "output_type": "stream",
     "text": [
      "GPU available: True, used: True\n",
      "TPU available: False, using: 0 TPU cores\n",
      "IPU available: False, using: 0 IPUs\n",
      "HPU available: False, using: 0 HPUs\n",
      "LOCAL_RANK: 0 - CUDA_VISIBLE_DEVICES: [0,1]\n",
      "\n",
      "  | Name          | Type          | Params\n",
      "------------------------------------------------\n",
      "0 | seq_encoder   | RnnSeqEncoder | 2.1 M \n",
      "1 | head          | Sequential    | 411 K \n",
      "2 | head_time     | Sequential    | 801   \n",
      "3 | loss          | NLLLoss       | 0     \n",
      "4 | train_metrics | ModuleDict    | 0     \n",
      "5 | valid_metrics | ModuleDict    | 0     \n",
      "------------------------------------------------\n",
      "2.5 M     Trainable params\n",
      "0         Non-trainable params\n",
      "2.5 M     Total params\n",
      "10.123    Total estimated model params size (MB)\n"
     ]
    },
    {
     "data": {
      "application/vnd.jupyter.widget-view+json": {
       "model_id": "ed80b878d4cb4ab3939be8e956854e86",
       "version_major": 2,
       "version_minor": 0
      },
      "text/plain": [
       "Sanity Checking: 0it [00:00, ?it/s]"
      ]
     },
     "metadata": {},
     "output_type": "display_data"
    },
    {
     "data": {
      "application/vnd.jupyter.widget-view+json": {
       "model_id": "647937b10bda4df087dcc761cd5d917d",
       "version_major": 2,
       "version_minor": 0
      },
      "text/plain": [
       "Training: 0it [00:00, ?it/s]"
      ]
     },
     "metadata": {},
     "output_type": "display_data"
    },
    {
     "data": {
      "application/vnd.jupyter.widget-view+json": {
       "model_id": "eb53383e2cbe45d88952b25696e07396",
       "version_major": 2,
       "version_minor": 0
      },
      "text/plain": [
       "Validation: 0it [00:00, ?it/s]"
      ]
     },
     "metadata": {},
     "output_type": "display_data"
    },
    {
     "data": {
      "application/vnd.jupyter.widget-view+json": {
       "model_id": "4f68fc39222a444ebd9886ec82c1933d",
       "version_major": 2,
       "version_minor": 0
      },
      "text/plain": [
       "Validation: 0it [00:00, ?it/s]"
      ]
     },
     "metadata": {},
     "output_type": "display_data"
    },
    {
     "data": {
      "application/vnd.jupyter.widget-view+json": {
       "model_id": "677d469266ba430cb8b8d9ffe02dcef6",
       "version_major": 2,
       "version_minor": 0
      },
      "text/plain": [
       "Validation: 0it [00:00, ?it/s]"
      ]
     },
     "metadata": {},
     "output_type": "display_data"
    },
    {
     "data": {
      "application/vnd.jupyter.widget-view+json": {
       "model_id": "02a25ca3321543f0a82ed02d0b1d1174",
       "version_major": 2,
       "version_minor": 0
      },
      "text/plain": [
       "Validation: 0it [00:00, ?it/s]"
      ]
     },
     "metadata": {},
     "output_type": "display_data"
    },
    {
     "data": {
      "application/vnd.jupyter.widget-view+json": {
       "model_id": "05178c287bf246f68fc1bef73ee83c60",
       "version_major": 2,
       "version_minor": 0
      },
      "text/plain": [
       "Validation: 0it [00:00, ?it/s]"
      ]
     },
     "metadata": {},
     "output_type": "display_data"
    },
    {
     "data": {
      "application/vnd.jupyter.widget-view+json": {
       "model_id": "099aabdfefa34d4d926a7ccb3702f2b3",
       "version_major": 2,
       "version_minor": 0
      },
      "text/plain": [
       "Validation: 0it [00:00, ?it/s]"
      ]
     },
     "metadata": {},
     "output_type": "display_data"
    },
    {
     "name": "stderr",
     "output_type": "stream",
     "text": [
      "100%|██████████| 20/20 [00:02<00:00,  8.20it/s]\n"
     ]
    },
    {
     "name": "stdout",
     "output_type": "stream",
     "text": [
      "------------\n",
      "AUROC; 5th fold: 0.7303968896059996\n",
      "------------\n"
     ]
    },
    {
     "name": "stderr",
     "output_type": "stream",
     "text": [
      "GPU available: True, used: True\n",
      "TPU available: False, using: 0 TPU cores\n",
      "IPU available: False, using: 0 IPUs\n",
      "HPU available: False, using: 0 HPUs\n",
      "LOCAL_RANK: 0 - CUDA_VISIBLE_DEVICES: [0,1]\n",
      "\n",
      "  | Name          | Type          | Params\n",
      "------------------------------------------------\n",
      "0 | seq_encoder   | RnnSeqEncoder | 2.1 M \n",
      "1 | head          | Sequential    | 411 K \n",
      "2 | head_time     | Sequential    | 801   \n",
      "3 | loss          | NLLLoss       | 0     \n",
      "4 | train_metrics | ModuleDict    | 0     \n",
      "5 | valid_metrics | ModuleDict    | 0     \n",
      "------------------------------------------------\n",
      "2.5 M     Trainable params\n",
      "0         Non-trainable params\n",
      "2.5 M     Total params\n",
      "10.123    Total estimated model params size (MB)\n"
     ]
    },
    {
     "data": {
      "application/vnd.jupyter.widget-view+json": {
       "model_id": "c6285308b6c54462b46ce5e447cd66fe",
       "version_major": 2,
       "version_minor": 0
      },
      "text/plain": [
       "Sanity Checking: 0it [00:00, ?it/s]"
      ]
     },
     "metadata": {},
     "output_type": "display_data"
    },
    {
     "data": {
      "application/vnd.jupyter.widget-view+json": {
       "model_id": "3652ff28f8e84d808b861aa5c0a2b631",
       "version_major": 2,
       "version_minor": 0
      },
      "text/plain": [
       "Training: 0it [00:00, ?it/s]"
      ]
     },
     "metadata": {},
     "output_type": "display_data"
    },
    {
     "data": {
      "application/vnd.jupyter.widget-view+json": {
       "model_id": "e23af996176e44c093886829140cd654",
       "version_major": 2,
       "version_minor": 0
      },
      "text/plain": [
       "Validation: 0it [00:00, ?it/s]"
      ]
     },
     "metadata": {},
     "output_type": "display_data"
    },
    {
     "data": {
      "application/vnd.jupyter.widget-view+json": {
       "model_id": "3e45b20179034f2cb56336074e3e627a",
       "version_major": 2,
       "version_minor": 0
      },
      "text/plain": [
       "Validation: 0it [00:00, ?it/s]"
      ]
     },
     "metadata": {},
     "output_type": "display_data"
    },
    {
     "data": {
      "application/vnd.jupyter.widget-view+json": {
       "model_id": "4eb85df7d347407f9be910cde8eb8378",
       "version_major": 2,
       "version_minor": 0
      },
      "text/plain": [
       "Validation: 0it [00:00, ?it/s]"
      ]
     },
     "metadata": {},
     "output_type": "display_data"
    },
    {
     "data": {
      "application/vnd.jupyter.widget-view+json": {
       "model_id": "febbaf4579d94c84ad12d456e33051a2",
       "version_major": 2,
       "version_minor": 0
      },
      "text/plain": [
       "Validation: 0it [00:00, ?it/s]"
      ]
     },
     "metadata": {},
     "output_type": "display_data"
    },
    {
     "data": {
      "application/vnd.jupyter.widget-view+json": {
       "model_id": "3c2e720c4bae44bdba689b940d746fae",
       "version_major": 2,
       "version_minor": 0
      },
      "text/plain": [
       "Validation: 0it [00:00, ?it/s]"
      ]
     },
     "metadata": {},
     "output_type": "display_data"
    },
    {
     "data": {
      "application/vnd.jupyter.widget-view+json": {
       "model_id": "cb4c57b0177b4eab9e33b75f27b7a856",
       "version_major": 2,
       "version_minor": 0
      },
      "text/plain": [
       "Validation: 0it [00:00, ?it/s]"
      ]
     },
     "metadata": {},
     "output_type": "display_data"
    },
    {
     "name": "stderr",
     "output_type": "stream",
     "text": [
      "100%|██████████| 20/20 [00:02<00:00,  7.65it/s]\n"
     ]
    },
    {
     "name": "stdout",
     "output_type": "stream",
     "text": [
      "------------\n",
      "AUROC; 5th fold: 0.7312295277355122\n",
      "------------\n"
     ]
    },
    {
     "name": "stderr",
     "output_type": "stream",
     "text": [
      "GPU available: True, used: True\n",
      "TPU available: False, using: 0 TPU cores\n",
      "IPU available: False, using: 0 IPUs\n",
      "HPU available: False, using: 0 HPUs\n",
      "Missing logger folder: lightning_logs/CoLES-supervised-agg_2\n",
      "LOCAL_RANK: 0 - CUDA_VISIBLE_DEVICES: [0,1]\n",
      "\n",
      "  | Name          | Type          | Params\n",
      "------------------------------------------------\n",
      "0 | seq_encoder   | RnnSeqEncoder | 2.1 M \n",
      "1 | head          | Sequential    | 411 K \n",
      "2 | head_time     | Sequential    | 801   \n",
      "3 | loss          | NLLLoss       | 0     \n",
      "4 | train_metrics | ModuleDict    | 0     \n",
      "5 | valid_metrics | ModuleDict    | 0     \n",
      "------------------------------------------------\n",
      "2.5 M     Trainable params\n",
      "0         Non-trainable params\n",
      "2.5 M     Total params\n",
      "10.123    Total estimated model params size (MB)\n"
     ]
    },
    {
     "data": {
      "application/vnd.jupyter.widget-view+json": {
       "model_id": "6b91624892e7444d896b8b204514883f",
       "version_major": 2,
       "version_minor": 0
      },
      "text/plain": [
       "Sanity Checking: 0it [00:00, ?it/s]"
      ]
     },
     "metadata": {},
     "output_type": "display_data"
    },
    {
     "data": {
      "application/vnd.jupyter.widget-view+json": {
       "model_id": "85d57234148a46bb8c465df67b74ed26",
       "version_major": 2,
       "version_minor": 0
      },
      "text/plain": [
       "Training: 0it [00:00, ?it/s]"
      ]
     },
     "metadata": {},
     "output_type": "display_data"
    },
    {
     "data": {
      "application/vnd.jupyter.widget-view+json": {
       "model_id": "011c05bfac6d4c8ebc4a4c6496aa5a22",
       "version_major": 2,
       "version_minor": 0
      },
      "text/plain": [
       "Validation: 0it [00:00, ?it/s]"
      ]
     },
     "metadata": {},
     "output_type": "display_data"
    },
    {
     "data": {
      "application/vnd.jupyter.widget-view+json": {
       "model_id": "5f974488548f4f7eb053ac8a74e7042a",
       "version_major": 2,
       "version_minor": 0
      },
      "text/plain": [
       "Validation: 0it [00:00, ?it/s]"
      ]
     },
     "metadata": {},
     "output_type": "display_data"
    },
    {
     "data": {
      "application/vnd.jupyter.widget-view+json": {
       "model_id": "002b23aa43d34c558ae53b132c384677",
       "version_major": 2,
       "version_minor": 0
      },
      "text/plain": [
       "Validation: 0it [00:00, ?it/s]"
      ]
     },
     "metadata": {},
     "output_type": "display_data"
    },
    {
     "data": {
      "application/vnd.jupyter.widget-view+json": {
       "model_id": "a490463516e440c5bfa97d7b1b8851fb",
       "version_major": 2,
       "version_minor": 0
      },
      "text/plain": [
       "Validation: 0it [00:00, ?it/s]"
      ]
     },
     "metadata": {},
     "output_type": "display_data"
    },
    {
     "data": {
      "application/vnd.jupyter.widget-view+json": {
       "model_id": "2c506eae973a4a64b90f4801b25c317e",
       "version_major": 2,
       "version_minor": 0
      },
      "text/plain": [
       "Validation: 0it [00:00, ?it/s]"
      ]
     },
     "metadata": {},
     "output_type": "display_data"
    },
    {
     "data": {
      "application/vnd.jupyter.widget-view+json": {
       "model_id": "ff4f2ce3c7774f859ef59678a5829580",
       "version_major": 2,
       "version_minor": 0
      },
      "text/plain": [
       "Validation: 0it [00:00, ?it/s]"
      ]
     },
     "metadata": {},
     "output_type": "display_data"
    },
    {
     "name": "stderr",
     "output_type": "stream",
     "text": [
      "100%|██████████| 20/20 [00:02<00:00,  7.54it/s]\n"
     ]
    },
    {
     "name": "stdout",
     "output_type": "stream",
     "text": [
      "------------\n",
      "AUROC; 5th fold: 0.7340950298634813\n",
      "------------\n"
     ]
    },
    {
     "name": "stderr",
     "output_type": "stream",
     "text": [
      "GPU available: True, used: True\n",
      "TPU available: False, using: 0 TPU cores\n",
      "IPU available: False, using: 0 IPUs\n",
      "HPU available: False, using: 0 HPUs\n",
      "Missing logger folder: lightning_logs/CoLES-supervised-agg_3\n",
      "LOCAL_RANK: 0 - CUDA_VISIBLE_DEVICES: [0,1]\n",
      "\n",
      "  | Name          | Type          | Params\n",
      "------------------------------------------------\n",
      "0 | seq_encoder   | RnnSeqEncoder | 2.1 M \n",
      "1 | head          | Sequential    | 411 K \n",
      "2 | head_time     | Sequential    | 801   \n",
      "3 | loss          | NLLLoss       | 0     \n",
      "4 | train_metrics | ModuleDict    | 0     \n",
      "5 | valid_metrics | ModuleDict    | 0     \n",
      "------------------------------------------------\n",
      "2.5 M     Trainable params\n",
      "0         Non-trainable params\n",
      "2.5 M     Total params\n",
      "10.123    Total estimated model params size (MB)\n"
     ]
    },
    {
     "data": {
      "application/vnd.jupyter.widget-view+json": {
       "model_id": "e633fe10044944fa8a31c83d912feffa",
       "version_major": 2,
       "version_minor": 0
      },
      "text/plain": [
       "Sanity Checking: 0it [00:00, ?it/s]"
      ]
     },
     "metadata": {},
     "output_type": "display_data"
    },
    {
     "data": {
      "application/vnd.jupyter.widget-view+json": {
       "model_id": "3f5ecf200897499d912f525c460069b6",
       "version_major": 2,
       "version_minor": 0
      },
      "text/plain": [
       "Training: 0it [00:00, ?it/s]"
      ]
     },
     "metadata": {},
     "output_type": "display_data"
    },
    {
     "data": {
      "application/vnd.jupyter.widget-view+json": {
       "model_id": "2d3c5875f98145ee96f7d7a903e5b866",
       "version_major": 2,
       "version_minor": 0
      },
      "text/plain": [
       "Validation: 0it [00:00, ?it/s]"
      ]
     },
     "metadata": {},
     "output_type": "display_data"
    },
    {
     "data": {
      "application/vnd.jupyter.widget-view+json": {
       "model_id": "45da4e3deda440f18c3cfd878d499e1e",
       "version_major": 2,
       "version_minor": 0
      },
      "text/plain": [
       "Validation: 0it [00:00, ?it/s]"
      ]
     },
     "metadata": {},
     "output_type": "display_data"
    },
    {
     "data": {
      "application/vnd.jupyter.widget-view+json": {
       "model_id": "741ed6a6cd2d4ac5b199cb312559e8b6",
       "version_major": 2,
       "version_minor": 0
      },
      "text/plain": [
       "Validation: 0it [00:00, ?it/s]"
      ]
     },
     "metadata": {},
     "output_type": "display_data"
    },
    {
     "data": {
      "application/vnd.jupyter.widget-view+json": {
       "model_id": "9fdea9641e5f48de90cda5a47af37a33",
       "version_major": 2,
       "version_minor": 0
      },
      "text/plain": [
       "Validation: 0it [00:00, ?it/s]"
      ]
     },
     "metadata": {},
     "output_type": "display_data"
    },
    {
     "data": {
      "application/vnd.jupyter.widget-view+json": {
       "model_id": "22342d26c04b47058624942b8eb72884",
       "version_major": 2,
       "version_minor": 0
      },
      "text/plain": [
       "Validation: 0it [00:00, ?it/s]"
      ]
     },
     "metadata": {},
     "output_type": "display_data"
    },
    {
     "data": {
      "application/vnd.jupyter.widget-view+json": {
       "model_id": "eb38135e2b1e4ab4a737dd7a965b3383",
       "version_major": 2,
       "version_minor": 0
      },
      "text/plain": [
       "Validation: 0it [00:00, ?it/s]"
      ]
     },
     "metadata": {},
     "output_type": "display_data"
    },
    {
     "name": "stderr",
     "output_type": "stream",
     "text": [
      "100%|██████████| 20/20 [00:02<00:00,  7.05it/s]\n"
     ]
    },
    {
     "name": "stdout",
     "output_type": "stream",
     "text": [
      "------------\n",
      "AUROC; 5th fold: 0.717170415402604\n",
      "------------\n"
     ]
    },
    {
     "name": "stderr",
     "output_type": "stream",
     "text": [
      "GPU available: True, used: True\n",
      "TPU available: False, using: 0 TPU cores\n",
      "IPU available: False, using: 0 IPUs\n",
      "HPU available: False, using: 0 HPUs\n",
      "Missing logger folder: lightning_logs/CoLES-supervised-agg_4\n",
      "LOCAL_RANK: 0 - CUDA_VISIBLE_DEVICES: [0,1]\n",
      "\n",
      "  | Name          | Type          | Params\n",
      "------------------------------------------------\n",
      "0 | seq_encoder   | RnnSeqEncoder | 2.1 M \n",
      "1 | head          | Sequential    | 411 K \n",
      "2 | head_time     | Sequential    | 801   \n",
      "3 | loss          | NLLLoss       | 0     \n",
      "4 | train_metrics | ModuleDict    | 0     \n",
      "5 | valid_metrics | ModuleDict    | 0     \n",
      "------------------------------------------------\n",
      "2.5 M     Trainable params\n",
      "0         Non-trainable params\n",
      "2.5 M     Total params\n",
      "10.123    Total estimated model params size (MB)\n"
     ]
    },
    {
     "data": {
      "application/vnd.jupyter.widget-view+json": {
       "model_id": "e41a4ca200a543be8debfc4b46ef21d9",
       "version_major": 2,
       "version_minor": 0
      },
      "text/plain": [
       "Sanity Checking: 0it [00:00, ?it/s]"
      ]
     },
     "metadata": {},
     "output_type": "display_data"
    },
    {
     "data": {
      "application/vnd.jupyter.widget-view+json": {
       "model_id": "aa6bdeacec124b578d4f89e04115f5b8",
       "version_major": 2,
       "version_minor": 0
      },
      "text/plain": [
       "Training: 0it [00:00, ?it/s]"
      ]
     },
     "metadata": {},
     "output_type": "display_data"
    },
    {
     "data": {
      "application/vnd.jupyter.widget-view+json": {
       "model_id": "0e90c686064241419ceb7c8e2302f686",
       "version_major": 2,
       "version_minor": 0
      },
      "text/plain": [
       "Validation: 0it [00:00, ?it/s]"
      ]
     },
     "metadata": {},
     "output_type": "display_data"
    },
    {
     "data": {
      "application/vnd.jupyter.widget-view+json": {
       "model_id": "e48d32d90dfd4f858e2d17c7da3bb6fb",
       "version_major": 2,
       "version_minor": 0
      },
      "text/plain": [
       "Validation: 0it [00:00, ?it/s]"
      ]
     },
     "metadata": {},
     "output_type": "display_data"
    },
    {
     "data": {
      "application/vnd.jupyter.widget-view+json": {
       "model_id": "f42fc79991204c83abdba3543c5250cb",
       "version_major": 2,
       "version_minor": 0
      },
      "text/plain": [
       "Validation: 0it [00:00, ?it/s]"
      ]
     },
     "metadata": {},
     "output_type": "display_data"
    },
    {
     "data": {
      "application/vnd.jupyter.widget-view+json": {
       "model_id": "b93dba3fb651480e8c90024d70e1b56d",
       "version_major": 2,
       "version_minor": 0
      },
      "text/plain": [
       "Validation: 0it [00:00, ?it/s]"
      ]
     },
     "metadata": {},
     "output_type": "display_data"
    },
    {
     "data": {
      "application/vnd.jupyter.widget-view+json": {
       "model_id": "6fa0edf4a04a46c19809e2d3e525c6ed",
       "version_major": 2,
       "version_minor": 0
      },
      "text/plain": [
       "Validation: 0it [00:00, ?it/s]"
      ]
     },
     "metadata": {},
     "output_type": "display_data"
    },
    {
     "data": {
      "application/vnd.jupyter.widget-view+json": {
       "model_id": "749b5e87a3744307af24ccabd7ca8d6b",
       "version_major": 2,
       "version_minor": 0
      },
      "text/plain": [
       "Validation: 0it [00:00, ?it/s]"
      ]
     },
     "metadata": {},
     "output_type": "display_data"
    },
    {
     "name": "stderr",
     "output_type": "stream",
     "text": [
      "100%|██████████| 20/20 [00:02<00:00,  6.84it/s]\n"
     ]
    },
    {
     "name": "stdout",
     "output_type": "stream",
     "text": [
      "------------\n",
      "AUROC; 5th fold: 0.7265722520462015\n",
      "------------\n"
     ]
    }
   ],
   "source": [
    "for i, (train_index, test_index) in enumerate(skf.split(df_train.drop(columns=['target']), df_train['target'])):\n",
    "    train_, test_ = df_train.iloc[train_index], df_train.iloc[test_index]\n",
    "    \n",
    "    dataset_train = train_.to_dict(orient='records')\n",
    "    dataset_test = test_.to_dict(orient='records')\n",
    "    \n",
    "    sup_dataset = PtlsDataModule(\n",
    "        train_data=SeqToTargetDataset(\n",
    "            AugmentationDataset(\n",
    "                dataset_train,\n",
    "                f_augmentations=[\n",
    "                    DropoutTrx(0.1),\n",
    "                ],\n",
    "            ),\n",
    "            target_col_name='target',\n",
    "            target_dtype=torch.long,\n",
    "        ),\n",
    "        valid_data=SeqToTargetDataset(\n",
    "            dataset_test,\n",
    "            target_col_name='target',\n",
    "            target_dtype=torch.long,\n",
    "        ),\n",
    "        train_batch_size=256,\n",
    "        train_num_workers=8,\n",
    "        train_drop_last=True,\n",
    "\n",
    "        valid_batch_size=256,\n",
    "        valid_num_workers=8,\n",
    "        valid_drop_last=True\n",
    "    )\n",
    "    \n",
    "    seq_encoder.load_state_dict(a_cpy)\n",
    "\n",
    "    sup_module = SequenceToTarget(\n",
    "        seq_encoder=seq_encoder,\n",
    "        head=torch.nn.Sequential(\n",
    "            torch.nn.Linear(seq_encoder.embedding_size, 512),\n",
    "            torch.nn.ReLU(),\n",
    "            torch.nn.Dropout(0.2),\n",
    "            torch.nn.Linear(512, 2),\n",
    "            torch.nn.LogSoftmax(dim=1),\n",
    "        ),\n",
    "        head_time=torch.nn.Sequential(\n",
    "            torch.nn.Linear(seq_encoder.embedding_size, 1),\n",
    "        ),\n",
    "        loss=torch.nn.NLLLoss(),\n",
    "        metric_list=torchmetrics.AUROC(num_classes=2),\n",
    "        optimizer_partial=partial(torch.optim.AdamW, lr=1e-4, weight_decay=0.0),\n",
    "        lr_scheduler_partial=partial(torch.optim.lr_scheduler.StepLR, step_size=1, gamma=0.2),\n",
    "    )\n",
    "    \n",
    "    # sup_module.load_state_dict(torch.load(f\"model/sup_modules-kfold/model-1.{i}.pt\"))\n",
    "    \n",
    "    trainer = pl.Trainer(\n",
    "        logger=TensorBoardLogger('lightning_logs', name=f'CoLES-supervised-agg_{i}'),\n",
    "        max_epochs=6,\n",
    "        gpus=1 if torch.cuda.is_available() else 0,\n",
    "        enable_progress_bar=True,\n",
    "        gradient_clip_algorithm='norm',\n",
    "        gradient_clip_val=0.18\n",
    "    )\n",
    "    \n",
    "    trainer.fit(sup_module, sup_dataset)\n",
    "    \n",
    "    torch.save(sup_module.state_dict(), f\"model/sup_modules-kfold/model-1.{i}.pt\")\n",
    "    \n",
    "    predictions_test = test_[[\"user_id\"]].copy()\n",
    "    \n",
    "    dataset = SeqToTargetDataset(\n",
    "        data=dataset_test,\n",
    "        target_col_name='target',\n",
    "    )\n",
    "\n",
    "    dl = torch.utils.data.DataLoader(\n",
    "        dataset=dataset,\n",
    "        collate_fn=dataset.collate_fn,\n",
    "        shuffle=False,\n",
    "        batch_size=512,\n",
    "        num_workers=4,\n",
    "    )\n",
    "    \n",
    "    predictions_test[\"sp\"] = inference(sup_module, dl)\n",
    "    \n",
    "    predictions_5folds.append(predictions_test)\n",
    "    \n",
    "    print(12*\"-\")\n",
    "    print(\"AUROC; 5th fold:\", roc_auc_score(test_[\"target\"].values, predictions_test[\"sp\"]))\n",
    "    print(12*\"-\")\n",
    "    \n",
    "    models.append(deepcopy(sup_module))"
   ]
  },
  {
   "cell_type": "code",
   "execution_count": 22,
   "metadata": {},
   "outputs": [],
   "source": [
    "predictions_5folds = pd.concat(predictions_5folds, axis=0)"
   ]
  },
  {
   "cell_type": "code",
   "execution_count": 23,
   "metadata": {},
   "outputs": [],
   "source": [
    "temp = predictions_5folds.merge(train[[\"user_id\", \"target\"]], on=\"user_id\")"
   ]
  },
  {
   "cell_type": "code",
   "execution_count": 24,
   "metadata": {},
   "outputs": [
    {
     "name": "stdout",
     "output_type": "stream",
     "text": [
      "------------\n",
      "AUROC; 5th fold: 0.7279373781131475\n",
      "------------\n"
     ]
    }
   ],
   "source": [
    "print(12*\"-\")\n",
    "print(\"AUROC; 5th fold:\", roc_auc_score(temp[\"target\"].values, temp[\"sp\"].values))\n",
    "print(12*\"-\")"
   ]
  },
  {
   "cell_type": "code",
   "execution_count": 25,
   "metadata": {},
   "outputs": [
    {
     "name": "stderr",
     "output_type": "stream",
     "text": [
      "100%|██████████| 25/25 [00:03<00:00,  7.14it/s]\n",
      "100%|██████████| 25/25 [00:03<00:00,  6.78it/s]\n",
      "100%|██████████| 25/25 [00:03<00:00,  6.80it/s]\n",
      "100%|██████████| 25/25 [00:03<00:00,  6.59it/s]\n",
      "100%|██████████| 25/25 [00:03<00:00,  6.77it/s]\n"
     ]
    },
    {
     "data": {
      "text/html": [
       "<div>\n",
       "<style scoped>\n",
       "    .dataframe tbody tr th:only-of-type {\n",
       "        vertical-align: middle;\n",
       "    }\n",
       "\n",
       "    .dataframe tbody tr th {\n",
       "        vertical-align: top;\n",
       "    }\n",
       "\n",
       "    .dataframe thead th {\n",
       "        text-align: right;\n",
       "    }\n",
       "</style>\n",
       "<table border=\"1\" class=\"dataframe\">\n",
       "  <thead>\n",
       "    <tr style=\"text-align: right;\">\n",
       "      <th></th>\n",
       "      <th>user_id</th>\n",
       "      <th>sp_0</th>\n",
       "      <th>sp_1</th>\n",
       "      <th>sp_2</th>\n",
       "      <th>sp_3</th>\n",
       "      <th>sp_4</th>\n",
       "    </tr>\n",
       "  </thead>\n",
       "  <tbody>\n",
       "    <tr>\n",
       "      <th>33042</th>\n",
       "      <td>287176</td>\n",
       "      <td>0.000035</td>\n",
       "      <td>0.000033</td>\n",
       "      <td>0.000030</td>\n",
       "      <td>0.000037</td>\n",
       "      <td>0.000051</td>\n",
       "    </tr>\n",
       "    <tr>\n",
       "      <th>7209</th>\n",
       "      <td>61447</td>\n",
       "      <td>0.000048</td>\n",
       "      <td>0.000059</td>\n",
       "      <td>0.000040</td>\n",
       "      <td>0.000069</td>\n",
       "      <td>0.000041</td>\n",
       "    </tr>\n",
       "    <tr>\n",
       "      <th>24367</th>\n",
       "      <td>210716</td>\n",
       "      <td>0.000017</td>\n",
       "      <td>0.000018</td>\n",
       "      <td>0.000013</td>\n",
       "      <td>0.000017</td>\n",
       "      <td>0.000023</td>\n",
       "    </tr>\n",
       "    <tr>\n",
       "      <th>19599</th>\n",
       "      <td>168576</td>\n",
       "      <td>0.000031</td>\n",
       "      <td>0.000035</td>\n",
       "      <td>0.000031</td>\n",
       "      <td>0.000035</td>\n",
       "      <td>0.000033</td>\n",
       "    </tr>\n",
       "    <tr>\n",
       "      <th>31465</th>\n",
       "      <td>273446</td>\n",
       "      <td>0.000083</td>\n",
       "      <td>0.000075</td>\n",
       "      <td>0.000067</td>\n",
       "      <td>0.000082</td>\n",
       "      <td>0.000067</td>\n",
       "    </tr>\n",
       "    <tr>\n",
       "      <th>...</th>\n",
       "      <td>...</td>\n",
       "      <td>...</td>\n",
       "      <td>...</td>\n",
       "      <td>...</td>\n",
       "      <td>...</td>\n",
       "      <td>...</td>\n",
       "    </tr>\n",
       "    <tr>\n",
       "      <th>29518</th>\n",
       "      <td>256542</td>\n",
       "      <td>0.000198</td>\n",
       "      <td>0.000171</td>\n",
       "      <td>0.000171</td>\n",
       "      <td>0.000200</td>\n",
       "      <td>0.000273</td>\n",
       "    </tr>\n",
       "    <tr>\n",
       "      <th>40886</th>\n",
       "      <td>354734</td>\n",
       "      <td>0.000028</td>\n",
       "      <td>0.000035</td>\n",
       "      <td>0.000032</td>\n",
       "      <td>0.000032</td>\n",
       "      <td>0.000033</td>\n",
       "    </tr>\n",
       "    <tr>\n",
       "      <th>19792</th>\n",
       "      <td>170336</td>\n",
       "      <td>0.000033</td>\n",
       "      <td>0.000034</td>\n",
       "      <td>0.000039</td>\n",
       "      <td>0.000037</td>\n",
       "      <td>0.000032</td>\n",
       "    </tr>\n",
       "    <tr>\n",
       "      <th>31101</th>\n",
       "      <td>270218</td>\n",
       "      <td>0.000025</td>\n",
       "      <td>0.000024</td>\n",
       "      <td>0.000039</td>\n",
       "      <td>0.000029</td>\n",
       "      <td>0.000026</td>\n",
       "    </tr>\n",
       "    <tr>\n",
       "      <th>54307</th>\n",
       "      <td>468015</td>\n",
       "      <td>0.000024</td>\n",
       "      <td>0.000050</td>\n",
       "      <td>0.000042</td>\n",
       "      <td>0.000049</td>\n",
       "      <td>0.000064</td>\n",
       "    </tr>\n",
       "  </tbody>\n",
       "</table>\n",
       "<p>12800 rows × 6 columns</p>\n",
       "</div>"
      ],
      "text/plain": [
       "       user_id      sp_0      sp_1      sp_2      sp_3      sp_4\n",
       "33042   287176  0.000035  0.000033  0.000030  0.000037  0.000051\n",
       "7209     61447  0.000048  0.000059  0.000040  0.000069  0.000041\n",
       "24367   210716  0.000017  0.000018  0.000013  0.000017  0.000023\n",
       "19599   168576  0.000031  0.000035  0.000031  0.000035  0.000033\n",
       "31465   273446  0.000083  0.000075  0.000067  0.000082  0.000067\n",
       "...        ...       ...       ...       ...       ...       ...\n",
       "29518   256542  0.000198  0.000171  0.000171  0.000200  0.000273\n",
       "40886   354734  0.000028  0.000035  0.000032  0.000032  0.000033\n",
       "19792   170336  0.000033  0.000034  0.000039  0.000037  0.000032\n",
       "31101   270218  0.000025  0.000024  0.000039  0.000029  0.000026\n",
       "54307   468015  0.000024  0.000050  0.000042  0.000049  0.000064\n",
       "\n",
       "[12800 rows x 6 columns]"
      ]
     },
     "execution_count": 25,
     "metadata": {},
     "output_type": "execute_result"
    }
   ],
   "source": [
    "dataset_test = df_test.copy()\n",
    "dataset_test[[\"target\", \"time\"]] = None\n",
    "dataset_test = dataset_test.to_dict(orient='records')\n",
    "\n",
    "dataset = SeqToTargetDataset(\n",
    "    data=dataset_test,\n",
    "    target_col_name='target',\n",
    ")\n",
    "\n",
    "dl = torch.utils.data.DataLoader(\n",
    "    dataset=dataset,\n",
    "    collate_fn=dataset.collate_fn,\n",
    "    shuffle=False,\n",
    "    batch_size=512,\n",
    "    num_workers=4,\n",
    ")\n",
    "\n",
    "predictions_test = df_test[[\"user_id\"]].copy()\n",
    "\n",
    "for i in range(5):\n",
    "    predictions_test[f\"sp_{i}\"] = inference(models[i], dl)\n",
    "\n",
    "predictions_test"
   ]
  },
  {
   "cell_type": "code",
   "execution_count": 26,
   "metadata": {},
   "outputs": [
    {
     "data": {
      "text/html": [
       "<div>\n",
       "<style scoped>\n",
       "    .dataframe tbody tr th:only-of-type {\n",
       "        vertical-align: middle;\n",
       "    }\n",
       "\n",
       "    .dataframe tbody tr th {\n",
       "        vertical-align: top;\n",
       "    }\n",
       "\n",
       "    .dataframe thead th {\n",
       "        text-align: right;\n",
       "    }\n",
       "</style>\n",
       "<table border=\"1\" class=\"dataframe\">\n",
       "  <thead>\n",
       "    <tr style=\"text-align: right;\">\n",
       "      <th></th>\n",
       "      <th>user_id</th>\n",
       "      <th>sp_0</th>\n",
       "      <th>sp_1</th>\n",
       "      <th>sp_2</th>\n",
       "      <th>sp_3</th>\n",
       "      <th>sp_4</th>\n",
       "      <th>sp</th>\n",
       "    </tr>\n",
       "  </thead>\n",
       "  <tbody>\n",
       "    <tr>\n",
       "      <th>33042</th>\n",
       "      <td>287176</td>\n",
       "      <td>0.000035</td>\n",
       "      <td>0.000033</td>\n",
       "      <td>0.000030</td>\n",
       "      <td>0.000037</td>\n",
       "      <td>0.000051</td>\n",
       "      <td>0.000037</td>\n",
       "    </tr>\n",
       "    <tr>\n",
       "      <th>7209</th>\n",
       "      <td>61447</td>\n",
       "      <td>0.000048</td>\n",
       "      <td>0.000059</td>\n",
       "      <td>0.000040</td>\n",
       "      <td>0.000069</td>\n",
       "      <td>0.000041</td>\n",
       "      <td>0.000051</td>\n",
       "    </tr>\n",
       "    <tr>\n",
       "      <th>24367</th>\n",
       "      <td>210716</td>\n",
       "      <td>0.000017</td>\n",
       "      <td>0.000018</td>\n",
       "      <td>0.000013</td>\n",
       "      <td>0.000017</td>\n",
       "      <td>0.000023</td>\n",
       "      <td>0.000018</td>\n",
       "    </tr>\n",
       "    <tr>\n",
       "      <th>19599</th>\n",
       "      <td>168576</td>\n",
       "      <td>0.000031</td>\n",
       "      <td>0.000035</td>\n",
       "      <td>0.000031</td>\n",
       "      <td>0.000035</td>\n",
       "      <td>0.000033</td>\n",
       "      <td>0.000033</td>\n",
       "    </tr>\n",
       "    <tr>\n",
       "      <th>31465</th>\n",
       "      <td>273446</td>\n",
       "      <td>0.000083</td>\n",
       "      <td>0.000075</td>\n",
       "      <td>0.000067</td>\n",
       "      <td>0.000082</td>\n",
       "      <td>0.000067</td>\n",
       "      <td>0.000075</td>\n",
       "    </tr>\n",
       "    <tr>\n",
       "      <th>...</th>\n",
       "      <td>...</td>\n",
       "      <td>...</td>\n",
       "      <td>...</td>\n",
       "      <td>...</td>\n",
       "      <td>...</td>\n",
       "      <td>...</td>\n",
       "      <td>...</td>\n",
       "    </tr>\n",
       "    <tr>\n",
       "      <th>29518</th>\n",
       "      <td>256542</td>\n",
       "      <td>0.000198</td>\n",
       "      <td>0.000171</td>\n",
       "      <td>0.000171</td>\n",
       "      <td>0.000200</td>\n",
       "      <td>0.000273</td>\n",
       "      <td>0.000203</td>\n",
       "    </tr>\n",
       "    <tr>\n",
       "      <th>40886</th>\n",
       "      <td>354734</td>\n",
       "      <td>0.000028</td>\n",
       "      <td>0.000035</td>\n",
       "      <td>0.000032</td>\n",
       "      <td>0.000032</td>\n",
       "      <td>0.000033</td>\n",
       "      <td>0.000032</td>\n",
       "    </tr>\n",
       "    <tr>\n",
       "      <th>19792</th>\n",
       "      <td>170336</td>\n",
       "      <td>0.000033</td>\n",
       "      <td>0.000034</td>\n",
       "      <td>0.000039</td>\n",
       "      <td>0.000037</td>\n",
       "      <td>0.000032</td>\n",
       "      <td>0.000035</td>\n",
       "    </tr>\n",
       "    <tr>\n",
       "      <th>31101</th>\n",
       "      <td>270218</td>\n",
       "      <td>0.000025</td>\n",
       "      <td>0.000024</td>\n",
       "      <td>0.000039</td>\n",
       "      <td>0.000029</td>\n",
       "      <td>0.000026</td>\n",
       "      <td>0.000029</td>\n",
       "    </tr>\n",
       "    <tr>\n",
       "      <th>54307</th>\n",
       "      <td>468015</td>\n",
       "      <td>0.000024</td>\n",
       "      <td>0.000050</td>\n",
       "      <td>0.000042</td>\n",
       "      <td>0.000049</td>\n",
       "      <td>0.000064</td>\n",
       "      <td>0.000046</td>\n",
       "    </tr>\n",
       "  </tbody>\n",
       "</table>\n",
       "<p>12800 rows × 7 columns</p>\n",
       "</div>"
      ],
      "text/plain": [
       "       user_id      sp_0      sp_1      sp_2      sp_3      sp_4        sp\n",
       "33042   287176  0.000035  0.000033  0.000030  0.000037  0.000051  0.000037\n",
       "7209     61447  0.000048  0.000059  0.000040  0.000069  0.000041  0.000051\n",
       "24367   210716  0.000017  0.000018  0.000013  0.000017  0.000023  0.000018\n",
       "19599   168576  0.000031  0.000035  0.000031  0.000035  0.000033  0.000033\n",
       "31465   273446  0.000083  0.000075  0.000067  0.000082  0.000067  0.000075\n",
       "...        ...       ...       ...       ...       ...       ...       ...\n",
       "29518   256542  0.000198  0.000171  0.000171  0.000200  0.000273  0.000203\n",
       "40886   354734  0.000028  0.000035  0.000032  0.000032  0.000033  0.000032\n",
       "19792   170336  0.000033  0.000034  0.000039  0.000037  0.000032  0.000035\n",
       "31101   270218  0.000025  0.000024  0.000039  0.000029  0.000026  0.000029\n",
       "54307   468015  0.000024  0.000050  0.000042  0.000049  0.000064  0.000046\n",
       "\n",
       "[12800 rows x 7 columns]"
      ]
     },
     "execution_count": 26,
     "metadata": {},
     "output_type": "execute_result"
    }
   ],
   "source": [
    "predictions_test[\"sp\"] = predictions_test.iloc[:, 1:].mean(axis=1)\n",
    "predictions_test"
   ]
  },
  {
   "cell_type": "code",
   "execution_count": 27,
   "metadata": {},
   "outputs": [
    {
     "name": "stdout",
     "output_type": "stream",
     "text": [
      "------------\n",
      "AUROC; 5th fold: 0.7573031212422913\n",
      "------------\n"
     ]
    }
   ],
   "source": [
    "print(12*\"-\")\n",
    "print(\"AUROC; 5th fold:\", roc_auc_score(df_test[\"target\"].values, predictions_test[\"sp\"].values))\n",
    "print(12*\"-\")"
   ]
  },
  {
   "cell_type": "code",
   "execution_count": 28,
   "metadata": {},
   "outputs": [],
   "source": [
    "train_test_predictions = pd.concat([predictions_5folds, predictions_test[[\"user_id\", \"sp\"]]], axis=0)"
   ]
  },
  {
   "cell_type": "code",
   "execution_count": 29,
   "metadata": {},
   "outputs": [],
   "source": [
    "train_test_predictions.to_csv(\"sp-preds_train-test.csv\", index=False)"
   ]
  },
  {
   "cell_type": "markdown",
   "metadata": {},
   "source": [
    "---"
   ]
  },
  {
   "cell_type": "code",
   "execution_count": 30,
   "metadata": {},
   "outputs": [
    {
     "data": {
      "text/html": [
       "<div>\n",
       "<style scoped>\n",
       "    .dataframe tbody tr th:only-of-type {\n",
       "        vertical-align: middle;\n",
       "    }\n",
       "\n",
       "    .dataframe tbody tr th {\n",
       "        vertical-align: top;\n",
       "    }\n",
       "\n",
       "    .dataframe thead th {\n",
       "        text-align: right;\n",
       "    }\n",
       "</style>\n",
       "<table border=\"1\" class=\"dataframe\">\n",
       "  <thead>\n",
       "    <tr style=\"text-align: right;\">\n",
       "      <th></th>\n",
       "      <th>user_id</th>\n",
       "      <th>predict</th>\n",
       "    </tr>\n",
       "  </thead>\n",
       "  <tbody>\n",
       "    <tr>\n",
       "      <th>0</th>\n",
       "      <td>9</td>\n",
       "      <td>-3.184396</td>\n",
       "    </tr>\n",
       "    <tr>\n",
       "      <th>1</th>\n",
       "      <td>61</td>\n",
       "      <td>-2.623560</td>\n",
       "    </tr>\n",
       "    <tr>\n",
       "      <th>2</th>\n",
       "      <td>62</td>\n",
       "      <td>-2.840654</td>\n",
       "    </tr>\n",
       "    <tr>\n",
       "      <th>3</th>\n",
       "      <td>80</td>\n",
       "      <td>-3.269438</td>\n",
       "    </tr>\n",
       "    <tr>\n",
       "      <th>4</th>\n",
       "      <td>88</td>\n",
       "      <td>-2.068500</td>\n",
       "    </tr>\n",
       "    <tr>\n",
       "      <th>...</th>\n",
       "      <td>...</td>\n",
       "      <td>...</td>\n",
       "    </tr>\n",
       "    <tr>\n",
       "      <th>31995</th>\n",
       "      <td>561362</td>\n",
       "      <td>-2.438619</td>\n",
       "    </tr>\n",
       "    <tr>\n",
       "      <th>31996</th>\n",
       "      <td>561419</td>\n",
       "      <td>-2.438619</td>\n",
       "    </tr>\n",
       "    <tr>\n",
       "      <th>31997</th>\n",
       "      <td>561895</td>\n",
       "      <td>-2.437339</td>\n",
       "    </tr>\n",
       "    <tr>\n",
       "      <th>31998</th>\n",
       "      <td>561908</td>\n",
       "      <td>-2.437339</td>\n",
       "    </tr>\n",
       "    <tr>\n",
       "      <th>31999</th>\n",
       "      <td>562205</td>\n",
       "      <td>-2.359733</td>\n",
       "    </tr>\n",
       "  </tbody>\n",
       "</table>\n",
       "<p>32000 rows × 2 columns</p>\n",
       "</div>"
      ],
      "text/plain": [
       "       user_id   predict\n",
       "0            9 -3.184396\n",
       "1           61 -2.623560\n",
       "2           62 -2.840654\n",
       "3           80 -3.269438\n",
       "4           88 -2.068500\n",
       "...        ...       ...\n",
       "31995   561362 -2.438619\n",
       "31996   561419 -2.438619\n",
       "31997   561895 -2.437339\n",
       "31998   561908 -2.437339\n",
       "31999   562205 -2.359733\n",
       "\n",
       "[32000 rows x 2 columns]"
      ]
     },
     "execution_count": 30,
     "metadata": {},
     "output_type": "execute_result"
    }
   ],
   "source": [
    "sample_submit = pd.read_csv(os.path.join(PATH, \"data/sample_submit_naive.csv\"))\n",
    "sample_submit"
   ]
  },
  {
   "cell_type": "code",
   "execution_count": 31,
   "metadata": {},
   "outputs": [],
   "source": [
    "sbmt_df = transactions_.copy()\n",
    "sbmt_df = pd.merge(sbmt_df, sample_submit[['user_id']], on='user_id')\n",
    "sbmt_df[[\"target\", \"time\"]] = None"
   ]
  },
  {
   "cell_type": "code",
   "execution_count": 32,
   "metadata": {},
   "outputs": [],
   "source": [
    "sbmt_models = []"
   ]
  },
  {
   "cell_type": "code",
   "execution_count": null,
   "metadata": {
    "collapsed": true,
    "jupyter": {
     "outputs_hidden": true
    },
    "tags": []
   },
   "outputs": [
    {
     "name": "stderr",
     "output_type": "stream",
     "text": [
      "GPU available: True, used: True\n",
      "TPU available: False, using: 0 TPU cores\n",
      "IPU available: False, using: 0 IPUs\n",
      "HPU available: False, using: 0 HPUs\n",
      "Missing logger folder: lightning_logs/CoLES-supervised-agg-sbmt_0\n",
      "LOCAL_RANK: 0 - CUDA_VISIBLE_DEVICES: [0,1]\n",
      "\n",
      "  | Name          | Type          | Params\n",
      "------------------------------------------------\n",
      "0 | seq_encoder   | RnnSeqEncoder | 2.1 M \n",
      "1 | head          | Sequential    | 411 K \n",
      "2 | head_time     | Sequential    | 801   \n",
      "3 | loss          | NLLLoss       | 0     \n",
      "4 | train_metrics | ModuleDict    | 0     \n",
      "5 | valid_metrics | ModuleDict    | 0     \n",
      "------------------------------------------------\n",
      "2.5 M     Trainable params\n",
      "0         Non-trainable params\n",
      "2.5 M     Total params\n",
      "10.123    Total estimated model params size (MB)\n"
     ]
    },
    {
     "data": {
      "application/vnd.jupyter.widget-view+json": {
       "model_id": "a6e3ef9ae15946c4bdfbb3d3b917e94d",
       "version_major": 2,
       "version_minor": 0
      },
      "text/plain": [
       "Sanity Checking: 0it [00:00, ?it/s]"
      ]
     },
     "metadata": {},
     "output_type": "display_data"
    },
    {
     "data": {
      "application/vnd.jupyter.widget-view+json": {
       "model_id": "307e3bfd6242454d8399acf65b5008ab",
       "version_major": 2,
       "version_minor": 0
      },
      "text/plain": [
       "Training: 0it [00:00, ?it/s]"
      ]
     },
     "metadata": {},
     "output_type": "display_data"
    },
    {
     "data": {
      "application/vnd.jupyter.widget-view+json": {
       "model_id": "caf3ffd059774907b2f1213785bc7456",
       "version_major": 2,
       "version_minor": 0
      },
      "text/plain": [
       "Validation: 0it [00:00, ?it/s]"
      ]
     },
     "metadata": {},
     "output_type": "display_data"
    },
    {
     "data": {
      "application/vnd.jupyter.widget-view+json": {
       "model_id": "ce08459df9ba47a4bfacbdccc8f2bffd",
       "version_major": 2,
       "version_minor": 0
      },
      "text/plain": [
       "Validation: 0it [00:00, ?it/s]"
      ]
     },
     "metadata": {},
     "output_type": "display_data"
    },
    {
     "data": {
      "application/vnd.jupyter.widget-view+json": {
       "model_id": "83b679d01b5d45ef8e98162a29a9f72a",
       "version_major": 2,
       "version_minor": 0
      },
      "text/plain": [
       "Validation: 0it [00:00, ?it/s]"
      ]
     },
     "metadata": {},
     "output_type": "display_data"
    },
    {
     "data": {
      "application/vnd.jupyter.widget-view+json": {
       "model_id": "ec79c9b611b3435899c6caccb86f1dc9",
       "version_major": 2,
       "version_minor": 0
      },
      "text/plain": [
       "Validation: 0it [00:00, ?it/s]"
      ]
     },
     "metadata": {},
     "output_type": "display_data"
    },
    {
     "data": {
      "application/vnd.jupyter.widget-view+json": {
       "model_id": "985fcb2daae3472d9d43c43deb0e8ec3",
       "version_major": 2,
       "version_minor": 0
      },
      "text/plain": [
       "Validation: 0it [00:00, ?it/s]"
      ]
     },
     "metadata": {},
     "output_type": "display_data"
    },
    {
     "data": {
      "application/vnd.jupyter.widget-view+json": {
       "model_id": "1604e5dc3ec6471a8ddb5cd2a5130956",
       "version_major": 2,
       "version_minor": 0
      },
      "text/plain": [
       "Validation: 0it [00:00, ?it/s]"
      ]
     },
     "metadata": {},
     "output_type": "display_data"
    },
    {
     "name": "stderr",
     "output_type": "stream",
     "text": [
      "100%|██████████| 25/25 [00:03<00:00,  7.54it/s]\n"
     ]
    },
    {
     "name": "stdout",
     "output_type": "stream",
     "text": [
      "------------\n",
      "AUROC; 5th fold: 0.7547174197650328\n",
      "------------\n"
     ]
    },
    {
     "name": "stderr",
     "output_type": "stream",
     "text": [
      "GPU available: True, used: True\n",
      "TPU available: False, using: 0 TPU cores\n",
      "IPU available: False, using: 0 IPUs\n",
      "HPU available: False, using: 0 HPUs\n",
      "Missing logger folder: lightning_logs/CoLES-supervised-agg-sbmt_1\n",
      "LOCAL_RANK: 0 - CUDA_VISIBLE_DEVICES: [0,1]\n",
      "\n",
      "  | Name          | Type          | Params\n",
      "------------------------------------------------\n",
      "0 | seq_encoder   | RnnSeqEncoder | 2.1 M \n",
      "1 | head          | Sequential    | 411 K \n",
      "2 | head_time     | Sequential    | 801   \n",
      "3 | loss          | NLLLoss       | 0     \n",
      "4 | train_metrics | ModuleDict    | 0     \n",
      "5 | valid_metrics | ModuleDict    | 0     \n",
      "------------------------------------------------\n",
      "2.5 M     Trainable params\n",
      "0         Non-trainable params\n",
      "2.5 M     Total params\n",
      "10.123    Total estimated model params size (MB)\n"
     ]
    },
    {
     "data": {
      "application/vnd.jupyter.widget-view+json": {
       "model_id": "011d800061fc4ca595d4b5afbc579873",
       "version_major": 2,
       "version_minor": 0
      },
      "text/plain": [
       "Sanity Checking: 0it [00:00, ?it/s]"
      ]
     },
     "metadata": {},
     "output_type": "display_data"
    },
    {
     "data": {
      "application/vnd.jupyter.widget-view+json": {
       "model_id": "213e724b298542849d837de8191cbf0b",
       "version_major": 2,
       "version_minor": 0
      },
      "text/plain": [
       "Training: 0it [00:00, ?it/s]"
      ]
     },
     "metadata": {},
     "output_type": "display_data"
    },
    {
     "data": {
      "application/vnd.jupyter.widget-view+json": {
       "model_id": "91b14dafd7f340ef8b6afc37a85e4b61",
       "version_major": 2,
       "version_minor": 0
      },
      "text/plain": [
       "Validation: 0it [00:00, ?it/s]"
      ]
     },
     "metadata": {},
     "output_type": "display_data"
    },
    {
     "data": {
      "application/vnd.jupyter.widget-view+json": {
       "model_id": "9cfa1f77abfb464490f8e8f6c171c226",
       "version_major": 2,
       "version_minor": 0
      },
      "text/plain": [
       "Validation: 0it [00:00, ?it/s]"
      ]
     },
     "metadata": {},
     "output_type": "display_data"
    },
    {
     "data": {
      "application/vnd.jupyter.widget-view+json": {
       "model_id": "aaa263cb02e54fa8986e383f8ac829c1",
       "version_major": 2,
       "version_minor": 0
      },
      "text/plain": [
       "Validation: 0it [00:00, ?it/s]"
      ]
     },
     "metadata": {},
     "output_type": "display_data"
    },
    {
     "data": {
      "application/vnd.jupyter.widget-view+json": {
       "model_id": "3ce044ecfefb47d987e7e6a628c7df87",
       "version_major": 2,
       "version_minor": 0
      },
      "text/plain": [
       "Validation: 0it [00:00, ?it/s]"
      ]
     },
     "metadata": {},
     "output_type": "display_data"
    },
    {
     "data": {
      "application/vnd.jupyter.widget-view+json": {
       "model_id": "ac3534f9c1c94656904fc2f40d377eec",
       "version_major": 2,
       "version_minor": 0
      },
      "text/plain": [
       "Validation: 0it [00:00, ?it/s]"
      ]
     },
     "metadata": {},
     "output_type": "display_data"
    },
    {
     "data": {
      "application/vnd.jupyter.widget-view+json": {
       "model_id": "d26d248962794d709fc7cfabfe809d26",
       "version_major": 2,
       "version_minor": 0
      },
      "text/plain": [
       "Validation: 0it [00:00, ?it/s]"
      ]
     },
     "metadata": {},
     "output_type": "display_data"
    },
    {
     "data": {
      "application/vnd.jupyter.widget-view+json": {
       "model_id": "f448ed057edb4309bbfbe6e1aa62dbd9",
       "version_major": 2,
       "version_minor": 0
      },
      "text/plain": [
       "Validation: 0it [00:00, ?it/s]"
      ]
     },
     "metadata": {},
     "output_type": "display_data"
    },
    {
     "name": "stderr",
     "output_type": "stream",
     "text": [
      "100%|██████████| 25/25 [00:05<00:00,  4.25it/s]\n"
     ]
    },
    {
     "name": "stdout",
     "output_type": "stream",
     "text": [
      "------------\n",
      "AUROC; 5th fold: 0.7590074983976923\n",
      "------------\n"
     ]
    },
    {
     "name": "stderr",
     "output_type": "stream",
     "text": [
      "GPU available: True, used: True\n",
      "TPU available: False, using: 0 TPU cores\n",
      "IPU available: False, using: 0 IPUs\n",
      "HPU available: False, using: 0 HPUs\n",
      "Missing logger folder: lightning_logs/CoLES-supervised-agg-sbmt_2\n",
      "LOCAL_RANK: 0 - CUDA_VISIBLE_DEVICES: [0,1]\n",
      "\n",
      "  | Name          | Type          | Params\n",
      "------------------------------------------------\n",
      "0 | seq_encoder   | RnnSeqEncoder | 2.1 M \n",
      "1 | head          | Sequential    | 411 K \n",
      "2 | head_time     | Sequential    | 801   \n",
      "3 | loss          | NLLLoss       | 0     \n",
      "4 | train_metrics | ModuleDict    | 0     \n",
      "5 | valid_metrics | ModuleDict    | 0     \n",
      "------------------------------------------------\n",
      "2.5 M     Trainable params\n",
      "0         Non-trainable params\n",
      "2.5 M     Total params\n",
      "10.123    Total estimated model params size (MB)\n"
     ]
    },
    {
     "data": {
      "application/vnd.jupyter.widget-view+json": {
       "model_id": "9d90aec9bf1442a3bfce4bdacad62cec",
       "version_major": 2,
       "version_minor": 0
      },
      "text/plain": [
       "Sanity Checking: 0it [00:00, ?it/s]"
      ]
     },
     "metadata": {},
     "output_type": "display_data"
    },
    {
     "data": {
      "application/vnd.jupyter.widget-view+json": {
       "model_id": "ce6e248ebc0f426a978527d57eb8630f",
       "version_major": 2,
       "version_minor": 0
      },
      "text/plain": [
       "Training: 0it [00:00, ?it/s]"
      ]
     },
     "metadata": {},
     "output_type": "display_data"
    },
    {
     "data": {
      "application/vnd.jupyter.widget-view+json": {
       "model_id": "d0fe04df51f44966bf36d4964c5d4600",
       "version_major": 2,
       "version_minor": 0
      },
      "text/plain": [
       "Validation: 0it [00:00, ?it/s]"
      ]
     },
     "metadata": {},
     "output_type": "display_data"
    },
    {
     "data": {
      "application/vnd.jupyter.widget-view+json": {
       "model_id": "b503d6e761984fc6bd2ec59f4c0e5c13",
       "version_major": 2,
       "version_minor": 0
      },
      "text/plain": [
       "Validation: 0it [00:00, ?it/s]"
      ]
     },
     "metadata": {},
     "output_type": "display_data"
    },
    {
     "data": {
      "application/vnd.jupyter.widget-view+json": {
       "model_id": "673fd1ea5a3e4ff787e4e172874b17f5",
       "version_major": 2,
       "version_minor": 0
      },
      "text/plain": [
       "Validation: 0it [00:00, ?it/s]"
      ]
     },
     "metadata": {},
     "output_type": "display_data"
    },
    {
     "data": {
      "application/vnd.jupyter.widget-view+json": {
       "model_id": "f4843e5a82504f36b694d34ec8e4f038",
       "version_major": 2,
       "version_minor": 0
      },
      "text/plain": [
       "Validation: 0it [00:00, ?it/s]"
      ]
     },
     "metadata": {},
     "output_type": "display_data"
    },
    {
     "data": {
      "application/vnd.jupyter.widget-view+json": {
       "model_id": "26539b7d514a43fd8d0c4c313aac6ed8",
       "version_major": 2,
       "version_minor": 0
      },
      "text/plain": [
       "Validation: 0it [00:00, ?it/s]"
      ]
     },
     "metadata": {},
     "output_type": "display_data"
    },
    {
     "data": {
      "application/vnd.jupyter.widget-view+json": {
       "model_id": "9f6a13175dc54905aba9eebc114e3c8d",
       "version_major": 2,
       "version_minor": 0
      },
      "text/plain": [
       "Validation: 0it [00:00, ?it/s]"
      ]
     },
     "metadata": {},
     "output_type": "display_data"
    },
    {
     "data": {
      "application/vnd.jupyter.widget-view+json": {
       "model_id": "4a03f18dcf2a47b8a903fee96405a39b",
       "version_major": 2,
       "version_minor": 0
      },
      "text/plain": [
       "Validation: 0it [00:00, ?it/s]"
      ]
     },
     "metadata": {},
     "output_type": "display_data"
    },
    {
     "name": "stderr",
     "output_type": "stream",
     "text": [
      "100%|██████████| 25/25 [00:03<00:00,  7.00it/s]\n"
     ]
    },
    {
     "name": "stdout",
     "output_type": "stream",
     "text": [
      "------------\n",
      "AUROC; 5th fold: 0.7389864747349209\n",
      "------------\n"
     ]
    },
    {
     "name": "stderr",
     "output_type": "stream",
     "text": [
      "GPU available: True, used: True\n",
      "TPU available: False, using: 0 TPU cores\n",
      "IPU available: False, using: 0 IPUs\n",
      "HPU available: False, using: 0 HPUs\n",
      "Missing logger folder: lightning_logs/CoLES-supervised-agg-sbmt_3\n",
      "LOCAL_RANK: 0 - CUDA_VISIBLE_DEVICES: [0,1]\n",
      "\n",
      "  | Name          | Type          | Params\n",
      "------------------------------------------------\n",
      "0 | seq_encoder   | RnnSeqEncoder | 2.1 M \n",
      "1 | head          | Sequential    | 411 K \n",
      "2 | head_time     | Sequential    | 801   \n",
      "3 | loss          | NLLLoss       | 0     \n",
      "4 | train_metrics | ModuleDict    | 0     \n",
      "5 | valid_metrics | ModuleDict    | 0     \n",
      "------------------------------------------------\n",
      "2.5 M     Trainable params\n",
      "0         Non-trainable params\n",
      "2.5 M     Total params\n",
      "10.123    Total estimated model params size (MB)\n"
     ]
    },
    {
     "data": {
      "application/vnd.jupyter.widget-view+json": {
       "model_id": "6eda0bfa6e6046e084967cb67db200a4",
       "version_major": 2,
       "version_minor": 0
      },
      "text/plain": [
       "Sanity Checking: 0it [00:00, ?it/s]"
      ]
     },
     "metadata": {},
     "output_type": "display_data"
    },
    {
     "data": {
      "application/vnd.jupyter.widget-view+json": {
       "model_id": "9e40cf2b37f040e7b47e8b3297013753",
       "version_major": 2,
       "version_minor": 0
      },
      "text/plain": [
       "Training: 0it [00:00, ?it/s]"
      ]
     },
     "metadata": {},
     "output_type": "display_data"
    },
    {
     "data": {
      "application/vnd.jupyter.widget-view+json": {
       "model_id": "1299065469a644cbaa67175f24be2380",
       "version_major": 2,
       "version_minor": 0
      },
      "text/plain": [
       "Validation: 0it [00:00, ?it/s]"
      ]
     },
     "metadata": {},
     "output_type": "display_data"
    },
    {
     "data": {
      "application/vnd.jupyter.widget-view+json": {
       "model_id": "9207c800ff0543b2ab5252ba9fb99631",
       "version_major": 2,
       "version_minor": 0
      },
      "text/plain": [
       "Validation: 0it [00:00, ?it/s]"
      ]
     },
     "metadata": {},
     "output_type": "display_data"
    },
    {
     "data": {
      "application/vnd.jupyter.widget-view+json": {
       "model_id": "92953b613a0d4ee9a439d7ac6a8d78dc",
       "version_major": 2,
       "version_minor": 0
      },
      "text/plain": [
       "Validation: 0it [00:00, ?it/s]"
      ]
     },
     "metadata": {},
     "output_type": "display_data"
    },
    {
     "data": {
      "application/vnd.jupyter.widget-view+json": {
       "model_id": "3ac3d2cb8a8c4e50bc705c518f54e7b4",
       "version_major": 2,
       "version_minor": 0
      },
      "text/plain": [
       "Validation: 0it [00:00, ?it/s]"
      ]
     },
     "metadata": {},
     "output_type": "display_data"
    }
   ],
   "source": [
    "for i, (train_index, test_index) in enumerate(skf.split(df.drop(columns=['target']), df[\"target\"])):\n",
    "    train_, test_ = df.iloc[train_index], df.iloc[test_index]\n",
    "    \n",
    "    dataset_train = train_.to_dict(orient='records')\n",
    "    dataset_test = test_.to_dict(orient='records')\n",
    "    \n",
    "    sup_dataset = PtlsDataModule(\n",
    "        train_data=SeqToTargetDataset(\n",
    "            AugmentationDataset(\n",
    "                dataset_train,\n",
    "                f_augmentations=[\n",
    "                    DropoutTrx(0.1),\n",
    "                ],\n",
    "            ),\n",
    "            target_col_name='target',\n",
    "            target_dtype=torch.long,\n",
    "        ),\n",
    "        valid_data=SeqToTargetDataset(\n",
    "            dataset_test,\n",
    "            target_col_name='target',\n",
    "            target_dtype=torch.long,\n",
    "        ),\n",
    "        train_batch_size=256,\n",
    "        train_num_workers=8,\n",
    "        train_drop_last=True,\n",
    "\n",
    "        valid_batch_size=256,\n",
    "        valid_num_workers=8,\n",
    "        valid_drop_last=True\n",
    "    )\n",
    "    \n",
    "    seq_encoder.load_state_dict(a_cpy)\n",
    "\n",
    "    sup_module = SequenceToTarget(\n",
    "        seq_encoder=seq_encoder,\n",
    "        head=torch.nn.Sequential(\n",
    "            torch.nn.Linear(seq_encoder.embedding_size, 512),\n",
    "            torch.nn.ReLU(),\n",
    "            torch.nn.Dropout(0.2),\n",
    "            torch.nn.Linear(512, 2),\n",
    "            torch.nn.LogSoftmax(dim=1),\n",
    "        ),\n",
    "        head_time=torch.nn.Sequential(\n",
    "            torch.nn.Linear(seq_encoder.embedding_size, 1),\n",
    "        ),\n",
    "        loss=torch.nn.NLLLoss(),\n",
    "        metric_list=torchmetrics.AUROC(num_classes=2),\n",
    "        optimizer_partial=partial(torch.optim.AdamW, lr=4e-4, weight_decay=0.0),\n",
    "        lr_scheduler_partial=partial(torch.optim.lr_scheduler.StepLR, step_size=1, gamma=0.2),\n",
    "    )\n",
    "    \n",
    "    trainer = pl.Trainer(\n",
    "        logger=TensorBoardLogger('lightning_logs', name=f'CoLES-supervised-agg-sbmt_{i}'),\n",
    "        max_epochs=7,\n",
    "        gpus=1 if torch.cuda.is_available() else 0,\n",
    "        enable_progress_bar=True,\n",
    "        gradient_clip_algorithm='norm',\n",
    "        gradient_clip_val=0.2\n",
    "    )\n",
    "    \n",
    "    trainer.fit(sup_module, sup_dataset)\n",
    "    \n",
    "    torch.save(sup_module.state_dict(), f\"model/sup_modules-kfold/sbmt-model-0.{i}.pt\")\n",
    "    \n",
    "    dataset = SeqToTargetDataset(\n",
    "        data=dataset_test,\n",
    "        target_col_name='target',\n",
    "    )\n",
    "\n",
    "    dl = torch.utils.data.DataLoader(\n",
    "        dataset=dataset,\n",
    "        collate_fn=dataset.collate_fn,\n",
    "        shuffle=False,\n",
    "        batch_size=512,\n",
    "        num_workers=4,\n",
    "    )\n",
    "    \n",
    "    predictions_test = inference(sup_module, dl)\n",
    "    \n",
    "    print(12*\"-\")\n",
    "    print(\"AUROC; 5th fold:\", roc_auc_score(test_[\"target\"].values, predictions_test))\n",
    "    print(12*\"-\")\n",
    "    \n",
    "    sbmt_models.append(deepcopy(sup_module))"
   ]
  },
  {
   "cell_type": "code",
   "execution_count": null,
   "metadata": {},
   "outputs": [],
   "source": [
    "dataset_sbmt = sbmt_df.copy()\n",
    "dataset_sbmt[[\"target\", \"time\"]] = None\n",
    "dataset_sbmt = dataset_sbmt.to_dict(orient='records')\n",
    "\n",
    "dataset = SeqToTargetDataset(\n",
    "    data=dataset_sbmt,\n",
    "    target_col_name='target',\n",
    ")\n",
    "\n",
    "dl = torch.utils.data.DataLoader(\n",
    "    dataset=dataset,\n",
    "    collate_fn=dataset.collate_fn,\n",
    "    shuffle=False,\n",
    "    batch_size=512,\n",
    "    num_workers=4,\n",
    ")\n",
    "\n",
    "predictions_sbmt = sbmt_df[[\"user_id\"]].copy()\n",
    "\n",
    "for i in range(5):\n",
    "    predictions_sbmt[f\"sp_{i}\"] = inference(sbmt_models[i], dl)\n",
    "\n",
    "predictions_sbmt"
   ]
  },
  {
   "cell_type": "code",
   "execution_count": null,
   "metadata": {},
   "outputs": [],
   "source": [
    "predictions_sbmt[\"sp\"] = predictions_sbmt.iloc[:, 1:].mean(axis=1)\n",
    "predictions_sbmt"
   ]
  },
  {
   "cell_type": "code",
   "execution_count": null,
   "metadata": {},
   "outputs": [],
   "source": [
    "predictions_sbmt[[\"user_id\", \"sp\"]].to_csv(f\"sp-preds_sbmt{RANDOM_STATE}.csv\", index=False)"
   ]
  },
  {
   "cell_type": "code",
   "execution_count": null,
   "metadata": {},
   "outputs": [],
   "source": []
  }
 ],
 "metadata": {
  "kernelspec": {
   "display_name": "ESF",
   "language": "python",
   "name": "esf"
  },
  "language_info": {
   "codemirror_mode": {
    "name": "ipython",
    "version": 3
   },
   "file_extension": ".py",
   "mimetype": "text/x-python",
   "name": "python",
   "nbconvert_exporter": "python",
   "pygments_lexer": "ipython3",
   "version": "3.8.18"
  }
 },
 "nbformat": 4,
 "nbformat_minor": 4
}
