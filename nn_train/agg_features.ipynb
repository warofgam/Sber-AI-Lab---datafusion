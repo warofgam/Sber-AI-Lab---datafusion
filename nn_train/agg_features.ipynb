{
 "cells": [
  {
   "cell_type": "markdown",
   "metadata": {},
   "source": [
    "Позаимствовали агрегированные фичи у kdimon15. Спасибо! <br>\n",
    "https://github.com/kdimon15/data-fusion-2024-baseline/"
   ]
  },
  {
   "cell_type": "code",
   "execution_count": 1,
   "metadata": {},
   "outputs": [],
   "source": [
    "import pandas as pd\n",
    "import numpy as np\n",
    "from catboost import CatBoostClassifier, CatBoostRegressor, Pool\n",
    "from sklearn.model_selection import StratifiedKFold\n",
    "from sklearn import metrics\n",
    "from sklearn.preprocessing import LabelEncoder\n",
    "import random\n",
    "import warnings\n",
    "warnings.simplefilter('ignore')\n",
    "\n",
    "pd.options.display.max_columns = 100\n",
    "pd.options.display.max_rows = 100\n",
    "\n",
    "random.seed(42)\n",
    "np.random.seed(42)"
   ]
  },
  {
   "cell_type": "code",
   "execution_count": 2,
   "metadata": {},
   "outputs": [],
   "source": [
    "main = pd.read_csv('data/train.csv')\n",
    "\n",
    "sample = pd.read_csv('data/sample_submit_naive.csv').drop('predict', axis=1)\n",
    "sample['target'] = -1\n",
    "\n",
    "main = pd.concat([main, sample])"
   ]
  },
  {
   "cell_type": "code",
   "execution_count": 4,
   "metadata": {},
   "outputs": [],
   "source": [
    "clients = pd.read_csv('data/clients.csv')\n",
    "report_dates = pd.read_csv('data/report_dates.csv', parse_dates=['report_dt'])\n",
    "\n",
    "transactions = pd.read_csv('data/transactions.csv', parse_dates=['transaction_dttm'])\n",
    "transactions = transactions.sort_values('transaction_dttm').reset_index(drop=True)"
   ]
  },
  {
   "cell_type": "code",
   "execution_count": 5,
   "metadata": {},
   "outputs": [],
   "source": [
    "# Добавим информацию о клиенте, а также закодируем employee_count_nm\n",
    "\n",
    "main = main.merge(clients, how='left', on='user_id')\n",
    "main['employee_count_nm'] = LabelEncoder().fit_transform(main['employee_count_nm'].fillna('unknown'))"
   ]
  },
  {
   "cell_type": "code",
   "execution_count": 6,
   "metadata": {},
   "outputs": [],
   "source": [
    "good_codes = transactions['mcc_code'].value_counts()\n",
    "good_codes = good_codes[good_codes >= 10]\n",
    "\n",
    "mcc_info = transactions[transactions.mcc_code.isin(good_codes)].pivot_table(\n",
    "    index = 'user_id',\n",
    "    values=['transaction_amt'],\n",
    "    columns=['mcc_code'],\n",
    "    aggfunc=['count', 'median', 'sum']\n",
    ").fillna(0)\n",
    "mcc_info.columns = ['main_' + '_'.join(map(str, x)) for x in mcc_info.columns]\n",
    "\n",
    "count_cols = [x for x in mcc_info.columns if 'count' in x]\n",
    "mcc_info['sum'] = mcc_info[count_cols].sum(axis=1)\n",
    "for col in count_cols:\n",
    "    mcc_info[f'{col}_norm'] = mcc_info[col] / mcc_info['sum']\n",
    "mcc_info.drop('sum', axis=1, inplace=True)\n",
    "\n",
    "main = main.merge(mcc_info, how='left', left_on='user_id', right_index=True)"
   ]
  },
  {
   "cell_type": "code",
   "execution_count": 8,
   "metadata": {},
   "outputs": [],
   "source": [
    "df_more = transactions.merge(clients[['user_id', 'report']], how='left', on='user_id')\n",
    "df_more = df_more.merge(report_dates, how='left', on='report')\n",
    "df_more['days_to_report'] = (df_more['report_dt'] - df_more['transaction_dttm']).dt.days\n",
    "\n",
    "\n",
    "for day_diff in [30, 1000]:\n",
    "\n",
    "    # Информация о размерах транзакций в различных валютах\n",
    "    currency_pivot = df_more[df_more['days_to_report'] < day_diff + 100].pivot_table(\n",
    "        index='user_id',\n",
    "        columns='currency_rk',\n",
    "        values='transaction_amt',\n",
    "        aggfunc=['sum', 'mean', 'median', 'count']\n",
    "    ).fillna(0)\n",
    "    currency_pivot.columns = [f'currency_daydiff_{day_diff}_{x[0]}_{x[1]}' for x in currency_pivot.columns]\n",
    "\n",
    "    currency_pivot['sum'] = currency_pivot[[x for x in currency_pivot.columns if 'count' in x]].sum(axis=1)\n",
    "    for x in range(4):\n",
    "        currency_pivot[f'currency_daydiff_{day_diff}_count_{x}_norm'] = currency_pivot[f'currency_daydiff_{day_diff}_count_{x}'] / currency_pivot['sum']\n",
    "    currency_pivot.drop('sum', axis=1, inplace=True)\n",
    "\n",
    "    main = main.merge(currency_pivot, how='left', left_on='user_id', right_index=True)\n",
    "\n",
    "\n",
    "    general_trans_info = df_more[df_more['days_to_report'] < day_diff + 100].groupby('user_id')['transaction_amt'].agg(['sum', 'count', 'median'])\n",
    "    general_trans_info[['sum', 'count']] = general_trans_info[['sum', 'count']].fillna(0)\n",
    "    general_trans_info.columns = [f'general_trans_info_{day_diff}_{x}' for x in general_trans_info]\n",
    "    main = main.merge(general_trans_info, how='left', left_on='user_id', right_index=True)\n",
    "\n",
    "    general_trans_info = df_more[(df_more['days_to_report']<day_diff + 100)&(df_more['transaction_amt']>0)].groupby('user_id')['transaction_amt'].agg(['sum', 'count', 'median'])\n",
    "    general_trans_info[['sum', 'count']] = general_trans_info[['sum', 'count']].fillna(0)\n",
    "    general_trans_info.columns = [f'positive_general_trans_info_{day_diff}_{x}' for x in general_trans_info]\n",
    "    main = main.merge(general_trans_info, how='left', left_on='user_id', right_index=True)\n",
    "\n",
    "    general_trans_info = df_more[(df_more['days_to_report']<day_diff + 100)&(df_more['transaction_amt']<0)].groupby('user_id')['transaction_amt'].agg(['sum', 'count', 'median'])\n",
    "    general_trans_info[['sum', 'count']] = general_trans_info[['sum', 'count']].fillna(0)\n",
    "    general_trans_info.columns = [f'negative_general_trans_info_{day_diff}_{x}' for x in general_trans_info]\n",
    "    main = main.merge(general_trans_info, how='left', left_on='user_id', right_index=True)\n",
    "\n",
    "\n",
    "# Анализируем кол-во транзакций в последние n дней / кол-во транзакций до последних n дней\n",
    "for x in [5, 30]:\n",
    "    prev = df_more[df_more['days_to_report'] > x + 100].groupby('user_id')['report'].agg(['count']).reset_index().rename({'count': f'num_transaction_before_{x}_days'}, axis=1)\n",
    "    last = df_more[df_more['days_to_report'] <= x + 100].groupby('user_id')['report'].agg(['count']).reset_index().rename({'count': f'num_transaction_last_{x}_days'}, axis=1)\n",
    "\n",
    "    main = main.merge(prev, how='left', on='user_id')\n",
    "    main = main.merge(last, how='left', on='user_id')\n",
    "    main[f'num_transaction_last_{x}_days'].fillna(0, inplace=True)\n",
    "    main[f'num_transaction_before_{x}_days'].fillna(0, inplace=True)\n",
    "    main[f'percent_last_{x}'] = main[f'num_transaction_last_{x}_days'] / main[f'num_transaction_before_{x}_days']"
   ]
  },
  {
   "cell_type": "code",
   "execution_count": 9,
   "metadata": {},
   "outputs": [],
   "source": [
    "# Кол-во уникальных MCC кодов, валют, а также уникальных дней, в которые были транзакции\n",
    "main = main.merge(df_more.groupby('user_id')['days_to_report'].nunique(), how='left', on='user_id').rename({'days_to_report': 'nunique_days'}, axis=1)\n",
    "main = main.merge(df_more.groupby('user_id')['mcc_code'].nunique(), how='left', on='user_id').rename({'mcc_code': 'nunique_mcc_codes'}, axis=1)\n",
    "main = main.merge(df_more.groupby('user_id')['currency_rk'].nunique(), how='left', on='user_id').rename({'currency_rk': 'nunique_currency'}, axis=1)\n",
    "\n",
    "main = main.fillna(0)"
   ]
  },
  {
   "cell_type": "code",
   "execution_count": 10,
   "metadata": {},
   "outputs": [],
   "source": [
    "tmp = transactions.copy()\n",
    "tmp['hour'] = tmp['transaction_dttm'].dt.hour\n",
    "pivot_table = tmp.pivot_table(\n",
    "    index='user_id',\n",
    "    columns='hour',\n",
    "    values='transaction_amt',\n",
    "    aggfunc=['count', 'median']\n",
    ").fillna(0)\n",
    "pivot_table.columns = [f'hour_{x[0]}_{x[1]}' for x in pivot_table.columns]\n",
    "\n",
    "count_cols = [x for x in pivot_table.columns if 'count' in x]\n",
    "pivot_table['sum'] = pivot_table[count_cols].sum(axis=1)\n",
    "for col in count_cols:\n",
    "    pivot_table[f'{col}_norm'] = pivot_table[col] / pivot_table['sum']\n",
    "pivot_table.drop('sum', axis=1, inplace=True)\n",
    "\n",
    "main = main.merge(pivot_table, how='left', left_on='user_id', right_index=True)"
   ]
  },
  {
   "cell_type": "code",
   "execution_count": 11,
   "metadata": {},
   "outputs": [],
   "source": [
    "cur = transactions.groupby('user_id')['transaction_dttm'].agg(['min', 'max']).reset_index()\n",
    "cur = cur.merge(clients[['user_id', 'report']], how='left', on='user_id')\n",
    "cur = cur.merge(report_dates, how='left', on='report')\n",
    "\n",
    "cur['min_diff_dttm'] = (cur['report_dt'] - cur['min']).dt.days\n",
    "cur['days_to_report'] = (cur['report_dt'] - cur['max']).dt.days\n",
    "cur['max_min_diff_dttm'] = cur['days_to_report'] - cur['min_diff_dttm']\n",
    "\n",
    "main = main.merge(cur[['user_id', 'min_diff_dttm','days_to_report','max_min_diff_dttm']], how='left', on='user_id')"
   ]
  },
  {
   "cell_type": "code",
   "execution_count": 12,
   "metadata": {},
   "outputs": [],
   "source": [
    "main['trx_density'] = main['max_min_diff_dttm'] / main['general_trans_info_1000_count']\n",
    "main['days_density'] = (main['max_min_diff_dttm'] + 1) / main['nunique_days']"
   ]
  },
  {
   "cell_type": "code",
   "execution_count": 64,
   "metadata": {},
   "outputs": [],
   "source": [
    "cat_cols = ['customer_age', 'employee_count_nm', 'report']\n",
    "main[cat_cols] = main[cat_cols].astype(str)\n",
    "main = main.fillna(0)\n",
    "main = main.sort_values('user_id').reset_index(drop=True)\n",
    "train = main[main.target != -1]\n",
    "test = main[main.target == -1]"
   ]
  },
  {
   "cell_type": "code",
   "execution_count": null,
   "metadata": {},
   "outputs": [],
   "source": [
    "test_ids = pd.read_csv('data/train.csv')\n",
    "train_, test_ = train.loc[~train['user_id'].isin(test_ids['user_id'])], train.loc[train['user_id'].isin(test_ids['user_id'])]"
   ]
  },
  {
   "cell_type": "code",
   "execution_count": 65,
   "metadata": {},
   "outputs": [],
   "source": [
    "# import os\n",
    "#os.environ[\"CUDA_VISIBLE_DEVICES\"] = '0'"
   ]
  },
  {
   "cell_type": "code",
   "execution_count": null,
   "metadata": {
    "tags": []
   },
   "outputs": [
    {
     "name": "stderr",
     "output_type": "stream",
     "text": [
      "Warning: less than 75% gpu memory available for training. Free: 1340.25 Total: 32510.5\n",
      "Default metric period is 5 because AUC is/are not implemented for GPU\n"
     ]
    },
    {
     "name": "stdout",
     "output_type": "stream",
     "text": [
      "0:\ttotal: 30.1ms\tremaining: 42.1s\n",
      "100:\ttotal: 2.92s\tremaining: 37.5s\n",
      "200:\ttotal: 5.82s\tremaining: 34.7s\n",
      "300:\ttotal: 8.68s\tremaining: 31.7s\n",
      "400:\ttotal: 11.6s\tremaining: 28.8s\n",
      "500:\ttotal: 14.4s\tremaining: 25.9s\n",
      "600:\ttotal: 17.3s\tremaining: 23s\n",
      "700:\ttotal: 20.2s\tremaining: 20.1s\n",
      "800:\ttotal: 23.1s\tremaining: 17.3s\n",
      "900:\ttotal: 25s\tremaining: 13.9s\n",
      "1000:\ttotal: 27.9s\tremaining: 11.1s\n",
      "1100:\ttotal: 30.8s\tremaining: 8.36s\n"
     ]
    }
   ],
   "source": [
    "model = CatBoostClassifier(\n",
    "    iterations = 1400,\n",
    "    depth=4,\n",
    "    learning_rate=0.03,\n",
    "    task_type=\"GPU\",\n",
    "    eval_metric='AUC',\n",
    "    cat_features = cat_cols,\n",
    "    thread_count=6,\n",
    "    l2_leaf_reg=5,\n",
    "    early_stopping_rounds=200,\n",
    ")\n",
    "model.fit(train_.drop(['user_id', 'target', 'time'], axis=1), train_['target'], verbose=100)\n",
    "\n",
    "\n",
    "df_imp = pd.DataFrame({\n",
    "    'name': train_.drop(['user_id', 'target', 'time'], axis=1).columns,\n",
    "    'imp': model.get_feature_importance()\n",
    "}).sort_values('imp', ascending=False)\n",
    "\n",
    "df_imp = df_imp[df_imp['imp'] > 0.15]\n",
    "good_cols = df_imp['name'].tolist()"
   ]
  },
  {
   "cell_type": "markdown",
   "metadata": {},
   "source": [
    "#### Обучаемся на train_ выборке с сидом 42, получаем предикты для стекинга и отложенной выборки"
   ]
  },
  {
   "cell_type": "code",
   "execution_count": 70,
   "metadata": {
    "collapsed": true,
    "jupyter": {
     "outputs_hidden": true
    },
    "tags": []
   },
   "outputs": [
    {
     "name": "stderr",
     "output_type": "stream",
     "text": [
      "Warning: less than 75% gpu memory available for training. Free: 1340.25 Total: 32510.5\n",
      "Default metric period is 5 because AUC is/are not implemented for GPU\n"
     ]
    },
    {
     "name": "stdout",
     "output_type": "stream",
     "text": [
      "0:\ttest: 0.5996201\tbest: 0.5996201 (0)\ttotal: 79.6ms\tremaining: 3m 19s\n",
      "100:\ttest: 0.7439937\tbest: 0.7442905 (91)\ttotal: 6.53s\tremaining: 2m 35s\n",
      "200:\ttest: 0.7531515\tbest: 0.7532193 (199)\ttotal: 13s\tremaining: 2m 28s\n",
      "300:\ttest: 0.7569328\tbest: 0.7569328 (300)\ttotal: 19.5s\tremaining: 2m 22s\n",
      "400:\ttest: 0.7597520\tbest: 0.7597520 (400)\ttotal: 25.9s\tremaining: 2m 15s\n",
      "500:\ttest: 0.7616559\tbest: 0.7616559 (500)\ttotal: 32.3s\tremaining: 2m 8s\n",
      "600:\ttest: 0.7635614\tbest: 0.7635645 (597)\ttotal: 38.2s\tremaining: 2m\n",
      "700:\ttest: 0.7646601\tbest: 0.7646900 (698)\ttotal: 44.4s\tremaining: 1m 53s\n",
      "800:\ttest: 0.7660500\tbest: 0.7660500 (800)\ttotal: 50.8s\tremaining: 1m 47s\n",
      "900:\ttest: 0.7669390\tbest: 0.7669390 (900)\ttotal: 57s\tremaining: 1m 41s\n",
      "1000:\ttest: 0.7674038\tbest: 0.7675301 (980)\ttotal: 1m 3s\tremaining: 1m 35s\n",
      "1100:\ttest: 0.7676142\tbest: 0.7676142 (1100)\ttotal: 1m 9s\tremaining: 1m 28s\n",
      "1200:\ttest: 0.7674363\tbest: 0.7678154 (1127)\ttotal: 1m 16s\tremaining: 1m 22s\n",
      "1300:\ttest: 0.7679921\tbest: 0.7680578 (1264)\ttotal: 1m 22s\tremaining: 1m 16s\n",
      "1400:\ttest: 0.7683656\tbest: 0.7683962 (1399)\ttotal: 1m 29s\tremaining: 1m 10s\n",
      "1500:\ttest: 0.7685791\tbest: 0.7685791 (1500)\ttotal: 1m 34s\tremaining: 1m 3s\n",
      "1600:\ttest: 0.7689782\tbest: 0.7689878 (1599)\ttotal: 1m 41s\tremaining: 57s\n",
      "1700:\ttest: 0.7690483\tbest: 0.7690991 (1688)\ttotal: 1m 47s\tremaining: 50.7s\n",
      "1800:\ttest: 0.7697369\tbest: 0.7697422 (1799)\ttotal: 1m 54s\tremaining: 44.4s\n",
      "1900:\ttest: 0.7698117\tbest: 0.7698326 (1882)\ttotal: 2m\tremaining: 38s\n",
      "2000:\ttest: 0.7701051\tbest: 0.7701211 (1998)\ttotal: 2m 7s\tremaining: 31.7s\n",
      "2100:\ttest: 0.7705349\tbest: 0.7705421 (2081)\ttotal: 2m 13s\tremaining: 25.4s\n",
      "2200:\ttest: 0.7705197\tbest: 0.7707068 (2164)\ttotal: 2m 20s\tremaining: 19s\n",
      "2300:\ttest: 0.7707488\tbest: 0.7707488 (2300)\ttotal: 2m 26s\tremaining: 12.7s\n",
      "2400:\ttest: 0.7710029\tbest: 0.7711034 (2378)\ttotal: 2m 32s\tremaining: 6.29s\n",
      "2499:\ttest: 0.7710879\tbest: 0.7711766 (2480)\ttotal: 2m 38s\tremaining: 0us\n",
      "bestTest = 0.7711766362\n",
      "bestIteration = 2480\n",
      "Shrink model to first 2481 iterations.\n"
     ]
    },
    {
     "name": "stderr",
     "output_type": "stream",
     "text": [
      "Warning: less than 75% gpu memory available for training. Free: 2550.25 Total: 32510.5\n",
      "Default metric period is 5 because AUC is/are not implemented for GPU\n"
     ]
    },
    {
     "name": "stdout",
     "output_type": "stream",
     "text": [
      "0:\ttest: 0.5991083\tbest: 0.5991083 (0)\ttotal: 64.4ms\tremaining: 2m 40s\n",
      "100:\ttest: 0.7394903\tbest: 0.7395813 (99)\ttotal: 6.57s\tremaining: 2m 36s\n",
      "200:\ttest: 0.7475601\tbest: 0.7475701 (199)\ttotal: 12.2s\tremaining: 2m 19s\n",
      "300:\ttest: 0.7506356\tbest: 0.7506765 (299)\ttotal: 18.7s\tremaining: 2m 16s\n",
      "400:\ttest: 0.7527723\tbest: 0.7527723 (400)\ttotal: 25.1s\tremaining: 2m 11s\n",
      "500:\ttest: 0.7544979\tbest: 0.7544979 (500)\ttotal: 31.5s\tremaining: 2m 5s\n",
      "600:\ttest: 0.7555419\tbest: 0.7555481 (599)\ttotal: 37.9s\tremaining: 1m 59s\n",
      "700:\ttest: 0.7557786\tbest: 0.7559286 (678)\ttotal: 44.2s\tremaining: 1m 53s\n",
      "800:\ttest: 0.7558749\tbest: 0.7559798 (741)\ttotal: 50.6s\tremaining: 1m 47s\n",
      "900:\ttest: 0.7561170\tbest: 0.7561458 (835)\ttotal: 57s\tremaining: 1m 41s\n",
      "1000:\ttest: 0.7563711\tbest: 0.7563852 (994)\ttotal: 1m 3s\tremaining: 1m 34s\n",
      "1100:\ttest: 0.7570429\tbest: 0.7571322 (1091)\ttotal: 1m 9s\tremaining: 1m 28s\n",
      "1200:\ttest: 0.7571303\tbest: 0.7572464 (1153)\ttotal: 1m 16s\tremaining: 1m 22s\n",
      "1300:\ttest: 0.7573792\tbest: 0.7574903 (1253)\ttotal: 1m 22s\tremaining: 1m 16s\n",
      "1400:\ttest: 0.7571492\tbest: 0.7574958 (1326)\ttotal: 1m 28s\tremaining: 1m 9s\n",
      "1500:\ttest: 0.7572466\tbest: 0.7575009 (1452)\ttotal: 1m 34s\tremaining: 1m 2s\n",
      "1600:\ttest: 0.7577077\tbest: 0.7577494 (1593)\ttotal: 1m 40s\tremaining: 56.6s\n",
      "1700:\ttest: 0.7581639\tbest: 0.7582295 (1695)\ttotal: 1m 47s\tremaining: 50.3s\n",
      "1800:\ttest: 0.7580382\tbest: 0.7582295 (1695)\ttotal: 1m 53s\tremaining: 44.1s\n",
      "1900:\ttest: 0.7581449\tbest: 0.7582347 (1897)\ttotal: 1m 59s\tremaining: 37.8s\n",
      "2000:\ttest: 0.7580515\tbest: 0.7583078 (1937)\ttotal: 2m 6s\tremaining: 31.4s\n",
      "2100:\ttest: 0.7585809\tbest: 0.7585809 (2100)\ttotal: 2m 12s\tremaining: 25.1s\n",
      "2200:\ttest: 0.7588611\tbest: 0.7589092 (2197)\ttotal: 2m 18s\tremaining: 18.8s\n",
      "2300:\ttest: 0.7589628\tbest: 0.7590034 (2294)\ttotal: 2m 25s\tremaining: 12.6s\n",
      "2400:\ttest: 0.7588947\tbest: 0.7590941 (2359)\ttotal: 2m 28s\tremaining: 6.11s\n",
      "2499:\ttest: 0.7587698\tbest: 0.7590941 (2359)\ttotal: 2m 30s\tremaining: 0us\n",
      "bestTest = 0.7590940595\n",
      "bestIteration = 2359\n",
      "Shrink model to first 2360 iterations.\n"
     ]
    },
    {
     "name": "stderr",
     "output_type": "stream",
     "text": [
      "Default metric period is 5 because AUC is/are not implemented for GPU\n"
     ]
    },
    {
     "name": "stdout",
     "output_type": "stream",
     "text": [
      "0:\ttest: 0.5965842\tbest: 0.5965842 (0)\ttotal: 28.5ms\tremaining: 1m 11s\n",
      "100:\ttest: 0.7193838\tbest: 0.7193838 (100)\ttotal: 2.69s\tremaining: 1m 3s\n",
      "200:\ttest: 0.7277556\tbest: 0.7277556 (200)\ttotal: 5.5s\tremaining: 1m 2s\n",
      "300:\ttest: 0.7326946\tbest: 0.7326946 (300)\ttotal: 8.28s\tremaining: 1m\n",
      "400:\ttest: 0.7358306\tbest: 0.7358306 (400)\ttotal: 11s\tremaining: 57.7s\n",
      "500:\ttest: 0.7371940\tbest: 0.7371950 (499)\ttotal: 13.8s\tremaining: 55.1s\n",
      "600:\ttest: 0.7388123\tbest: 0.7388203 (599)\ttotal: 16.5s\tremaining: 52.1s\n",
      "700:\ttest: 0.7397516\tbest: 0.7397802 (681)\ttotal: 19.3s\tremaining: 49.5s\n",
      "800:\ttest: 0.7405707\tbest: 0.7405707 (800)\ttotal: 22s\tremaining: 46.8s\n",
      "900:\ttest: 0.7405994\tbest: 0.7407613 (877)\ttotal: 24.9s\tremaining: 44.1s\n",
      "1000:\ttest: 0.7407959\tbest: 0.7408883 (978)\ttotal: 27.8s\tremaining: 41.6s\n",
      "1100:\ttest: 0.7411637\tbest: 0.7412173 (1088)\ttotal: 30.6s\tremaining: 38.9s\n",
      "1200:\ttest: 0.7419925\tbest: 0.7420052 (1199)\ttotal: 33.4s\tremaining: 36.1s\n",
      "1300:\ttest: 0.7422323\tbest: 0.7423124 (1263)\ttotal: 36.2s\tremaining: 33.4s\n",
      "1400:\ttest: 0.7425380\tbest: 0.7426005 (1377)\ttotal: 38.7s\tremaining: 30.4s\n",
      "1500:\ttest: 0.7430533\tbest: 0.7430533 (1500)\ttotal: 41.3s\tremaining: 27.5s\n",
      "1600:\ttest: 0.7433627\tbest: 0.7434380 (1583)\ttotal: 43.9s\tremaining: 24.6s\n",
      "1700:\ttest: 0.7432536\tbest: 0.7434380 (1583)\ttotal: 46.4s\tremaining: 21.8s\n",
      "1800:\ttest: 0.7432461\tbest: 0.7434380 (1583)\ttotal: 49s\tremaining: 19s\n",
      "1900:\ttest: 0.7431150\tbest: 0.7434380 (1583)\ttotal: 51.8s\tremaining: 16.3s\n",
      "bestTest = 0.7434380054\n",
      "bestIteration = 1583\n",
      "Shrink model to first 1584 iterations.\n"
     ]
    },
    {
     "name": "stderr",
     "output_type": "stream",
     "text": [
      "Default metric period is 5 because AUC is/are not implemented for GPU\n"
     ]
    },
    {
     "name": "stdout",
     "output_type": "stream",
     "text": [
      "0:\ttest: 0.5918868\tbest: 0.5918868 (0)\ttotal: 27.2ms\tremaining: 1m 7s\n",
      "100:\ttest: 0.7450096\tbest: 0.7450677 (99)\ttotal: 2.73s\tremaining: 1m 4s\n",
      "200:\ttest: 0.7519636\tbest: 0.7519636 (200)\ttotal: 5.51s\tremaining: 1m 3s\n",
      "300:\ttest: 0.7546951\tbest: 0.7547918 (287)\ttotal: 8.25s\tremaining: 1m\n",
      "400:\ttest: 0.7558557\tbest: 0.7558671 (396)\ttotal: 11s\tremaining: 57.6s\n",
      "500:\ttest: 0.7562451\tbest: 0.7562585 (495)\ttotal: 13.7s\tremaining: 54.6s\n",
      "600:\ttest: 0.7568250\tbest: 0.7568250 (600)\ttotal: 16.3s\tremaining: 51.5s\n",
      "700:\ttest: 0.7571424\tbest: 0.7572095 (679)\ttotal: 19s\tremaining: 48.7s\n",
      "800:\ttest: 0.7580054\tbest: 0.7580489 (787)\ttotal: 21.7s\tremaining: 45.9s\n",
      "900:\ttest: 0.7574648\tbest: 0.7581587 (820)\ttotal: 24.3s\tremaining: 43.1s\n",
      "1000:\ttest: 0.7578517\tbest: 0.7581587 (820)\ttotal: 27s\tremaining: 40.4s\n",
      "1100:\ttest: 0.7581577\tbest: 0.7582395 (1077)\ttotal: 29.6s\tremaining: 37.6s\n",
      "1200:\ttest: 0.7583718\tbest: 0.7585480 (1176)\ttotal: 32.3s\tremaining: 34.9s\n",
      "1300:\ttest: 0.7586141\tbest: 0.7586141 (1300)\ttotal: 34.9s\tremaining: 32.2s\n",
      "1400:\ttest: 0.7584036\tbest: 0.7588592 (1343)\ttotal: 37.6s\tremaining: 29.5s\n",
      "1500:\ttest: 0.7585260\tbest: 0.7588592 (1343)\ttotal: 40.3s\tremaining: 26.8s\n",
      "1600:\ttest: 0.7588325\tbest: 0.7589093 (1593)\ttotal: 43s\tremaining: 24.2s\n",
      "1700:\ttest: 0.7589361\tbest: 0.7591472 (1663)\ttotal: 45.7s\tremaining: 21.5s\n",
      "1800:\ttest: 0.7592556\tbest: 0.7592873 (1792)\ttotal: 48.4s\tremaining: 18.8s\n",
      "1900:\ttest: 0.7588745\tbest: 0.7592873 (1792)\ttotal: 51.2s\tremaining: 16.1s\n",
      "2000:\ttest: 0.7589496\tbest: 0.7592873 (1792)\ttotal: 53.9s\tremaining: 13.4s\n",
      "2100:\ttest: 0.7589874\tbest: 0.7592873 (1792)\ttotal: 56.5s\tremaining: 10.7s\n",
      "bestTest = 0.7592872977\n",
      "bestIteration = 1792\n",
      "Shrink model to first 1793 iterations.\n"
     ]
    },
    {
     "name": "stderr",
     "output_type": "stream",
     "text": [
      "Default metric period is 5 because AUC is/are not implemented for GPU\n"
     ]
    },
    {
     "name": "stdout",
     "output_type": "stream",
     "text": [
      "0:\ttest: 0.6059755\tbest: 0.6059755 (0)\ttotal: 28.2ms\tremaining: 1m 10s\n",
      "100:\ttest: 0.7455274\tbest: 0.7455274 (100)\ttotal: 2.62s\tremaining: 1m 2s\n",
      "200:\ttest: 0.7528267\tbest: 0.7528880 (199)\ttotal: 5.28s\tremaining: 1m\n",
      "300:\ttest: 0.7565646\tbest: 0.7565665 (298)\ttotal: 7.89s\tremaining: 57.6s\n",
      "400:\ttest: 0.7585683\tbest: 0.7585683 (400)\ttotal: 10.5s\tremaining: 55s\n",
      "500:\ttest: 0.7591588\tbest: 0.7591999 (498)\ttotal: 13.2s\tremaining: 52.5s\n",
      "600:\ttest: 0.7596386\tbest: 0.7597714 (563)\ttotal: 15.9s\tremaining: 50.2s\n",
      "700:\ttest: 0.7598216\tbest: 0.7598812 (696)\ttotal: 18.6s\tremaining: 47.7s\n",
      "800:\ttest: 0.7599555\tbest: 0.7599555 (799)\ttotal: 21.3s\tremaining: 45.2s\n",
      "900:\ttest: 0.7602803\tbest: 0.7604053 (864)\ttotal: 24s\tremaining: 42.7s\n",
      "1000:\ttest: 0.7601245\tbest: 0.7604053 (864)\ttotal: 26.7s\tremaining: 40s\n",
      "1100:\ttest: 0.7595581\tbest: 0.7604053 (864)\ttotal: 29.4s\tremaining: 37.3s\n",
      "1200:\ttest: 0.7595074\tbest: 0.7604053 (864)\ttotal: 32.1s\tremaining: 34.7s\n",
      "bestTest = 0.760405302\n",
      "bestIteration = 864\n",
      "Shrink model to first 865 iterations.\n",
      "0.7586801652428932\n"
     ]
    }
   ],
   "source": [
    "strat_kfold = StratifiedKFold(n_splits=5, shuffle=True, random_state=42)\n",
    "\n",
    "X, y = train_.drop(['time', 'target'], axis=1), train_['target']\n",
    "scores = []\n",
    "frames_for_metamodel = []\n",
    "models = []\n",
    "for train_index, valid_index in strat_kfold.split(train, train['target']):\n",
    "    \n",
    "    X_train, X_val = X.iloc[train_index], X.iloc[valid_index]\n",
    "    y_train, y_val = y.iloc[train_index], y.iloc[valid_index]\n",
    "    \n",
    "    model = CatBoostClassifier(\n",
    "        iterations = 2500,\n",
    "        depth=4,\n",
    "        learning_rate=0.03,\n",
    "        eval_metric='AUC',\n",
    "        task_type=\"GPU\",\n",
    "        cat_features = cat_cols,\n",
    "        early_stopping_rounds=400,\n",
    "        random_seed=42,\n",
    "    )\n",
    "\n",
    "    model.fit(Pool(X_train[good_cols], y_train, cat_features=cat_cols),\n",
    "              eval_set=Pool(X_val[good_cols], y_val, cat_features=cat_cols),\n",
    "              verbose=100)\n",
    "    models.append(model)\n",
    "    \n",
    "    pred = model.predict_proba(X_val[good_cols])[:, 1]\n",
    "    frames_for_metamodel.append(pd.DataFrame({'user_id': X_val.user_id.values, 'pred_agg': pred}))\n",
    "    scores.append(metrics.roc_auc_score(y_val, pred))\n",
    "\n",
    "print(np.mean(scores))\n",
    "metadata = pd.concat(frames_for_metamodel, axis=0).reset_index(drop=True)"
   ]
  },
  {
   "cell_type": "code",
   "execution_count": null,
   "metadata": {
    "tags": []
   },
   "outputs": [],
   "source": [
    "predict = np.zeros(len(test_))\n",
    "for i in range(len(models)):\n",
    "    predict += models[i].predict_proba(test_.drop(['target'], axis=1))[:, 1]\n",
    "test_pred = {'user_id': test.user_id.values, 'pred_agg': predict}\n",
    "print(metrics.roc_auc_score(test_['target'], predict))"
   ]
  },
  {
   "cell_type": "markdown",
   "metadata": {},
   "source": [
    "#### Обучаемся на всей выборке, получаем финальные предикты"
   ]
  },
  {
   "cell_type": "code",
   "execution_count": 21,
   "metadata": {
    "collapsed": true,
    "jupyter": {
     "outputs_hidden": true
    },
    "tags": []
   },
   "outputs": [
    {
     "name": "stderr",
     "output_type": "stream",
     "text": [
      "Warning: less than 75% gpu memory available for training. Free: 2614.25 Total: 32510.5\n",
      "Default metric period is 5 because AUC is/are not implemented for GPU\n"
     ]
    },
    {
     "name": "stdout",
     "output_type": "stream",
     "text": [
      "0:\ttest: 0.6601486\tbest: 0.6601486 (0)\ttotal: 70.1ms\tremaining: 2m 55s\n",
      "100:\ttest: 0.7511503\tbest: 0.7511503 (100)\ttotal: 7.96s\tremaining: 3m 9s\n",
      "200:\ttest: 0.7588906\tbest: 0.7589512 (199)\ttotal: 15.8s\tremaining: 3m\n",
      "300:\ttest: 0.7626331\tbest: 0.7626331 (300)\ttotal: 23.6s\tremaining: 2m 52s\n",
      "400:\ttest: 0.7649797\tbest: 0.7649797 (400)\ttotal: 31.1s\tremaining: 2m 42s\n",
      "500:\ttest: 0.7667466\tbest: 0.7667974 (498)\ttotal: 38.8s\tremaining: 2m 34s\n",
      "600:\ttest: 0.7674488\tbest: 0.7674748 (588)\ttotal: 46.4s\tremaining: 2m 26s\n",
      "700:\ttest: 0.7683206\tbest: 0.7683636 (698)\ttotal: 54.2s\tremaining: 2m 18s\n",
      "800:\ttest: 0.7688682\tbest: 0.7688698 (798)\ttotal: 1m 1s\tremaining: 2m 11s\n",
      "900:\ttest: 0.7693982\tbest: 0.7693982 (900)\ttotal: 1m 9s\tremaining: 2m 3s\n",
      "1000:\ttest: 0.7703170\tbest: 0.7703170 (999)\ttotal: 1m 17s\tremaining: 1m 55s\n",
      "1100:\ttest: 0.7703819\tbest: 0.7704440 (1091)\ttotal: 1m 25s\tremaining: 1m 48s\n",
      "1200:\ttest: 0.7707353\tbest: 0.7708883 (1179)\ttotal: 1m 33s\tremaining: 1m 40s\n",
      "1300:\ttest: 0.7714486\tbest: 0.7714486 (1300)\ttotal: 1m 41s\tremaining: 1m 33s\n",
      "1400:\ttest: 0.7712385\tbest: 0.7715574 (1324)\ttotal: 1m 48s\tremaining: 1m 25s\n",
      "1500:\ttest: 0.7718930\tbest: 0.7719253 (1499)\ttotal: 1m 56s\tremaining: 1m 17s\n",
      "1600:\ttest: 0.7723366\tbest: 0.7724134 (1588)\ttotal: 2m 2s\tremaining: 1m 8s\n",
      "1700:\ttest: 0.7725440\tbest: 0.7725440 (1700)\ttotal: 2m 7s\tremaining: 1m\n",
      "1800:\ttest: 0.7727929\tbest: 0.7729034 (1782)\ttotal: 2m 16s\tremaining: 52.8s\n",
      "1900:\ttest: 0.7730541\tbest: 0.7730684 (1897)\ttotal: 2m 23s\tremaining: 45.4s\n",
      "2000:\ttest: 0.7737758\tbest: 0.7737758 (2000)\ttotal: 2m 31s\tremaining: 37.9s\n",
      "2100:\ttest: 0.7738069\tbest: 0.7739332 (2097)\ttotal: 2m 40s\tremaining: 30.4s\n",
      "2200:\ttest: 0.7740200\tbest: 0.7741213 (2185)\ttotal: 2m 48s\tremaining: 22.9s\n",
      "2300:\ttest: 0.7741637\tbest: 0.7741654 (2297)\ttotal: 2m 56s\tremaining: 15.2s\n",
      "2400:\ttest: 0.7742325\tbest: 0.7743686 (2385)\ttotal: 3m\tremaining: 7.44s\n",
      "2499:\ttest: 0.7742060\tbest: 0.7743686 (2385)\ttotal: 3m 2s\tremaining: 0us\n",
      "bestTest = 0.7743686438\n",
      "bestIteration = 2385\n",
      "Shrink model to first 2386 iterations.\n"
     ]
    },
    {
     "name": "stderr",
     "output_type": "stream",
     "text": [
      "Default metric period is 5 because AUC is/are not implemented for GPU\n"
     ]
    },
    {
     "name": "stdout",
     "output_type": "stream",
     "text": [
      "0:\ttest: 0.6558930\tbest: 0.6558930 (0)\ttotal: 27.6ms\tremaining: 1m 9s\n",
      "100:\ttest: 0.7438236\tbest: 0.7438236 (100)\ttotal: 2.55s\tremaining: 1m\n",
      "200:\ttest: 0.7496982\tbest: 0.7496982 (200)\ttotal: 5.05s\tremaining: 57.7s\n",
      "300:\ttest: 0.7521293\tbest: 0.7521410 (299)\ttotal: 7.54s\tremaining: 55.1s\n",
      "400:\ttest: 0.7536395\tbest: 0.7537355 (380)\ttotal: 9.98s\tremaining: 52.3s\n",
      "500:\ttest: 0.7551668\tbest: 0.7552093 (496)\ttotal: 12.4s\tremaining: 49.6s\n",
      "600:\ttest: 0.7554194\tbest: 0.7555002 (597)\ttotal: 14.9s\tremaining: 47.2s\n",
      "700:\ttest: 0.7561477\tbest: 0.7562600 (678)\ttotal: 17.4s\tremaining: 44.7s\n",
      "800:\ttest: 0.7566285\tbest: 0.7566368 (790)\ttotal: 19.9s\tremaining: 42.2s\n",
      "900:\ttest: 0.7569321\tbest: 0.7571386 (880)\ttotal: 22.3s\tremaining: 39.6s\n",
      "1000:\ttest: 0.7570937\tbest: 0.7571710 (988)\ttotal: 24.8s\tremaining: 37.2s\n",
      "1100:\ttest: 0.7571592\tbest: 0.7572577 (1098)\ttotal: 27.3s\tremaining: 34.7s\n",
      "1200:\ttest: 0.7572744\tbest: 0.7573255 (1172)\ttotal: 29.7s\tremaining: 32.1s\n",
      "1300:\ttest: 0.7577220\tbest: 0.7577263 (1299)\ttotal: 32.2s\tremaining: 29.6s\n",
      "1400:\ttest: 0.7578650\tbest: 0.7579169 (1358)\ttotal: 34.8s\tremaining: 27.3s\n",
      "1500:\ttest: 0.7579329\tbest: 0.7579329 (1499)\ttotal: 37.3s\tremaining: 24.8s\n",
      "1600:\ttest: 0.7580107\tbest: 0.7580144 (1566)\ttotal: 39.7s\tremaining: 22.3s\n",
      "1700:\ttest: 0.7579823\tbest: 0.7580914 (1663)\ttotal: 42.1s\tremaining: 19.8s\n",
      "1800:\ttest: 0.7580017\tbest: 0.7580914 (1663)\ttotal: 44.7s\tremaining: 17.4s\n",
      "1900:\ttest: 0.7581633\tbest: 0.7581633 (1900)\ttotal: 47.2s\tremaining: 14.9s\n",
      "2000:\ttest: 0.7583565\tbest: 0.7583565 (2000)\ttotal: 49.8s\tremaining: 12.4s\n",
      "2100:\ttest: 0.7584595\tbest: 0.7586533 (2047)\ttotal: 52.3s\tremaining: 9.92s\n",
      "2200:\ttest: 0.7584241\tbest: 0.7586533 (2047)\ttotal: 54.8s\tremaining: 7.44s\n",
      "2300:\ttest: 0.7583570\tbest: 0.7586533 (2047)\ttotal: 57.2s\tremaining: 4.95s\n",
      "2400:\ttest: 0.7583648\tbest: 0.7586533 (2047)\ttotal: 59.8s\tremaining: 2.46s\n",
      "bestTest = 0.7586533427\n",
      "bestIteration = 2047\n",
      "Shrink model to first 2048 iterations.\n"
     ]
    },
    {
     "name": "stderr",
     "output_type": "stream",
     "text": [
      "Default metric period is 5 because AUC is/are not implemented for GPU\n"
     ]
    },
    {
     "name": "stdout",
     "output_type": "stream",
     "text": [
      "0:\ttest: 0.6359078\tbest: 0.6359078 (0)\ttotal: 25.9ms\tremaining: 1m 4s\n",
      "100:\ttest: 0.7237568\tbest: 0.7237568 (100)\ttotal: 2.52s\tremaining: 60s\n",
      "200:\ttest: 0.7304130\tbest: 0.7305022 (196)\ttotal: 5.03s\tremaining: 57.5s\n",
      "300:\ttest: 0.7332883\tbest: 0.7332883 (300)\ttotal: 7.53s\tremaining: 55s\n",
      "400:\ttest: 0.7355776\tbest: 0.7355776 (400)\ttotal: 9.99s\tremaining: 52.3s\n",
      "500:\ttest: 0.7373537\tbest: 0.7373537 (500)\ttotal: 12.5s\tremaining: 49.8s\n",
      "600:\ttest: 0.7385002\tbest: 0.7385470 (598)\ttotal: 15s\tremaining: 47.3s\n",
      "700:\ttest: 0.7385830\tbest: 0.7388240 (674)\ttotal: 17.4s\tremaining: 44.8s\n",
      "800:\ttest: 0.7393076\tbest: 0.7393076 (800)\ttotal: 19.9s\tremaining: 42.2s\n",
      "900:\ttest: 0.7396082\tbest: 0.7396200 (899)\ttotal: 22.4s\tremaining: 39.8s\n",
      "1000:\ttest: 0.7396098\tbest: 0.7396611 (997)\ttotal: 25.1s\tremaining: 37.6s\n",
      "1100:\ttest: 0.7402741\tbest: 0.7402741 (1100)\ttotal: 27.6s\tremaining: 35s\n",
      "1200:\ttest: 0.7406537\tbest: 0.7407002 (1165)\ttotal: 30.1s\tremaining: 32.5s\n",
      "1300:\ttest: 0.7407123\tbest: 0.7407664 (1294)\ttotal: 32.6s\tremaining: 30s\n",
      "1400:\ttest: 0.7410561\tbest: 0.7411528 (1380)\ttotal: 35.1s\tremaining: 27.5s\n",
      "1500:\ttest: 0.7414705\tbest: 0.7414705 (1500)\ttotal: 37.6s\tremaining: 25.1s\n",
      "1600:\ttest: 0.7418905\tbest: 0.7419596 (1585)\ttotal: 40.1s\tremaining: 22.5s\n",
      "1700:\ttest: 0.7418648\tbest: 0.7419596 (1585)\ttotal: 42.7s\tremaining: 20s\n",
      "1800:\ttest: 0.7421643\tbest: 0.7421643 (1800)\ttotal: 45.2s\tremaining: 17.5s\n",
      "1900:\ttest: 0.7420145\tbest: 0.7422103 (1824)\ttotal: 47.7s\tremaining: 15s\n",
      "2000:\ttest: 0.7418672\tbest: 0.7422103 (1824)\ttotal: 50.2s\tremaining: 12.5s\n",
      "2100:\ttest: 0.7422630\tbest: 0.7422630 (2100)\ttotal: 52.8s\tremaining: 10s\n",
      "2200:\ttest: 0.7423909\tbest: 0.7424775 (2146)\ttotal: 55.3s\tremaining: 7.52s\n",
      "2300:\ttest: 0.7424151\tbest: 0.7424849 (2244)\ttotal: 57.8s\tremaining: 5s\n",
      "2400:\ttest: 0.7427431\tbest: 0.7427638 (2366)\ttotal: 1m\tremaining: 2.49s\n",
      "2499:\ttest: 0.7429776\tbest: 0.7430093 (2487)\ttotal: 1m 3s\tremaining: 0us\n",
      "bestTest = 0.7430092692\n",
      "bestIteration = 2487\n",
      "Shrink model to first 2488 iterations.\n"
     ]
    },
    {
     "name": "stderr",
     "output_type": "stream",
     "text": [
      "Default metric period is 5 because AUC is/are not implemented for GPU\n"
     ]
    },
    {
     "name": "stdout",
     "output_type": "stream",
     "text": [
      "0:\ttest: 0.6526109\tbest: 0.6526109 (0)\ttotal: 30.2ms\tremaining: 1m 15s\n",
      "100:\ttest: 0.7464590\tbest: 0.7464590 (100)\ttotal: 2.83s\tremaining: 1m 7s\n",
      "200:\ttest: 0.7522999\tbest: 0.7522999 (200)\ttotal: 5.44s\tremaining: 1m 2s\n",
      "300:\ttest: 0.7543421\tbest: 0.7543421 (300)\ttotal: 8.22s\tremaining: 1m\n",
      "400:\ttest: 0.7550912\tbest: 0.7551700 (393)\ttotal: 11s\tremaining: 57.5s\n",
      "500:\ttest: 0.7554735\tbest: 0.7554947 (478)\ttotal: 13.7s\tremaining: 54.6s\n",
      "600:\ttest: 0.7553039\tbest: 0.7556047 (586)\ttotal: 16.4s\tremaining: 51.7s\n",
      "700:\ttest: 0.7555910\tbest: 0.7557474 (672)\ttotal: 19.2s\tremaining: 49.2s\n",
      "800:\ttest: 0.7560585\tbest: 0.7560597 (796)\ttotal: 21.9s\tremaining: 46.5s\n",
      "900:\ttest: 0.7561322\tbest: 0.7562135 (849)\ttotal: 24.7s\tremaining: 43.9s\n",
      "1000:\ttest: 0.7565295\tbest: 0.7566628 (990)\ttotal: 27.5s\tremaining: 41.2s\n",
      "1100:\ttest: 0.7566333\tbest: 0.7566956 (1087)\ttotal: 30.3s\tremaining: 38.6s\n",
      "1200:\ttest: 0.7566116\tbest: 0.7567443 (1160)\ttotal: 33.3s\tremaining: 36.1s\n",
      "1300:\ttest: 0.7564768\tbest: 0.7567443 (1160)\ttotal: 36.1s\tremaining: 33.3s\n",
      "1400:\ttest: 0.7565072\tbest: 0.7567443 (1160)\ttotal: 38.9s\tremaining: 30.5s\n",
      "1500:\ttest: 0.7564905\tbest: 0.7567443 (1160)\ttotal: 41.7s\tremaining: 27.8s\n",
      "bestTest = 0.7567443252\n",
      "bestIteration = 1160\n",
      "Shrink model to first 1161 iterations.\n"
     ]
    },
    {
     "name": "stderr",
     "output_type": "stream",
     "text": [
      "Default metric period is 5 because AUC is/are not implemented for GPU\n"
     ]
    },
    {
     "name": "stdout",
     "output_type": "stream",
     "text": [
      "0:\ttest: 0.6372829\tbest: 0.6372829 (0)\ttotal: 28ms\tremaining: 1m 9s\n",
      "100:\ttest: 0.7480826\tbest: 0.7481413 (97)\ttotal: 2.75s\tremaining: 1m 5s\n",
      "200:\ttest: 0.7538459\tbest: 0.7538677 (199)\ttotal: 5.51s\tremaining: 1m 3s\n",
      "300:\ttest: 0.7560039\tbest: 0.7560073 (299)\ttotal: 8.23s\tremaining: 1m\n",
      "400:\ttest: 0.7565473\tbest: 0.7566472 (397)\ttotal: 10.9s\tremaining: 57.2s\n",
      "500:\ttest: 0.7576328\tbest: 0.7577152 (497)\ttotal: 13.7s\tremaining: 54.8s\n",
      "600:\ttest: 0.7579629\tbest: 0.7580968 (582)\ttotal: 16.4s\tremaining: 51.9s\n",
      "700:\ttest: 0.7580413\tbest: 0.7580968 (582)\ttotal: 19.1s\tremaining: 49s\n",
      "800:\ttest: 0.7585921\tbest: 0.7586914 (796)\ttotal: 21.8s\tremaining: 46.1s\n",
      "900:\ttest: 0.7590770\tbest: 0.7591980 (864)\ttotal: 24.5s\tremaining: 43.5s\n",
      "1000:\ttest: 0.7587047\tbest: 0.7592618 (920)\ttotal: 27.2s\tremaining: 40.7s\n",
      "1100:\ttest: 0.7588639\tbest: 0.7592618 (920)\ttotal: 29.8s\tremaining: 37.8s\n",
      "1200:\ttest: 0.7590678\tbest: 0.7592618 (920)\ttotal: 32.4s\tremaining: 35s\n",
      "1300:\ttest: 0.7590432\tbest: 0.7592618 (920)\ttotal: 35s\tremaining: 32.3s\n",
      "bestTest = 0.7592618465\n",
      "bestIteration = 920\n",
      "Shrink model to first 921 iterations.\n",
      "0.7584074393821038\n"
     ]
    }
   ],
   "source": [
    "strat_kfold = StratifiedKFold(n_splits=5, shuffle=True, random_state=42)\n",
    "\n",
    "X, y = train.drop(['time', 'target'], axis=1), train['target']\n",
    "scores = []\n",
    "\n",
    "models = []\n",
    "for train_index, valid_index in strat_kfold.split(train, train['target']):\n",
    "    \n",
    "    X_train, X_val = X.iloc[train_index], X.iloc[valid_index]\n",
    "    y_train, y_val = y.iloc[train_index], y.iloc[valid_index]\n",
    "    \n",
    "    model = CatBoostClassifier(\n",
    "        iterations = 2500,\n",
    "        depth=4,\n",
    "        learning_rate=0.03,\n",
    "        eval_metric='AUC',\n",
    "        task_type=\"GPU\",\n",
    "        cat_features = cat_cols,\n",
    "        early_stopping_rounds=400,\n",
    "        random_seed=42,\n",
    "    )\n",
    "\n",
    "    model.fit(Pool(X_train[good_cols], y_train, cat_features=cat_cols),\n",
    "              eval_set=Pool(X_val[good_cols], y_val, cat_features=cat_cols),\n",
    "              verbose=100)\n",
    "    models.append(model)\n",
    "    \n",
    "    pred = model.predict_proba(X_val[good_cols])[:, 1]\n",
    "    scores.append(metrics.roc_auc_score(y_val, pred))\n",
    "\n",
    "print(np.mean(scores))"
   ]
  },
  {
   "cell_type": "code",
   "execution_count": null,
   "metadata": {},
   "outputs": [],
   "source": [
    "predict = np.zeros(len(test))\n",
    "for i in range(len(models)):\n",
    "    predict += models[i].predict_proba(test[good_cols])[:, 1]\n",
    "real_pred = {'user_id': test.user_id.values, 'pred_agg': predict}"
   ]
  },
  {
   "cell_type": "code",
   "execution_count": null,
   "metadata": {},
   "outputs": [],
   "source": [
    "metadata = pd.concat([metadata, test_pred, real_pred])\n",
    "metadata['pred_time'] = metadata['pred_time']/5\n",
    "metadata.to_csv('../predict/time_pred_meta.csv', index=False)"
   ]
  }
 ],
 "metadata": {
  "kernelspec": {
   "display_name": "sergeev-kernel",
   "language": "python",
   "name": "sergeev-kernel"
  },
  "language_info": {
   "codemirror_mode": {
    "name": "ipython",
    "version": 3
   },
   "file_extension": ".py",
   "mimetype": "text/x-python",
   "name": "python",
   "nbconvert_exporter": "python",
   "pygments_lexer": "ipython3",
   "version": "3.8.18"
  }
 },
 "nbformat": 4,
 "nbformat_minor": 4
}
